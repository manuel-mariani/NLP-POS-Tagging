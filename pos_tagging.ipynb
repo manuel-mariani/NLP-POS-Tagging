{
 "cells": [
  {
   "cell_type": "markdown",
   "metadata": {
    "id": "lWqbqbGHGA_K"
   },
   "source": [
    "# Assignment 1: Part Of Speech Tagging\n",
    "\n",
    "---\n",
    "\n",
    "Francesco Ballerini `francesco.ballerini3@studio.unibo.it`\n",
    "\n",
    "Emmanuele Bollino `emmanuele.bollino@studio.unibo.it`\n",
    "\n",
    "Tommaso Giannuli `tommaso.giannuli@studio.unibo.it`\n",
    "\n",
    "Manuel Mariani `manuel.mariani2@studio.unibo.it`\n",
    "\n",
    "---\n",
    "\n",
    "A.Y. 2021–22\n",
    "\n",
    "University of Bologna"
   ]
  },
  {
   "cell_type": "markdown",
   "metadata": {
    "id": "v3B9biLeVvc1"
   },
   "source": [
    "# Imports and Dependencies"
   ]
  },
  {
   "cell_type": "code",
   "execution_count": 1,
   "metadata": {
    "executionInfo": {
     "elapsed": 80569,
     "status": "ok",
     "timestamp": 1639661522949,
     "user": {
      "displayName": "Francesco Ballerini",
      "photoUrl": "https://lh3.googleusercontent.com/a-/AOh14Gg-R7R-HjBq_dn0hwuUoDXC2RwAVd1JXz6dReMZ3g=s64",
      "userId": "00684324433983888967"
     },
     "user_tz": -60
    },
    "id": "5gGKx_NUXMyG"
   },
   "outputs": [
    {
     "name": "stdout",
     "output_type": "stream",
     "text": [
      "Note: you may need to restart the kernel to use updated packages.\n"
     ]
    }
   ],
   "source": [
    "# Dependency management\n",
    "# IMPORTANT: for Colab, append --upgrade --no-deps --force-reinstall\n",
    "%pip install tensorflow==2.7.0 numpy==1.21.4 pandas==1.3.4 requests==2.26.0 gensim==4.1.2 wandb==0.12.7 shortuuid==1.0.8 sentry-sdk==1.5.0 pathtools==0.1.2 sortedcontainers==2.4.0 jinja2==3.0.3 plotly==5.4.0 tenacity==8.0.1 kaleido==0.2.1 -qqq"
   ]
  },
  {
   "cell_type": "code",
   "execution_count": 2,
   "metadata": {
    "executionInfo": {
     "elapsed": 3243,
     "status": "ok",
     "timestamp": 1639661526185,
     "user": {
      "displayName": "Francesco Ballerini",
      "photoUrl": "https://lh3.googleusercontent.com/a-/AOh14Gg-R7R-HjBq_dn0hwuUoDXC2RwAVd1JXz6dReMZ3g=s64",
      "userId": "00684324433983888967"
     },
     "user_tz": -60
    },
    "id": "aqL3ZfSKXMyI"
   },
   "outputs": [],
   "source": [
    "# Disable tensorflow warnings\n",
    "import os\n",
    "import tensorflow as tf\n",
    "import logging\n",
    "\n",
    "os.environ['TF_CPP_MIN_LOG_LEVEL'] = '3'\n",
    "tf.autograph.set_verbosity(0)\n",
    "logging.getLogger('tensorflow').setLevel(logging.ERROR)"
   ]
  },
  {
   "cell_type": "code",
   "execution_count": 3,
   "metadata": {
    "executionInfo": {
     "elapsed": 1380,
     "status": "ok",
     "timestamp": 1639661527562,
     "user": {
      "displayName": "Francesco Ballerini",
      "photoUrl": "https://lh3.googleusercontent.com/a-/AOh14Gg-R7R-HjBq_dn0hwuUoDXC2RwAVd1JXz6dReMZ3g=s64",
      "userId": "00684324433983888967"
     },
     "user_tz": -60
    },
    "id": "P77geJrLXMyI"
   },
   "outputs": [],
   "source": [
    "# Text pre-processing\n",
    "from tensorflow.keras.preprocessing.text import Tokenizer\n",
    "from tensorflow.keras.preprocessing.sequence import pad_sequences\n",
    "from tensorflow.keras.utils import to_categorical\n",
    "\n",
    "# Model definition\n",
    "from tensorflow.keras.models import Sequential, load_model\n",
    "from tensorflow.keras.layers import Embedding, LSTM, GRU, Bidirectional, Dense\n",
    "from tensorflow.keras.optimizers import Adam\n",
    "from tensorflow.keras.callbacks import ModelCheckpoint\n",
    "\n",
    "# Data packages\n",
    "import numpy as np\n",
    "import pandas as pd\n",
    "\n",
    "# System packages\n",
    "import glob\n",
    "import os\n",
    "import logging\n",
    "\n",
    "# Cloning\n",
    "from copy import deepcopy\n",
    "\n",
    "# File management\n",
    "import requests\n",
    "import zipfile\n",
    "import io\n",
    "from pathlib import Path\n",
    "\n",
    "# Notebook visualization\n",
    "from IPython.core.display import display, HTML\n",
    "\n",
    "# Typing\n",
    "from typing import List, Dict, Tuple\n",
    "from sortedcontainers import SortedSet\n",
    "\n",
    "# For GloVe wrapper\n",
    "from gensim import downloader as gensloader\n",
    "from gensim.models.keyedvectors import KeyedVectors\n",
    "\n",
    "# Plotting\n",
    "import plotly.express as px\n",
    "import wandb\n",
    "from wandb.keras import WandbCallback\n",
    "\n",
    "# Metrics and utility\n",
    "from sklearn.metrics import confusion_matrix, classification_report\n",
    "from sklearn.utils.class_weight import compute_class_weight\n",
    "import time"
   ]
  },
  {
   "cell_type": "code",
   "execution_count": 4,
   "metadata": {
    "executionInfo": {
     "elapsed": 5,
     "status": "ok",
     "timestamp": 1639661527563,
     "user": {
      "displayName": "Francesco Ballerini",
      "photoUrl": "https://lh3.googleusercontent.com/a-/AOh14Gg-R7R-HjBq_dn0hwuUoDXC2RwAVd1JXz6dReMZ3g=s64",
      "userId": "00684324433983888967"
     },
     "user_tz": -60
    },
    "id": "pQlR2vl0XMyJ"
   },
   "outputs": [],
   "source": [
    "# Set the seeds\n",
    "SEED = 42\n",
    "tf.random.set_seed(SEED)\n",
    "np.random.seed(SEED)"
   ]
  },
  {
   "cell_type": "markdown",
   "metadata": {
    "id": "RUwHwCUJEFpJ"
   },
   "source": [
    "# 1 - Data Pipeline"
   ]
  },
  {
   "cell_type": "markdown",
   "metadata": {
    "id": "oO1uB0GnGA_R"
   },
   "source": [
    "## 1.1 - Data Loading\n",
    "First of all, we load the dataset and store it into a dataframe."
   ]
  },
  {
   "cell_type": "code",
   "execution_count": 5,
   "metadata": {
    "colab": {
     "base_uri": "https://localhost:8080/",
     "height": 204
    },
    "executionInfo": {
     "elapsed": 369,
     "status": "ok",
     "timestamp": 1639661527929,
     "user": {
      "displayName": "Francesco Ballerini",
      "photoUrl": "https://lh3.googleusercontent.com/a-/AOh14Gg-R7R-HjBq_dn0hwuUoDXC2RwAVd1JXz6dReMZ3g=s64",
      "userId": "00684324433983888967"
     },
     "user_tz": -60
    },
    "id": "5DZ9xoLeXMyK",
    "outputId": "a7eb9e8a-f274-42a5-95f5-1a1fabf13f2a"
   },
   "outputs": [
    {
     "data": {
      "text/html": [
       "<div>\n",
       "<style scoped>\n",
       "    .dataframe tbody tr th:only-of-type {\n",
       "        vertical-align: middle;\n",
       "    }\n",
       "\n",
       "    .dataframe tbody tr th {\n",
       "        vertical-align: top;\n",
       "    }\n",
       "\n",
       "    .dataframe thead th {\n",
       "        text-align: right;\n",
       "    }\n",
       "</style>\n",
       "<table border=\"1\" class=\"dataframe\">\n",
       "  <thead>\n",
       "    <tr style=\"text-align: right;\">\n",
       "      <th></th>\n",
       "      <th>document</th>\n",
       "      <th>sentence</th>\n",
       "      <th>token</th>\n",
       "      <th>tag</th>\n",
       "    </tr>\n",
       "  </thead>\n",
       "  <tbody>\n",
       "    <tr>\n",
       "      <th>0</th>\n",
       "      <td>0</td>\n",
       "      <td>0</td>\n",
       "      <td>Pierre</td>\n",
       "      <td>NNP</td>\n",
       "    </tr>\n",
       "    <tr>\n",
       "      <th>1</th>\n",
       "      <td>0</td>\n",
       "      <td>0</td>\n",
       "      <td>Vinken</td>\n",
       "      <td>NNP</td>\n",
       "    </tr>\n",
       "    <tr>\n",
       "      <th>2</th>\n",
       "      <td>0</td>\n",
       "      <td>0</td>\n",
       "      <td>,</td>\n",
       "      <td>,</td>\n",
       "    </tr>\n",
       "    <tr>\n",
       "      <th>3</th>\n",
       "      <td>0</td>\n",
       "      <td>0</td>\n",
       "      <td>61</td>\n",
       "      <td>CD</td>\n",
       "    </tr>\n",
       "    <tr>\n",
       "      <th>4</th>\n",
       "      <td>0</td>\n",
       "      <td>0</td>\n",
       "      <td>years</td>\n",
       "      <td>NNS</td>\n",
       "    </tr>\n",
       "  </tbody>\n",
       "</table>\n",
       "</div>"
      ],
      "text/plain": [
       "   document  sentence   token  tag\n",
       "0         0         0  Pierre  NNP\n",
       "1         0         0  Vinken  NNP\n",
       "2         0         0       ,    ,\n",
       "3         0         0      61   CD\n",
       "4         0         0   years  NNS"
      ]
     },
     "execution_count": 5,
     "metadata": {},
     "output_type": "execute_result"
    }
   ],
   "source": [
    "DATASET_PATH = './dependency_treebank'  # Change if dataset already present locally\n",
    "DATASET_URL = 'https://raw.githubusercontent.com/nltk/nltk_data/gh-pages/packages/corpora/dependency_treebank.zip'\n",
    "\n",
    "\n",
    "def load_dataset(ds_path: str, ds_url: str) -> pd.DataFrame:\n",
    "    # Check if dataset is already present, otherwise download it\n",
    "    if not Path(ds_path).exists():\n",
    "        request_zip = requests.get(ds_url, stream=True)\n",
    "        zip = zipfile.ZipFile(io.BytesIO(request_zip.content))\n",
    "        zip.extractall()\n",
    "\n",
    "    # Load each file into a list\n",
    "    documents = []\n",
    "    for file_name in sorted(glob.glob(f\"{ds_path}/*.dp\")):\n",
    "        with open(file_name) as f:\n",
    "            documents.append(f.read())\n",
    "\n",
    "    # Convert each row of the documents into a list\n",
    "    raw_df = []\n",
    "    sentence_idx = 0\n",
    "    for doc_idx, doc in enumerate(documents):\n",
    "        rows = doc.split('\\n')\n",
    "        for row in rows:\n",
    "            cols = row.split('\\t')[:2]  # Ignore the last column\n",
    "            if cols == ['']:\n",
    "                sentence_idx += 1\n",
    "            else:\n",
    "                raw_df.append([doc_idx, sentence_idx, *cols])\n",
    "\n",
    "    # Finally, convert the nested list into a pandas dataframe\n",
    "    df = pd.DataFrame(raw_df, columns=['document', 'sentence', 'token', 'tag'])\n",
    "    return df\n",
    "\n",
    "\n",
    "dataset = load_dataset(DATASET_PATH, DATASET_URL)\n",
    "dataset.head()"
   ]
  },
  {
   "cell_type": "markdown",
   "metadata": {
    "id": "jI9ECEh3Vvc6"
   },
   "source": [
    "## 1.2 - GloVe Loading\n",
    "Then, we load the GloVe embeddings (GloVe-50, to be precise)."
   ]
  },
  {
   "cell_type": "code",
   "execution_count": 6,
   "metadata": {
    "executionInfo": {
     "elapsed": 258,
     "status": "ok",
     "timestamp": 1639661528181,
     "user": {
      "displayName": "Francesco Ballerini",
      "photoUrl": "https://lh3.googleusercontent.com/a-/AOh14Gg-R7R-HjBq_dn0hwuUoDXC2RwAVd1JXz6dReMZ3g=s64",
      "userId": "00684324433983888967"
     },
     "user_tz": -60
    },
    "id": "4GUnnYd2XMyM"
   },
   "outputs": [],
   "source": [
    "EMB_DIM = 50\n",
    "GLOVE_TYPE = f'glove-wiki-gigaword-{EMB_DIM}'\n",
    "GLOVE_FILE = f'./glove/glove-wiki-gigaword-{EMB_DIM}.kv'\n",
    "\n",
    "\n",
    "def load_glove(gl_file: str, gl_type: str) -> KeyedVectors:\n",
    "    # Load local version\n",
    "    path = Path(gl_file)\n",
    "    if path.exists():\n",
    "        return KeyedVectors.load(gl_file)\n",
    "\n",
    "    # Otherwise download and store glove\n",
    "    path.parent.mkdir(parents=True, exist_ok=True)\n",
    "    glove = gensloader.load(gl_type)\n",
    "    glove.save(gl_file)\n",
    "    return glove\n",
    "\n",
    "\n",
    "glove = load_glove(GLOVE_FILE, GLOVE_TYPE)"
   ]
  },
  {
   "cell_type": "markdown",
   "metadata": {
    "id": "VJwW2BJ_Eted"
   },
   "source": [
    "## 1.3 - Pre-processing\n",
    "Our dataset is already relatively clean; however, one point that might be worth considering is how to handle lowercase conversions. Some tokens in our dataset will be intrinsically capitalized (e.g. proper nouns, the personal pronoun \"I\"), whereas some other will be capitalized only because they follow a period in the sentence they occur in.\n",
    "\n",
    "One might think of converting a token to lowercase based on its tag (e.g. if a token is a proper noun, keep it capitalized); however, to be fair, this could only be done on the training set, since in a real scenario test-set tags would be unknown.\n",
    "\n",
    "Anyway, all these considerations hold only if GloVe contains embeddings of capitalized words; if that's not the case, every word we keep as capitalized will be classified as OOV when matched with GloVe, even when their lowercase embedding actually exists.\n",
    "\n",
    "As it turns out, Glove does not encode capitalized words:\n"
   ]
  },
  {
   "cell_type": "code",
   "execution_count": 7,
   "metadata": {
    "colab": {
     "base_uri": "https://localhost:8080/"
    },
    "executionInfo": {
     "elapsed": 19,
     "status": "ok",
     "timestamp": 1639661528488,
     "user": {
      "displayName": "Francesco Ballerini",
      "photoUrl": "https://lh3.googleusercontent.com/a-/AOh14Gg-R7R-HjBq_dn0hwuUoDXC2RwAVd1JXz6dReMZ3g=s64",
      "userId": "00684324433983888967"
     },
     "user_tz": -60
    },
    "id": "GWwIDwR0XMyN",
    "outputId": "241bf660-a265-4b3a-c912-09599fa7cafa"
   },
   "outputs": [
    {
     "name": "stdout",
     "output_type": "stream",
     "text": [
      "GloVe-50 encodes 0 capitalized words\n"
     ]
    }
   ],
   "source": [
    "num_capitalized = len(list(filter(lambda w: w[0].isupper(), glove.key_to_index.keys())))\n",
    "\n",
    "print(f'GloVe-50 encodes {num_capitalized} capitalized words')"
   ]
  },
  {
   "cell_type": "markdown",
   "metadata": {
    "id": "5kqy2eiLVvdC"
   },
   "source": [
    "Therefore, we will be forced to convert all tokens to lowercase.\n",
    "\n",
    "We are also interested to see which \"special\" tokens are encoded in GloVe, i.e. punctuation, quotation marks, and tokens such as \"-LRB-\" and \"-RRB-\", which in our dataset replace \"(\" and \")\", respectively.\n",
    "\n",
    "As it turns out, GloVe contains every special symbol we care about, except for tokens reserved to brackets:"
   ]
  },
  {
   "cell_type": "code",
   "execution_count": 8,
   "metadata": {
    "colab": {
     "base_uri": "https://localhost:8080/"
    },
    "executionInfo": {
     "elapsed": 16,
     "status": "ok",
     "timestamp": 1639661528488,
     "user": {
      "displayName": "Francesco Ballerini",
      "photoUrl": "https://lh3.googleusercontent.com/a-/AOh14Gg-R7R-HjBq_dn0hwuUoDXC2RwAVd1JXz6dReMZ3g=s64",
      "userId": "00684324433983888967"
     },
     "user_tz": -60
    },
    "id": "NCOdHlsxXMyO",
    "outputId": "42985dde-8f35-4f62-c930-afe86ea58752"
   },
   "outputs": [
    {
     "name": "stdout",
     "output_type": "stream",
     "text": [
      "GloVe does not contain token -LRB-\n",
      "GloVe does not contain token -RRB-\n",
      "GloVe does not contain token -LSB-\n",
      "GloVe does not contain token -RSB-\n",
      "GloVe does not contain token -LCB-\n",
      "GloVe does not contain token -RCB-\n"
     ]
    }
   ],
   "source": [
    "special_tokens = [\n",
    "    *',.:;\"`$#£!%/?^-()[]{}_', \"''\", \"``\", \"--\", \"-LRB-\", \"-RRB-\", \"-LSB-\", \"-RSB-\", \"-LCB-\",\n",
    "    \"-RCB-\"\n",
    "]\n",
    "for st in special_tokens:\n",
    "    if st not in glove:\n",
    "        print(f'GloVe does not contain token {st}')"
   ]
  },
  {
   "cell_type": "markdown",
   "metadata": {
    "id": "S2B391arVvdD"
   },
   "source": [
    "Based on the previous considerations, we convert all tokens to lowercase and replace \"-LRB\"-like symbols with the corresponding bracket."
   ]
  },
  {
   "cell_type": "code",
   "execution_count": 9,
   "metadata": {
    "executionInfo": {
     "elapsed": 11,
     "status": "ok",
     "timestamp": 1639661528489,
     "user": {
      "displayName": "Francesco Ballerini",
      "photoUrl": "https://lh3.googleusercontent.com/a-/AOh14Gg-R7R-HjBq_dn0hwuUoDXC2RwAVd1JXz6dReMZ3g=s64",
      "userId": "00684324433983888967"
     },
     "user_tz": -60
    },
    "id": "HHOeVY_fXMyP"
   },
   "outputs": [],
   "source": [
    "# Convert the brackets\n",
    "for token, bracket in [('-LRB-', '('), ('-RRB-', ')'), ('-LSB-', '['), ('-RSB-', ']'),\n",
    "                       ('-LCB-', '{'), ('-RCB-', '}')]:\n",
    "    dataset.loc[dataset.token == token, 'token'] = bracket\n",
    "\n",
    "# Convert dataset tokens to lowercase\n",
    "dataset.loc[:, 'token'] = dataset['token'].str.lower()"
   ]
  },
  {
   "cell_type": "markdown",
   "metadata": {
    "id": "SLuhT_wCVvdE"
   },
   "source": [
    "## 1.4 - Splitting\n",
    "After pre-processing the data, we can split the dataset into train, validation and test sets."
   ]
  },
  {
   "cell_type": "code",
   "execution_count": 10,
   "metadata": {
    "colab": {
     "base_uri": "https://localhost:8080/"
    },
    "executionInfo": {
     "elapsed": 10,
     "status": "ok",
     "timestamp": 1639661528489,
     "user": {
      "displayName": "Francesco Ballerini",
      "photoUrl": "https://lh3.googleusercontent.com/a-/AOh14Gg-R7R-HjBq_dn0hwuUoDXC2RwAVd1JXz6dReMZ3g=s64",
      "userId": "00684324433983888967"
     },
     "user_tz": -60
    },
    "id": "7c-dI9PIXMyQ",
    "outputId": "91c0ffea-d749-42e4-d81a-a24507cc0d9a"
   },
   "outputs": [
    {
     "name": "stdout",
     "output_type": "stream",
     "text": [
      "Dataset split: \n",
      "    TRAIN: 100 documents, 47356 tokens\n",
      "    VALIDATION: 50 documents, 31183 tokens\n",
      "    TEST: 49 documents, 15545 tokens\n",
      "\n"
     ]
    }
   ],
   "source": [
    "TRAIN_DOC_UB = 99\n",
    "TEST_DOC_LB = 150\n",
    "\n",
    "ds_train = dataset[dataset['document'].le(TRAIN_DOC_UB)]\n",
    "ds_val = dataset[dataset['document'].between(TRAIN_DOC_UB, TEST_DOC_LB,\n",
    "                                             inclusive='neither')].reset_index()\n",
    "ds_test = dataset[dataset['document'].ge(TEST_DOC_LB)].reset_index()\n",
    "\n",
    "print_split = lambda df: f\"{df.groupby('document').ngroups} documents, {len(df)} tokens\"\n",
    "print(f\"\"\"Dataset split: \n",
    "    TRAIN: {print_split(ds_train)}\n",
    "    VALIDATION: {print_split(ds_val)}\n",
    "    TEST: {print_split(ds_test)}\n",
    "\"\"\")"
   ]
  },
  {
   "cell_type": "markdown",
   "metadata": {
    "id": "70PQNGtHVvdE"
   },
   "source": [
    "## 1.5 - OOV Handling"
   ]
  },
  {
   "cell_type": "markdown",
   "metadata": {
    "id": "Dii_iOaHI4t1"
   },
   "source": [
    "### 1.5.1 - OOV Analysis\n",
    "First of all, let us take a look at how many Out-Of-Vocabulary tokens (w.r.t. GloVe) our dataset contains. In order to simulate a real-world scenario, in which test samples are not readily available at training time, we are going to check (and then handle) OOVs *incrementally*; that is, we will consider:\n",
    "* **OOV1:** training-set tokens which are not found in V1 = GloVe.\n",
    "* **OOV2:** validation-set tokens which are not found in V2 = `union(`V1, OOV1`)`.\n",
    "* **OOV3:** test-set tokens which are not found in V3 = `union(`V2, OOV2`)`.\n",
    "\n",
    "Our final vocabulary will be V4 = `union(`V3, OOV3`)` = `union(`GloVe, OOV1, OOV2, OOV3)."
   ]
  },
  {
   "cell_type": "code",
   "execution_count": 11,
   "metadata": {
    "colab": {
     "base_uri": "https://localhost:8080/"
    },
    "executionInfo": {
     "elapsed": 4069,
     "status": "ok",
     "timestamp": 1639661532553,
     "user": {
      "displayName": "Francesco Ballerini",
      "photoUrl": "https://lh3.googleusercontent.com/a-/AOh14Gg-R7R-HjBq_dn0hwuUoDXC2RwAVd1JXz6dReMZ3g=s64",
      "userId": "00684324433983888967"
     },
     "user_tz": -60
    },
    "id": "63Ce24JgXMyR",
    "outputId": "21e465ea-3181-4044-cca6-4bc51120ec03"
   },
   "outputs": [
    {
     "name": "stdout",
     "output_type": "stream",
     "text": [
      "OOV1:  355 tokens\n",
      "OOV2:  189 tokens\n",
      "OOV3:  128 tokens\n",
      "Total: 672 tokens (6.14% of dataset)\n"
     ]
    }
   ],
   "source": [
    "glove_keys = SortedSet(glove.key_to_index.keys())\n",
    "oov1 = SortedSet(ds_train['token']) - glove_keys\n",
    "v2 = glove_keys.union(oov1)\n",
    "oov2 = SortedSet(ds_val['token']) - v2\n",
    "v3 = v2.union(oov2)\n",
    "oov3 = SortedSet(ds_test['token']) - v3\n",
    "\n",
    "print(f'OOV1:  {len(oov1)} tokens')\n",
    "print(f'OOV2:  {len(oov2)} tokens')\n",
    "print(f'OOV3:  {len(oov3)} tokens')\n",
    "l = len(oov1) + len(oov2) + len(oov3)\n",
    "print(f'Total: {l} tokens ({l / len(set(dataset[\"token\"])) * 100:.2f}% of dataset)')"
   ]
  },
  {
   "cell_type": "markdown",
   "metadata": {
    "id": "OJkqb0b9VvdH"
   },
   "source": [
    "### 1.5.2 - Adding OOVs to GloVe\n",
    "We can now add OOV tokens to the GloVe vocabulary. Many strategies can be adopted to encode OOVs as vectors:\n",
    "1. Static embeddings with the same vector for all OOV tokens (e.g. zeros).\n",
    "2. Random embeddings. \n",
    "3. Computing an embedding as some statistic involving neighboring tokens (e.g. their mean).\n",
    "\n",
    "Two observations can guide us in the choice of an embedding strategy:\n",
    "* OOV tokens are not negligible (about 6% of the *total* dataset).\n",
    "* Our GloVe embeddings will not undergo further training, therefore fixed or random embedding values will not be refined during the training process.\n",
    "\n",
    "For the two reasons above, given an OOV token, we will compute its embedding as the mean of its left and right neighbors across all its occurrences throughout the dataset.\n"
   ]
  },
  {
   "cell_type": "code",
   "execution_count": 12,
   "metadata": {
    "executionInfo": {
     "elapsed": 8,
     "status": "ok",
     "timestamp": 1639661532554,
     "user": {
      "displayName": "Francesco Ballerini",
      "photoUrl": "https://lh3.googleusercontent.com/a-/AOh14Gg-R7R-HjBq_dn0hwuUoDXC2RwAVd1JXz6dReMZ3g=s64",
      "userId": "00684324433983888967"
     },
     "user_tz": -60
    },
    "id": "GY49Er4HXMyS"
   },
   "outputs": [],
   "source": [
    "def compute_neighbor_mean(oov_token: str, df: pd.DataFrame, embeddings: KeyedVectors) -> np.ndarray:\n",
    "    # Find indexes where the oov token appears, and shift them by -1 +1\n",
    "    indexes = df.index[df['token'] == oov_token].values\n",
    "    indexes = np.concatenate((indexes - 1, indexes + 1))\n",
    "\n",
    "    # For each oov word index, look at the left and right until a word with embedding has been found\n",
    "    neighbor_embeddings = []\n",
    "    for idx in indexes:\n",
    "        for direction in (range(idx - 1, -1, -1), range(idx + 1, len(df))):\n",
    "            for i in direction:\n",
    "                tok = df['token'].iloc[i]\n",
    "                if tok not in embeddings:\n",
    "                    continue\n",
    "                vector = embeddings[tok]\n",
    "                neighbor_embeddings.append(vector)\n",
    "                break\n",
    "\n",
    "    return np.mean(neighbor_embeddings, axis=0)\n",
    "\n",
    "\n",
    "def add_oovs(oov_tokens: SortedSet, df: pd.DataFrame, embeddings: KeyedVectors) -> KeyedVectors:\n",
    "    # Clone the embedding (KeyedVectors does not have a clone method)\n",
    "    emb_filled = deepcopy(embeddings)\n",
    "\n",
    "    # Estimate the OOV embeddings\n",
    "    keys, values = [], []\n",
    "    for oov in oov_tokens:\n",
    "        vector = compute_neighbor_mean(oov, df, emb_filled)\n",
    "        keys.append(oov)\n",
    "        values.append(vector)\n",
    "    # Add the estimates to the embedding\n",
    "    emb_filled.add_vectors(keys, values)\n",
    "    return emb_filled"
   ]
  },
  {
   "cell_type": "code",
   "execution_count": 13,
   "metadata": {
    "colab": {
     "base_uri": "https://localhost:8080/"
    },
    "executionInfo": {
     "elapsed": 12885,
     "status": "ok",
     "timestamp": 1639661545434,
     "user": {
      "displayName": "Francesco Ballerini",
      "photoUrl": "https://lh3.googleusercontent.com/a-/AOh14Gg-R7R-HjBq_dn0hwuUoDXC2RwAVd1JXz6dReMZ3g=s64",
      "userId": "00684324433983888967"
     },
     "user_tz": -60
    },
    "id": "3t-8NG2HXMyT",
    "outputId": "baff258d-3135-4dc7-f540-726ba8497cd5"
   },
   "outputs": [
    {
     "name": "stdout",
     "output_type": "stream",
     "text": [
      "Number of vectors in original GloVe:                  400000\n",
      "Number of vectors after incremental addition of OOVs: 400672\n"
     ]
    }
   ],
   "source": [
    "# V2 = union(Glove, OOV1)\n",
    "# where neighbors of OOV1 are taken from the trainig set\n",
    "embeddings = add_oovs(oov1, ds_train, glove)\n",
    "\n",
    "# V3 = union(V2, OOV2)\n",
    "# where neighbors of OOV2 are taken from the validation set\n",
    "embeddings = add_oovs(oov2, ds_val, embeddings)\n",
    "\n",
    "# V4 = union(V3, OOV3)\n",
    "# where neighbors of OOV3 are taken from the test set\n",
    "embeddings = add_oovs(oov3, ds_test, embeddings)\n",
    "\n",
    "# Test number of embeddings\n",
    "print(f'Number of vectors in original GloVe:                  {len(glove)}')\n",
    "print(f'Number of vectors after incremental addition of OOVs: {len(embeddings)}')"
   ]
  },
  {
   "cell_type": "markdown",
   "metadata": {
    "id": "TIasDlmeJqMa"
   },
   "source": [
    "## 1.6 - Embedding Matrix"
   ]
  },
  {
   "cell_type": "code",
   "execution_count": 14,
   "metadata": {
    "executionInfo": {
     "elapsed": 2802,
     "status": "ok",
     "timestamp": 1639661548224,
     "user": {
      "displayName": "Francesco Ballerini",
      "photoUrl": "https://lh3.googleusercontent.com/a-/AOh14Gg-R7R-HjBq_dn0hwuUoDXC2RwAVd1JXz6dReMZ3g=s64",
      "userId": "00684324433983888967"
     },
     "user_tz": -60
    },
    "id": "8P0uvO_JXMyU"
   },
   "outputs": [],
   "source": [
    "# Define the indexes used for word -> index -> embedding\n",
    "word_index = {k: v + 1 for k, v in embeddings.key_to_index.items()}  # +1 because index 0...\n",
    "vocab_size = len(embeddings) + 1  # ...will be reserved to padding\n",
    "\n",
    "# Define the embedding matrix\n",
    "embedding_matrix = np.zeros(shape=(vocab_size, EMB_DIM))\n",
    "for word, index in word_index.items():\n",
    "    embedding_matrix[index] = embeddings[word]"
   ]
  },
  {
   "cell_type": "code",
   "execution_count": 15,
   "metadata": {
    "executionInfo": {
     "elapsed": 6,
     "status": "ok",
     "timestamp": 1639661548225,
     "user": {
      "displayName": "Francesco Ballerini",
      "photoUrl": "https://lh3.googleusercontent.com/a-/AOh14Gg-R7R-HjBq_dn0hwuUoDXC2RwAVd1JXz6dReMZ3g=s64",
      "userId": "00684324433983888967"
     },
     "user_tz": -60
    },
    "id": "mLfFjEY9XMyU"
   },
   "outputs": [],
   "source": [
    "# Quick test\n",
    "assert np.all(embedding_matrix[embeddings.key_to_index['cat'] + 1] == embeddings['cat'])"
   ]
  },
  {
   "cell_type": "markdown",
   "metadata": {
    "id": "NCdBJQmXHLNZ"
   },
   "source": [
    "## 1.7 - Data Conversion"
   ]
  },
  {
   "cell_type": "markdown",
   "metadata": {
    "id": "CkaqUqR2Bfza"
   },
   "source": [
    "The input data of our model could be either whole documents or single sentences contained in those documents; we will choose sentences as input data.\n",
    "\n",
    "Tokens in each sentence will be converted to integer sequences and later fed into a static `Embedding` layer storing the matrix of Glove encodings + OOVs, which will provide the input to our model.\n",
    "\n",
    "The corresponding tags—i.e. the output of our model—will be instead one-hot encoded. The rationale behind this choice is that tags are purely categorical data, hence encoding them as integer sequences would inject a notion of ordering into the model, which however is not reflected in the original data."
   ]
  },
  {
   "cell_type": "code",
   "execution_count": 16,
   "metadata": {
    "colab": {
     "base_uri": "https://localhost:8080/",
     "height": 320
    },
    "executionInfo": {
     "elapsed": 2677,
     "status": "ok",
     "timestamp": 1639661550898,
     "user": {
      "displayName": "Francesco Ballerini",
      "photoUrl": "https://lh3.googleusercontent.com/a-/AOh14Gg-R7R-HjBq_dn0hwuUoDXC2RwAVd1JXz6dReMZ3g=s64",
      "userId": "00684324433983888967"
     },
     "user_tz": -60
    },
    "id": "750emGiPXMyV",
    "outputId": "9aa3c4ac-212a-4423-d106-a8e3f1ec36bc"
   },
   "outputs": [
    {
     "data": {
      "text/html": [
       "<div>\n",
       "<style scoped>\n",
       "    .dataframe tbody tr th:only-of-type {\n",
       "        vertical-align: middle;\n",
       "    }\n",
       "\n",
       "    .dataframe tbody tr th {\n",
       "        vertical-align: top;\n",
       "    }\n",
       "\n",
       "    .dataframe thead th {\n",
       "        text-align: right;\n",
       "    }\n",
       "</style>\n",
       "<table border=\"1\" class=\"dataframe\">\n",
       "  <thead>\n",
       "    <tr style=\"text-align: right;\">\n",
       "      <th></th>\n",
       "      <th></th>\n",
       "      <th>token</th>\n",
       "      <th>tag</th>\n",
       "      <th>token_index</th>\n",
       "      <th>tag_index</th>\n",
       "    </tr>\n",
       "    <tr>\n",
       "      <th>document</th>\n",
       "      <th>sentence</th>\n",
       "      <th></th>\n",
       "      <th></th>\n",
       "      <th></th>\n",
       "      <th></th>\n",
       "    </tr>\n",
       "  </thead>\n",
       "  <tbody>\n",
       "    <tr>\n",
       "      <th rowspan=\"2\" valign=\"top\">0</th>\n",
       "      <th>0</th>\n",
       "      <td>[pierre, vinken, ,, 61, years, old, ,, will, j...</td>\n",
       "      <td>[NNP, NNP, ,, CD, NNS, JJ, ,, MD, VB, DT, NN, ...</td>\n",
       "      <td>[5030, 400339, 2, 4979, 83, 168, 2, 44, 1430, ...</td>\n",
       "      <td>[1, 1, 2, 3, 4, 5, 2, 6, 7, 8, 9, 10, 8, 5, 9,...</td>\n",
       "    </tr>\n",
       "    <tr>\n",
       "      <th>1</th>\n",
       "      <td>[mr., vinken, is, chairman, of, elsevier, n.v....</td>\n",
       "      <td>[NNP, NNP, VBZ, NN, IN, NNP, NNP, ,, DT, NNP, ...</td>\n",
       "      <td>[1996, 400339, 15, 664, 4, 43651, 60024, 2, 1,...</td>\n",
       "      <td>[1, 1, 12, 9, 10, 1, 1, 2, 8, 1, 13, 9, 11]</td>\n",
       "    </tr>\n",
       "    <tr>\n",
       "      <th>1</th>\n",
       "      <th>2</th>\n",
       "      <td>[rudolph, agnew, ,, 55, years, old, and, forme...</td>\n",
       "      <td>[NNP, NNP, ,, CD, NNS, JJ, CC, JJ, NN, IN, NNP...</td>\n",
       "      <td>[9951, 34239, 2, 3069, 83, 168, 6, 158, 664, 4...</td>\n",
       "      <td>[1, 1, 2, 3, 4, 5, 14, 5, 9, 10, 1, 1, 1, 1, 2...</td>\n",
       "    </tr>\n",
       "    <tr>\n",
       "      <th rowspan=\"2\" valign=\"top\">2</th>\n",
       "      <th>3</th>\n",
       "      <td>[a, form, of, asbestos, once, used, to, make, ...</td>\n",
       "      <td>[DT, NN, IN, NN, RB, VBN, TO, VB, NNP, NN, NNS...</td>\n",
       "      <td>[8, 684, 4, 14666, 443, 181, 5, 160, 5616, 701...</td>\n",
       "      <td>[8, 9, 10, 9, 17, 16, 18, 7, 1, 9, 4, 12, 16, ...</td>\n",
       "    </tr>\n",
       "    <tr>\n",
       "      <th>4</th>\n",
       "      <td>[the, asbestos, fiber, ,, crocidolite, ,, is, ...</td>\n",
       "      <td>[DT, NN, NN, ,, NN, ,, VBZ, RB, JJ, IN, PRP, V...</td>\n",
       "      <td>[1, 14666, 7677, 2, 400123, 2, 15, 7683, 18184...</td>\n",
       "      <td>[8, 9, 9, 2, 9, 2, 12, 17, 5, 10, 19, 12, 8, 4...</td>\n",
       "    </tr>\n",
       "  </tbody>\n",
       "</table>\n",
       "</div>"
      ],
      "text/plain": [
       "                                                               token  \\\n",
       "document sentence                                                      \n",
       "0        0         [pierre, vinken, ,, 61, years, old, ,, will, j...   \n",
       "         1         [mr., vinken, is, chairman, of, elsevier, n.v....   \n",
       "1        2         [rudolph, agnew, ,, 55, years, old, and, forme...   \n",
       "2        3         [a, form, of, asbestos, once, used, to, make, ...   \n",
       "         4         [the, asbestos, fiber, ,, crocidolite, ,, is, ...   \n",
       "\n",
       "                                                                 tag  \\\n",
       "document sentence                                                      \n",
       "0        0         [NNP, NNP, ,, CD, NNS, JJ, ,, MD, VB, DT, NN, ...   \n",
       "         1         [NNP, NNP, VBZ, NN, IN, NNP, NNP, ,, DT, NNP, ...   \n",
       "1        2         [NNP, NNP, ,, CD, NNS, JJ, CC, JJ, NN, IN, NNP...   \n",
       "2        3         [DT, NN, IN, NN, RB, VBN, TO, VB, NNP, NN, NNS...   \n",
       "         4         [DT, NN, NN, ,, NN, ,, VBZ, RB, JJ, IN, PRP, V...   \n",
       "\n",
       "                                                         token_index  \\\n",
       "document sentence                                                      \n",
       "0        0         [5030, 400339, 2, 4979, 83, 168, 2, 44, 1430, ...   \n",
       "         1         [1996, 400339, 15, 664, 4, 43651, 60024, 2, 1,...   \n",
       "1        2         [9951, 34239, 2, 3069, 83, 168, 6, 158, 664, 4...   \n",
       "2        3         [8, 684, 4, 14666, 443, 181, 5, 160, 5616, 701...   \n",
       "         4         [1, 14666, 7677, 2, 400123, 2, 15, 7683, 18184...   \n",
       "\n",
       "                                                           tag_index  \n",
       "document sentence                                                     \n",
       "0        0         [1, 1, 2, 3, 4, 5, 2, 6, 7, 8, 9, 10, 8, 5, 9,...  \n",
       "         1               [1, 1, 12, 9, 10, 1, 1, 2, 8, 1, 13, 9, 11]  \n",
       "1        2         [1, 1, 2, 3, 4, 5, 14, 5, 9, 10, 1, 1, 1, 1, 2...  \n",
       "2        3         [8, 9, 10, 9, 17, 16, 18, 7, 1, 9, 4, 12, 16, ...  \n",
       "         4         [8, 9, 9, 2, 9, 2, 12, 17, 5, 10, 19, 12, 8, 4...  "
      ]
     },
     "execution_count": 16,
     "metadata": {},
     "output_type": "execute_result"
    }
   ],
   "source": [
    "# Utility function\n",
    "flatten_1d = lambda nested_list: [li[0] for li in nested_list]\n",
    "\n",
    "# Convert tokens into sequences (their vocabulary indexes)\n",
    "tokenizer = Tokenizer(filters='')\n",
    "tokenizer.word_index = word_index\n",
    "token_indexes = tokenizer.texts_to_sequences_generator(dataset['token'].array)\n",
    "token_indexes = flatten_1d(token_indexes)\n",
    "\n",
    "# Convert tags into sequences\n",
    "# (as an intermediate step before one-hot encoding them)\n",
    "tag_to_int = {k: v + 1 for v, k in enumerate(dataset['tag'].unique())}\n",
    "num_tags = len(tag_to_int) + 1\n",
    "tokenizer = Tokenizer(filters='', lower=False)\n",
    "tokenizer.word_index = tag_to_int\n",
    "tag_indexes = tokenizer.texts_to_sequences_generator(dataset['tag'].array)\n",
    "tag_indexes = flatten_1d(tag_indexes)\n",
    "\n",
    "# Augment dataset with new data\n",
    "dataset['token_index'] = token_indexes\n",
    "dataset['tag_index'] = tag_indexes\n",
    "\n",
    "# Group dataset by 'sentence', aggregating remaining data into lists\n",
    "ds_sentences = dataset.groupby(['document', 'sentence']).agg(list)\n",
    "ds_sentences.head()"
   ]
  },
  {
   "cell_type": "markdown",
   "metadata": {
    "id": "dGrT_OI0XMyV"
   },
   "source": [
    "Let us take a look at the distribution of sentence length in the training + validation set (leaving the test set aside) to determine what is an appropriate padded-sequence size (for batching)."
   ]
  },
  {
   "cell_type": "code",
   "execution_count": 17,
   "metadata": {
    "colab": {
     "base_uri": "https://localhost:8080/",
     "height": 559
    },
    "executionInfo": {
     "elapsed": 727,
     "status": "ok",
     "timestamp": 1639661551617,
     "user": {
      "displayName": "Francesco Ballerini",
      "photoUrl": "https://lh3.googleusercontent.com/a-/AOh14Gg-R7R-HjBq_dn0hwuUoDXC2RwAVd1JXz6dReMZ3g=s64",
      "userId": "00684324433983888967"
     },
     "user_tz": -60
    },
    "id": "mjScTmdCXMyW",
    "outputId": "23a23989-6a39-49f9-b0c5-078ada2e6870"
   },
   "outputs": [
    {
     "name": "stdout",
     "output_type": "stream",
     "text": [
      "99th percentile of sentence length in training + validation set: 56.0\n"
     ]
    },
    {
     "data": {
      "image/svg+xml": "<svg class=\"main-svg\" xmlns=\"http://www.w3.org/2000/svg\" xmlns:xlink=\"http://www.w3.org/1999/xlink\" width=\"700\" height=\"500\" style=\"\" viewBox=\"0 0 700 500\"><rect x=\"0\" y=\"0\" width=\"700\" height=\"500\" style=\"fill: rgb(255, 255, 255); fill-opacity: 1;\"/><defs id=\"defs-dce483\"><g class=\"clips\"><clipPath id=\"clipdce483xyplot\" class=\"plotclip\"><rect width=\"540\" height=\"360\"/></clipPath><clipPath class=\"axesclip\" id=\"clipdce483x\"><rect x=\"80\" y=\"0\" width=\"540\" height=\"500\"/></clipPath><clipPath class=\"axesclip\" id=\"clipdce483y\"><rect x=\"0\" y=\"60\" width=\"700\" height=\"360\"/></clipPath><clipPath class=\"axesclip\" id=\"clipdce483xy\"><rect x=\"80\" y=\"60\" width=\"540\" height=\"360\"/></clipPath></g><g class=\"gradients\"/><g class=\"patterns\"/></defs><g class=\"bglayer\"><rect class=\"bg\" x=\"80\" y=\"60\" width=\"540\" height=\"360\" style=\"fill: rgb(229, 236, 246); fill-opacity: 1; stroke-width: 0;\"/></g><g class=\"layer-below\"><g class=\"imagelayer\"/><g class=\"shapelayer\"/></g><g class=\"cartesianlayer\"><g class=\"subplot xy\"><g class=\"layer-subplot\"><g class=\"shapelayer\"/><g class=\"imagelayer\"/></g><g class=\"gridlayer\"><g class=\"x\"/><g class=\"y\"><path class=\"ygrid crisp\" transform=\"translate(0,368.18)\" d=\"M80,0h540\" style=\"stroke: rgb(255, 255, 255); stroke-opacity: 1; stroke-width: 1px;\"/><path class=\"ygrid crisp\" transform=\"translate(0,316.36)\" d=\"M80,0h540\" style=\"stroke: rgb(255, 255, 255); stroke-opacity: 1; stroke-width: 1px;\"/><path class=\"ygrid crisp\" transform=\"translate(0,264.55)\" d=\"M80,0h540\" style=\"stroke: rgb(255, 255, 255); stroke-opacity: 1; stroke-width: 1px;\"/><path class=\"ygrid crisp\" transform=\"translate(0,212.73)\" d=\"M80,0h540\" style=\"stroke: rgb(255, 255, 255); stroke-opacity: 1; stroke-width: 1px;\"/><path class=\"ygrid crisp\" transform=\"translate(0,160.91)\" d=\"M80,0h540\" style=\"stroke: rgb(255, 255, 255); stroke-opacity: 1; stroke-width: 1px;\"/><path class=\"ygrid crisp\" transform=\"translate(0,109.09)\" d=\"M80,0h540\" style=\"stroke: rgb(255, 255, 255); stroke-opacity: 1; stroke-width: 1px;\"/></g></g><g class=\"zerolinelayer\"><path class=\"yzl zl crisp\" transform=\"translate(0,420)\" d=\"M80,0h540\" style=\"stroke: rgb(255, 255, 255); stroke-opacity: 1; stroke-width: 2px;\"/></g><path class=\"xlines-below\"/><path class=\"ylines-below\"/><g class=\"overlines-below\"/><g class=\"xaxislayer-below\"/><g class=\"yaxislayer-below\"/><g class=\"overaxes-below\"/><g class=\"plot\" transform=\"translate(80,60)\" clip-path=\"url(#clipdce483xyplot)\"><g class=\"barlayer mlayer\"><g class=\"trace bars\" shape-rendering=\"crispEdges\" style=\"opacity: 1;\"><g class=\"points\"><g class=\"point\"><path d=\"M0,360V357.41H2.17V360Z\" style=\"vector-effect: non-scaling-stroke; opacity: 1; stroke-width: 0px; fill: rgb(99, 110, 250); fill-opacity: 1;\"/></g><g class=\"point\"><path d=\"M2.17,360V318.55H4.34V360Z\" style=\"vector-effect: non-scaling-stroke; opacity: 1; stroke-width: 0px; fill: rgb(99, 110, 250); fill-opacity: 1;\"/></g><g class=\"point\"><path d=\"M4.34,360V334.09H6.51V360Z\" style=\"vector-effect: non-scaling-stroke; opacity: 1; stroke-width: 0px; fill: rgb(99, 110, 250); fill-opacity: 1;\"/></g><g class=\"point\"><path d=\"M6.51,360V297.82H8.67V360Z\" style=\"vector-effect: non-scaling-stroke; opacity: 1; stroke-width: 0px; fill: rgb(99, 110, 250); fill-opacity: 1;\"/></g><g class=\"point\"><path d=\"M8.67,360V274.5H10.84V360Z\" style=\"vector-effect: non-scaling-stroke; opacity: 1; stroke-width: 0px; fill: rgb(99, 110, 250); fill-opacity: 1;\"/></g><g class=\"point\"><path d=\"M10.84,360V269.32H13.01V360Z\" style=\"vector-effect: non-scaling-stroke; opacity: 1; stroke-width: 0px; fill: rgb(99, 110, 250); fill-opacity: 1;\"/></g><g class=\"point\"><path d=\"M13.01,360V225.27H15.18V360Z\" style=\"vector-effect: non-scaling-stroke; opacity: 1; stroke-width: 0px; fill: rgb(99, 110, 250); fill-opacity: 1;\"/></g><g class=\"point\"><path d=\"M15.18,360V251.18H17.35V360Z\" style=\"vector-effect: non-scaling-stroke; opacity: 1; stroke-width: 0px; fill: rgb(99, 110, 250); fill-opacity: 1;\"/></g><g class=\"point\"><path d=\"M17.35,360V186.41H19.52V360Z\" style=\"vector-effect: non-scaling-stroke; opacity: 1; stroke-width: 0px; fill: rgb(99, 110, 250); fill-opacity: 1;\"/></g><g class=\"point\"><path d=\"M19.52,360V209.73H21.69V360Z\" style=\"vector-effect: non-scaling-stroke; opacity: 1; stroke-width: 0px; fill: rgb(99, 110, 250); fill-opacity: 1;\"/></g><g class=\"point\"><path d=\"M21.69,360V189H23.86V360Z\" style=\"vector-effect: non-scaling-stroke; opacity: 1; stroke-width: 0px; fill: rgb(99, 110, 250); fill-opacity: 1;\"/></g><g class=\"point\"><path d=\"M23.86,360V147.55H26.02V360Z\" style=\"vector-effect: non-scaling-stroke; opacity: 1; stroke-width: 0px; fill: rgb(99, 110, 250); fill-opacity: 1;\"/></g><g class=\"point\"><path d=\"M26.02,360V100.91H28.19V360Z\" style=\"vector-effect: non-scaling-stroke; opacity: 1; stroke-width: 0px; fill: rgb(99, 110, 250); fill-opacity: 1;\"/></g><g class=\"point\"><path d=\"M28.19,360V100.91H30.36V360Z\" style=\"vector-effect: non-scaling-stroke; opacity: 1; stroke-width: 0px; fill: rgb(99, 110, 250); fill-opacity: 1;\"/></g><g class=\"point\"><path d=\"M30.36,360V98.32H32.53V360Z\" style=\"vector-effect: non-scaling-stroke; opacity: 1; stroke-width: 0px; fill: rgb(99, 110, 250); fill-opacity: 1;\"/></g><g class=\"point\"><path d=\"M32.53,360V80.18H34.7V360Z\" style=\"vector-effect: non-scaling-stroke; opacity: 1; stroke-width: 0px; fill: rgb(99, 110, 250); fill-opacity: 1;\"/></g><g class=\"point\"><path d=\"M34.7,360V93.14H36.87V360Z\" style=\"vector-effect: non-scaling-stroke; opacity: 1; stroke-width: 0px; fill: rgb(99, 110, 250); fill-opacity: 1;\"/></g><g class=\"point\"><path d=\"M36.87,360V64.64H39.04V360Z\" style=\"vector-effect: non-scaling-stroke; opacity: 1; stroke-width: 0px; fill: rgb(99, 110, 250); fill-opacity: 1;\"/></g><g class=\"point\"><path d=\"M39.04,360V75H41.2V360Z\" style=\"vector-effect: non-scaling-stroke; opacity: 1; stroke-width: 0px; fill: rgb(99, 110, 250); fill-opacity: 1;\"/></g><g class=\"point\"><path d=\"M41.2,360V23.18H43.37V360Z\" style=\"vector-effect: non-scaling-stroke; opacity: 1; stroke-width: 0px; fill: rgb(99, 110, 250); fill-opacity: 1;\"/></g><g class=\"point\"><path d=\"M43.37,360V69.82H45.54V360Z\" style=\"vector-effect: non-scaling-stroke; opacity: 1; stroke-width: 0px; fill: rgb(99, 110, 250); fill-opacity: 1;\"/></g><g class=\"point\"><path d=\"M45.54,360V18H47.71V360Z\" style=\"vector-effect: non-scaling-stroke; opacity: 1; stroke-width: 0px; fill: rgb(99, 110, 250); fill-opacity: 1;\"/></g><g class=\"point\"><path d=\"M47.71,360V59.45H49.88V360Z\" style=\"vector-effect: non-scaling-stroke; opacity: 1; stroke-width: 0px; fill: rgb(99, 110, 250); fill-opacity: 1;\"/></g><g class=\"point\"><path d=\"M49.88,360V46.5H52.05V360Z\" style=\"vector-effect: non-scaling-stroke; opacity: 1; stroke-width: 0px; fill: rgb(99, 110, 250); fill-opacity: 1;\"/></g><g class=\"point\"><path d=\"M52.05,360V82.77H54.22V360Z\" style=\"vector-effect: non-scaling-stroke; opacity: 1; stroke-width: 0px; fill: rgb(99, 110, 250); fill-opacity: 1;\"/></g><g class=\"point\"><path d=\"M54.22,360V69.82H56.39V360Z\" style=\"vector-effect: non-scaling-stroke; opacity: 1; stroke-width: 0px; fill: rgb(99, 110, 250); fill-opacity: 1;\"/></g><g class=\"point\"><path d=\"M56.39,360V103.5H58.55V360Z\" style=\"vector-effect: non-scaling-stroke; opacity: 1; stroke-width: 0px; fill: rgb(99, 110, 250); fill-opacity: 1;\"/></g><g class=\"point\"><path d=\"M58.55,360V137.18H60.72V360Z\" style=\"vector-effect: non-scaling-stroke; opacity: 1; stroke-width: 0px; fill: rgb(99, 110, 250); fill-opacity: 1;\"/></g><g class=\"point\"><path d=\"M60.72,360V121.64H62.89V360Z\" style=\"vector-effect: non-scaling-stroke; opacity: 1; stroke-width: 0px; fill: rgb(99, 110, 250); fill-opacity: 1;\"/></g><g class=\"point\"><path d=\"M62.89,360V137.18H65.06V360Z\" style=\"vector-effect: non-scaling-stroke; opacity: 1; stroke-width: 0px; fill: rgb(99, 110, 250); fill-opacity: 1;\"/></g><g class=\"point\"><path d=\"M65.06,360V173.45H67.23V360Z\" style=\"vector-effect: non-scaling-stroke; opacity: 1; stroke-width: 0px; fill: rgb(99, 110, 250); fill-opacity: 1;\"/></g><g class=\"point\"><path d=\"M67.23,360V157.91H69.4V360Z\" style=\"vector-effect: non-scaling-stroke; opacity: 1; stroke-width: 0px; fill: rgb(99, 110, 250); fill-opacity: 1;\"/></g><g class=\"point\"><path d=\"M69.4,360V176.05H71.57V360Z\" style=\"vector-effect: non-scaling-stroke; opacity: 1; stroke-width: 0px; fill: rgb(99, 110, 250); fill-opacity: 1;\"/></g><g class=\"point\"><path d=\"M71.57,360V170.86H73.73V360Z\" style=\"vector-effect: non-scaling-stroke; opacity: 1; stroke-width: 0px; fill: rgb(99, 110, 250); fill-opacity: 1;\"/></g><g class=\"point\"><path d=\"M73.73,360V176.05H75.9V360Z\" style=\"vector-effect: non-scaling-stroke; opacity: 1; stroke-width: 0px; fill: rgb(99, 110, 250); fill-opacity: 1;\"/></g><g class=\"point\"><path d=\"M75.9,360V220.09H78.07V360Z\" style=\"vector-effect: non-scaling-stroke; opacity: 1; stroke-width: 0px; fill: rgb(99, 110, 250); fill-opacity: 1;\"/></g><g class=\"point\"><path d=\"M78.07,360V220.09H80.24V360Z\" style=\"vector-effect: non-scaling-stroke; opacity: 1; stroke-width: 0px; fill: rgb(99, 110, 250); fill-opacity: 1;\"/></g><g class=\"point\"><path d=\"M80.24,360V217.5H82.41V360Z\" style=\"vector-effect: non-scaling-stroke; opacity: 1; stroke-width: 0px; fill: rgb(99, 110, 250); fill-opacity: 1;\"/></g><g class=\"point\"><path d=\"M82.41,360V248.59H84.58V360Z\" style=\"vector-effect: non-scaling-stroke; opacity: 1; stroke-width: 0px; fill: rgb(99, 110, 250); fill-opacity: 1;\"/></g><g class=\"point\"><path d=\"M84.58,360V292.64H86.75V360Z\" style=\"vector-effect: non-scaling-stroke; opacity: 1; stroke-width: 0px; fill: rgb(99, 110, 250); fill-opacity: 1;\"/></g><g class=\"point\"><path d=\"M86.75,360V308.18H88.92V360Z\" style=\"vector-effect: non-scaling-stroke; opacity: 1; stroke-width: 0px; fill: rgb(99, 110, 250); fill-opacity: 1;\"/></g><g class=\"point\"><path d=\"M88.92,360V274.5H91.08V360Z\" style=\"vector-effect: non-scaling-stroke; opacity: 1; stroke-width: 0px; fill: rgb(99, 110, 250); fill-opacity: 1;\"/></g><g class=\"point\"><path d=\"M91.08,360V305.59H93.25V360Z\" style=\"vector-effect: non-scaling-stroke; opacity: 1; stroke-width: 0px; fill: rgb(99, 110, 250); fill-opacity: 1;\"/></g><g class=\"point\"><path d=\"M93.25,360V300.41H95.42V360Z\" style=\"vector-effect: non-scaling-stroke; opacity: 1; stroke-width: 0px; fill: rgb(99, 110, 250); fill-opacity: 1;\"/></g><g class=\"point\"><path d=\"M95.42,360V310.77H97.59V360Z\" style=\"vector-effect: non-scaling-stroke; opacity: 1; stroke-width: 0px; fill: rgb(99, 110, 250); fill-opacity: 1;\"/></g><g class=\"point\"><path d=\"M97.59,360V315.95H99.76V360Z\" style=\"vector-effect: non-scaling-stroke; opacity: 1; stroke-width: 0px; fill: rgb(99, 110, 250); fill-opacity: 1;\"/></g><g class=\"point\"><path d=\"M99.76,360V334.09H101.93V360Z\" style=\"vector-effect: non-scaling-stroke; opacity: 1; stroke-width: 0px; fill: rgb(99, 110, 250); fill-opacity: 1;\"/></g><g class=\"point\"><path d=\"M101.93,360V321.14H104.1V360Z\" style=\"vector-effect: non-scaling-stroke; opacity: 1; stroke-width: 0px; fill: rgb(99, 110, 250); fill-opacity: 1;\"/></g><g class=\"point\"><path d=\"M104.1,360V321.14H106.27V360Z\" style=\"vector-effect: non-scaling-stroke; opacity: 1; stroke-width: 0px; fill: rgb(99, 110, 250); fill-opacity: 1;\"/></g><g class=\"point\"><path d=\"M106.27,360V326.32H108.43V360Z\" style=\"vector-effect: non-scaling-stroke; opacity: 1; stroke-width: 0px; fill: rgb(99, 110, 250); fill-opacity: 1;\"/></g><g class=\"point\"><path d=\"M108.43,360V339.27H110.6V360Z\" style=\"vector-effect: non-scaling-stroke; opacity: 1; stroke-width: 0px; fill: rgb(99, 110, 250); fill-opacity: 1;\"/></g><g class=\"point\"><path d=\"M110.6,360V347.05H112.77V360Z\" style=\"vector-effect: non-scaling-stroke; opacity: 1; stroke-width: 0px; fill: rgb(99, 110, 250); fill-opacity: 1;\"/></g><g class=\"point\"><path d=\"M112.77,360V339.27H114.94V360Z\" style=\"vector-effect: non-scaling-stroke; opacity: 1; stroke-width: 0px; fill: rgb(99, 110, 250); fill-opacity: 1;\"/></g><g class=\"point\"><path d=\"M114.94,360V352.23H117.11V360Z\" style=\"vector-effect: non-scaling-stroke; opacity: 1; stroke-width: 0px; fill: rgb(99, 110, 250); fill-opacity: 1;\"/></g><g class=\"point\"><path d=\"M117.11,360V352.23H119.28V360Z\" style=\"vector-effect: non-scaling-stroke; opacity: 1; stroke-width: 0px; fill: rgb(99, 110, 250); fill-opacity: 1;\"/></g><g class=\"point\"><path d=\"M119.28,360V347.05H121.45V360Z\" style=\"vector-effect: non-scaling-stroke; opacity: 1; stroke-width: 0px; fill: rgb(99, 110, 250); fill-opacity: 1;\"/></g><g class=\"point\"><path d=\"M121.45,360V354.82H123.61V360Z\" style=\"vector-effect: non-scaling-stroke; opacity: 1; stroke-width: 0px; fill: rgb(99, 110, 250); fill-opacity: 1;\"/></g><g class=\"point\"><path d=\"M123.61,360V347.05H125.78V360Z\" style=\"vector-effect: non-scaling-stroke; opacity: 1; stroke-width: 0px; fill: rgb(99, 110, 250); fill-opacity: 1;\"/></g><g class=\"point\"><path d=\"M125.78,360V357.41H127.95V360Z\" style=\"vector-effect: non-scaling-stroke; opacity: 1; stroke-width: 0px; fill: rgb(99, 110, 250); fill-opacity: 1;\"/></g><g class=\"point\"><path d=\"M127.95,360V354.82H130.12V360Z\" style=\"vector-effect: non-scaling-stroke; opacity: 1; stroke-width: 0px; fill: rgb(99, 110, 250); fill-opacity: 1;\"/></g><g class=\"point\"><path d=\"M130.12,360V357.41H132.29V360Z\" style=\"vector-effect: non-scaling-stroke; opacity: 1; stroke-width: 0px; fill: rgb(99, 110, 250); fill-opacity: 1;\"/></g><g class=\"point\"><path d=\"M132.29,360V357.41H134.46V360Z\" style=\"vector-effect: non-scaling-stroke; opacity: 1; stroke-width: 0px; fill: rgb(99, 110, 250); fill-opacity: 1;\"/></g><g class=\"point\"><path d=\"M134.46,360V352.23H136.63V360Z\" style=\"vector-effect: non-scaling-stroke; opacity: 1; stroke-width: 0px; fill: rgb(99, 110, 250); fill-opacity: 1;\"/></g><g class=\"point\"><path d=\"M136.63,360V357.41H138.8V360Z\" style=\"vector-effect: non-scaling-stroke; opacity: 1; stroke-width: 0px; fill: rgb(99, 110, 250); fill-opacity: 1;\"/></g><g class=\"point\"><path d=\"M138.8,360V357.41H140.96V360Z\" style=\"vector-effect: non-scaling-stroke; opacity: 1; stroke-width: 0px; fill: rgb(99, 110, 250); fill-opacity: 1;\"/></g><g class=\"point\"><path d=\"M140.96,360V354.82H143.13V360Z\" style=\"vector-effect: non-scaling-stroke; opacity: 1; stroke-width: 0px; fill: rgb(99, 110, 250); fill-opacity: 1;\"/></g><g class=\"point\"><path d=\"M143.13,360V357.41H145.3V360Z\" style=\"vector-effect: non-scaling-stroke; opacity: 1; stroke-width: 0px; fill: rgb(99, 110, 250); fill-opacity: 1;\"/></g><g class=\"point\"><path d=\"M145.3,360V357.41H147.47V360Z\" style=\"vector-effect: non-scaling-stroke; opacity: 1; stroke-width: 0px; fill: rgb(99, 110, 250); fill-opacity: 1;\"/></g><g class=\"point\"><path d=\"M0,0Z\" style=\"vector-effect: non-scaling-stroke; opacity: 1; stroke-width: 0px; fill: rgb(99, 110, 250); fill-opacity: 1;\"/></g><g class=\"point\"><path d=\"M149.64,360V357.41H151.81V360Z\" style=\"vector-effect: non-scaling-stroke; opacity: 1; stroke-width: 0px; fill: rgb(99, 110, 250); fill-opacity: 1;\"/></g><g class=\"point\"><path d=\"M0,0Z\" style=\"vector-effect: non-scaling-stroke; opacity: 1; stroke-width: 0px; fill: rgb(99, 110, 250); fill-opacity: 1;\"/></g><g class=\"point\"><path d=\"M0,0Z\" style=\"vector-effect: non-scaling-stroke; opacity: 1; stroke-width: 0px; fill: rgb(99, 110, 250); fill-opacity: 1;\"/></g><g class=\"point\"><path d=\"M0,0Z\" style=\"vector-effect: non-scaling-stroke; opacity: 1; stroke-width: 0px; fill: rgb(99, 110, 250); fill-opacity: 1;\"/></g><g class=\"point\"><path d=\"M158.31,360V357.41H160.48V360Z\" style=\"vector-effect: non-scaling-stroke; opacity: 1; stroke-width: 0px; fill: rgb(99, 110, 250); fill-opacity: 1;\"/></g><g class=\"point\"><path d=\"M160.48,360V357.41H162.65V360Z\" style=\"vector-effect: non-scaling-stroke; opacity: 1; stroke-width: 0px; fill: rgb(99, 110, 250); fill-opacity: 1;\"/></g><g class=\"point\"><path d=\"M0,0Z\" style=\"vector-effect: non-scaling-stroke; opacity: 1; stroke-width: 0px; fill: rgb(99, 110, 250); fill-opacity: 1;\"/></g><g class=\"point\"><path d=\"M0,0Z\" style=\"vector-effect: non-scaling-stroke; opacity: 1; stroke-width: 0px; fill: rgb(99, 110, 250); fill-opacity: 1;\"/></g><g class=\"point\"><path d=\"M166.99,360V357.41H169.16V360Z\" style=\"vector-effect: non-scaling-stroke; opacity: 1; stroke-width: 0px; fill: rgb(99, 110, 250); fill-opacity: 1;\"/></g><g class=\"point\"><path d=\"M0,0Z\" style=\"vector-effect: non-scaling-stroke; opacity: 1; stroke-width: 0px; fill: rgb(99, 110, 250); fill-opacity: 1;\"/></g><g class=\"point\"><path d=\"M0,0Z\" style=\"vector-effect: non-scaling-stroke; opacity: 1; stroke-width: 0px; fill: rgb(99, 110, 250); fill-opacity: 1;\"/></g><g class=\"point\"><path d=\"M173.49,360V354.82H175.66V360Z\" style=\"vector-effect: non-scaling-stroke; opacity: 1; stroke-width: 0px; fill: rgb(99, 110, 250); fill-opacity: 1;\"/></g><g class=\"point\"><path d=\"M0,0Z\" style=\"vector-effect: non-scaling-stroke; opacity: 1; stroke-width: 0px; fill: rgb(99, 110, 250); fill-opacity: 1;\"/></g><g class=\"point\"><path d=\"M0,0Z\" style=\"vector-effect: non-scaling-stroke; opacity: 1; stroke-width: 0px; fill: rgb(99, 110, 250); fill-opacity: 1;\"/></g><g class=\"point\"><path d=\"M0,0Z\" style=\"vector-effect: non-scaling-stroke; opacity: 1; stroke-width: 0px; fill: rgb(99, 110, 250); fill-opacity: 1;\"/></g><g class=\"point\"><path d=\"M0,0Z\" style=\"vector-effect: non-scaling-stroke; opacity: 1; stroke-width: 0px; fill: rgb(99, 110, 250); fill-opacity: 1;\"/></g><g class=\"point\"><path d=\"M0,0Z\" style=\"vector-effect: non-scaling-stroke; opacity: 1; stroke-width: 0px; fill: rgb(99, 110, 250); fill-opacity: 1;\"/></g><g class=\"point\"><path d=\"M0,0Z\" style=\"vector-effect: non-scaling-stroke; opacity: 1; stroke-width: 0px; fill: rgb(99, 110, 250); fill-opacity: 1;\"/></g><g class=\"point\"><path d=\"M0,0Z\" style=\"vector-effect: non-scaling-stroke; opacity: 1; stroke-width: 0px; fill: rgb(99, 110, 250); fill-opacity: 1;\"/></g><g class=\"point\"><path d=\"M190.84,360V357.41H193.01V360Z\" style=\"vector-effect: non-scaling-stroke; opacity: 1; stroke-width: 0px; fill: rgb(99, 110, 250); fill-opacity: 1;\"/></g><g class=\"point\"><path d=\"M0,0Z\" style=\"vector-effect: non-scaling-stroke; opacity: 1; stroke-width: 0px; fill: rgb(99, 110, 250); fill-opacity: 1;\"/></g><g class=\"point\"><path d=\"M0,0Z\" style=\"vector-effect: non-scaling-stroke; opacity: 1; stroke-width: 0px; fill: rgb(99, 110, 250); fill-opacity: 1;\"/></g><g class=\"point\"><path d=\"M0,0Z\" style=\"vector-effect: non-scaling-stroke; opacity: 1; stroke-width: 0px; fill: rgb(99, 110, 250); fill-opacity: 1;\"/></g><g class=\"point\"><path d=\"M0,0Z\" style=\"vector-effect: non-scaling-stroke; opacity: 1; stroke-width: 0px; fill: rgb(99, 110, 250); fill-opacity: 1;\"/></g><g class=\"point\"><path d=\"M0,0Z\" style=\"vector-effect: non-scaling-stroke; opacity: 1; stroke-width: 0px; fill: rgb(99, 110, 250); fill-opacity: 1;\"/></g><g class=\"point\"><path d=\"M0,0Z\" style=\"vector-effect: non-scaling-stroke; opacity: 1; stroke-width: 0px; fill: rgb(99, 110, 250); fill-opacity: 1;\"/></g><g class=\"point\"><path d=\"M0,0Z\" style=\"vector-effect: non-scaling-stroke; opacity: 1; stroke-width: 0px; fill: rgb(99, 110, 250); fill-opacity: 1;\"/></g><g class=\"point\"><path d=\"M0,0Z\" style=\"vector-effect: non-scaling-stroke; opacity: 1; stroke-width: 0px; fill: rgb(99, 110, 250); fill-opacity: 1;\"/></g><g class=\"point\"><path d=\"M0,0Z\" style=\"vector-effect: non-scaling-stroke; opacity: 1; stroke-width: 0px; fill: rgb(99, 110, 250); fill-opacity: 1;\"/></g><g class=\"point\"><path d=\"M0,0Z\" style=\"vector-effect: non-scaling-stroke; opacity: 1; stroke-width: 0px; fill: rgb(99, 110, 250); fill-opacity: 1;\"/></g><g class=\"point\"><path d=\"M214.7,360V357.41H216.87V360Z\" style=\"vector-effect: non-scaling-stroke; opacity: 1; stroke-width: 0px; fill: rgb(99, 110, 250); fill-opacity: 1;\"/></g><g class=\"point\"><path d=\"M0,0Z\" style=\"vector-effect: non-scaling-stroke; opacity: 1; stroke-width: 0px; fill: rgb(99, 110, 250); fill-opacity: 1;\"/></g><g class=\"point\"><path d=\"M0,0Z\" style=\"vector-effect: non-scaling-stroke; opacity: 1; stroke-width: 0px; fill: rgb(99, 110, 250); fill-opacity: 1;\"/></g><g class=\"point\"><path d=\"M0,0Z\" style=\"vector-effect: non-scaling-stroke; opacity: 1; stroke-width: 0px; fill: rgb(99, 110, 250); fill-opacity: 1;\"/></g><g class=\"point\"><path d=\"M0,0Z\" style=\"vector-effect: non-scaling-stroke; opacity: 1; stroke-width: 0px; fill: rgb(99, 110, 250); fill-opacity: 1;\"/></g><g class=\"point\"><path d=\"M0,0Z\" style=\"vector-effect: non-scaling-stroke; opacity: 1; stroke-width: 0px; fill: rgb(99, 110, 250); fill-opacity: 1;\"/></g><g class=\"point\"><path d=\"M0,0Z\" style=\"vector-effect: non-scaling-stroke; opacity: 1; stroke-width: 0px; fill: rgb(99, 110, 250); fill-opacity: 1;\"/></g><g class=\"point\"><path d=\"M0,0Z\" style=\"vector-effect: non-scaling-stroke; opacity: 1; stroke-width: 0px; fill: rgb(99, 110, 250); fill-opacity: 1;\"/></g><g class=\"point\"><path d=\"M0,0Z\" style=\"vector-effect: non-scaling-stroke; opacity: 1; stroke-width: 0px; fill: rgb(99, 110, 250); fill-opacity: 1;\"/></g><g class=\"point\"><path d=\"M0,0Z\" style=\"vector-effect: non-scaling-stroke; opacity: 1; stroke-width: 0px; fill: rgb(99, 110, 250); fill-opacity: 1;\"/></g><g class=\"point\"><path d=\"M0,0Z\" style=\"vector-effect: non-scaling-stroke; opacity: 1; stroke-width: 0px; fill: rgb(99, 110, 250); fill-opacity: 1;\"/></g><g class=\"point\"><path d=\"M238.55,360V357.41H240.72V360Z\" style=\"vector-effect: non-scaling-stroke; opacity: 1; stroke-width: 0px; fill: rgb(99, 110, 250); fill-opacity: 1;\"/></g><g class=\"point\"><path d=\"M0,0Z\" style=\"vector-effect: non-scaling-stroke; opacity: 1; stroke-width: 0px; fill: rgb(99, 110, 250); fill-opacity: 1;\"/></g><g class=\"point\"><path d=\"M0,0Z\" style=\"vector-effect: non-scaling-stroke; opacity: 1; stroke-width: 0px; fill: rgb(99, 110, 250); fill-opacity: 1;\"/></g><g class=\"point\"><path d=\"M245.06,360V357.41H247.23V360Z\" style=\"vector-effect: non-scaling-stroke; opacity: 1; stroke-width: 0px; fill: rgb(99, 110, 250); fill-opacity: 1;\"/></g><g class=\"point\"><path d=\"M0,0Z\" style=\"vector-effect: non-scaling-stroke; opacity: 1; stroke-width: 0px; fill: rgb(99, 110, 250); fill-opacity: 1;\"/></g><g class=\"point\"><path d=\"M0,0Z\" style=\"vector-effect: non-scaling-stroke; opacity: 1; stroke-width: 0px; fill: rgb(99, 110, 250); fill-opacity: 1;\"/></g><g class=\"point\"><path d=\"M0,0Z\" style=\"vector-effect: non-scaling-stroke; opacity: 1; stroke-width: 0px; fill: rgb(99, 110, 250); fill-opacity: 1;\"/></g><g class=\"point\"><path d=\"M0,0Z\" style=\"vector-effect: non-scaling-stroke; opacity: 1; stroke-width: 0px; fill: rgb(99, 110, 250); fill-opacity: 1;\"/></g><g class=\"point\"><path d=\"M0,0Z\" style=\"vector-effect: non-scaling-stroke; opacity: 1; stroke-width: 0px; fill: rgb(99, 110, 250); fill-opacity: 1;\"/></g><g class=\"point\"><path d=\"M0,0Z\" style=\"vector-effect: non-scaling-stroke; opacity: 1; stroke-width: 0px; fill: rgb(99, 110, 250); fill-opacity: 1;\"/></g><g class=\"point\"><path d=\"M0,0Z\" style=\"vector-effect: non-scaling-stroke; opacity: 1; stroke-width: 0px; fill: rgb(99, 110, 250); fill-opacity: 1;\"/></g><g class=\"point\"><path d=\"M0,0Z\" style=\"vector-effect: non-scaling-stroke; opacity: 1; stroke-width: 0px; fill: rgb(99, 110, 250); fill-opacity: 1;\"/></g><g class=\"point\"><path d=\"M0,0Z\" style=\"vector-effect: non-scaling-stroke; opacity: 1; stroke-width: 0px; fill: rgb(99, 110, 250); fill-opacity: 1;\"/></g><g class=\"point\"><path d=\"M0,0Z\" style=\"vector-effect: non-scaling-stroke; opacity: 1; stroke-width: 0px; fill: rgb(99, 110, 250); fill-opacity: 1;\"/></g><g class=\"point\"><path d=\"M0,0Z\" style=\"vector-effect: non-scaling-stroke; opacity: 1; stroke-width: 0px; fill: rgb(99, 110, 250); fill-opacity: 1;\"/></g><g class=\"point\"><path d=\"M0,0Z\" style=\"vector-effect: non-scaling-stroke; opacity: 1; stroke-width: 0px; fill: rgb(99, 110, 250); fill-opacity: 1;\"/></g><g class=\"point\"><path d=\"M0,0Z\" style=\"vector-effect: non-scaling-stroke; opacity: 1; stroke-width: 0px; fill: rgb(99, 110, 250); fill-opacity: 1;\"/></g><g class=\"point\"><path d=\"M0,0Z\" style=\"vector-effect: non-scaling-stroke; opacity: 1; stroke-width: 0px; fill: rgb(99, 110, 250); fill-opacity: 1;\"/></g><g class=\"point\"><path d=\"M0,0Z\" style=\"vector-effect: non-scaling-stroke; opacity: 1; stroke-width: 0px; fill: rgb(99, 110, 250); fill-opacity: 1;\"/></g><g class=\"point\"><path d=\"M0,0Z\" style=\"vector-effect: non-scaling-stroke; opacity: 1; stroke-width: 0px; fill: rgb(99, 110, 250); fill-opacity: 1;\"/></g><g class=\"point\"><path d=\"M0,0Z\" style=\"vector-effect: non-scaling-stroke; opacity: 1; stroke-width: 0px; fill: rgb(99, 110, 250); fill-opacity: 1;\"/></g><g class=\"point\"><path d=\"M0,0Z\" style=\"vector-effect: non-scaling-stroke; opacity: 1; stroke-width: 0px; fill: rgb(99, 110, 250); fill-opacity: 1;\"/></g><g class=\"point\"><path d=\"M0,0Z\" style=\"vector-effect: non-scaling-stroke; opacity: 1; stroke-width: 0px; fill: rgb(99, 110, 250); fill-opacity: 1;\"/></g><g class=\"point\"><path d=\"M0,0Z\" style=\"vector-effect: non-scaling-stroke; opacity: 1; stroke-width: 0px; fill: rgb(99, 110, 250); fill-opacity: 1;\"/></g><g class=\"point\"><path d=\"M0,0Z\" style=\"vector-effect: non-scaling-stroke; opacity: 1; stroke-width: 0px; fill: rgb(99, 110, 250); fill-opacity: 1;\"/></g><g class=\"point\"><path d=\"M0,0Z\" style=\"vector-effect: non-scaling-stroke; opacity: 1; stroke-width: 0px; fill: rgb(99, 110, 250); fill-opacity: 1;\"/></g><g class=\"point\"><path d=\"M0,0Z\" style=\"vector-effect: non-scaling-stroke; opacity: 1; stroke-width: 0px; fill: rgb(99, 110, 250); fill-opacity: 1;\"/></g><g class=\"point\"><path d=\"M0,0Z\" style=\"vector-effect: non-scaling-stroke; opacity: 1; stroke-width: 0px; fill: rgb(99, 110, 250); fill-opacity: 1;\"/></g><g class=\"point\"><path d=\"M0,0Z\" style=\"vector-effect: non-scaling-stroke; opacity: 1; stroke-width: 0px; fill: rgb(99, 110, 250); fill-opacity: 1;\"/></g><g class=\"point\"><path d=\"M0,0Z\" style=\"vector-effect: non-scaling-stroke; opacity: 1; stroke-width: 0px; fill: rgb(99, 110, 250); fill-opacity: 1;\"/></g><g class=\"point\"><path d=\"M0,0Z\" style=\"vector-effect: non-scaling-stroke; opacity: 1; stroke-width: 0px; fill: rgb(99, 110, 250); fill-opacity: 1;\"/></g><g class=\"point\"><path d=\"M0,0Z\" style=\"vector-effect: non-scaling-stroke; opacity: 1; stroke-width: 0px; fill: rgb(99, 110, 250); fill-opacity: 1;\"/></g><g class=\"point\"><path d=\"M0,0Z\" style=\"vector-effect: non-scaling-stroke; opacity: 1; stroke-width: 0px; fill: rgb(99, 110, 250); fill-opacity: 1;\"/></g><g class=\"point\"><path d=\"M0,0Z\" style=\"vector-effect: non-scaling-stroke; opacity: 1; stroke-width: 0px; fill: rgb(99, 110, 250); fill-opacity: 1;\"/></g><g class=\"point\"><path d=\"M0,0Z\" style=\"vector-effect: non-scaling-stroke; opacity: 1; stroke-width: 0px; fill: rgb(99, 110, 250); fill-opacity: 1;\"/></g><g class=\"point\"><path d=\"M0,0Z\" style=\"vector-effect: non-scaling-stroke; opacity: 1; stroke-width: 0px; fill: rgb(99, 110, 250); fill-opacity: 1;\"/></g><g class=\"point\"><path d=\"M0,0Z\" style=\"vector-effect: non-scaling-stroke; opacity: 1; stroke-width: 0px; fill: rgb(99, 110, 250); fill-opacity: 1;\"/></g><g class=\"point\"><path d=\"M0,0Z\" style=\"vector-effect: non-scaling-stroke; opacity: 1; stroke-width: 0px; fill: rgb(99, 110, 250); fill-opacity: 1;\"/></g><g class=\"point\"><path d=\"M0,0Z\" style=\"vector-effect: non-scaling-stroke; opacity: 1; stroke-width: 0px; fill: rgb(99, 110, 250); fill-opacity: 1;\"/></g><g class=\"point\"><path d=\"M0,0Z\" style=\"vector-effect: non-scaling-stroke; opacity: 1; stroke-width: 0px; fill: rgb(99, 110, 250); fill-opacity: 1;\"/></g><g class=\"point\"><path d=\"M0,0Z\" style=\"vector-effect: non-scaling-stroke; opacity: 1; stroke-width: 0px; fill: rgb(99, 110, 250); fill-opacity: 1;\"/></g><g class=\"point\"><path d=\"M0,0Z\" style=\"vector-effect: non-scaling-stroke; opacity: 1; stroke-width: 0px; fill: rgb(99, 110, 250); fill-opacity: 1;\"/></g><g class=\"point\"><path d=\"M0,0Z\" style=\"vector-effect: non-scaling-stroke; opacity: 1; stroke-width: 0px; fill: rgb(99, 110, 250); fill-opacity: 1;\"/></g><g class=\"point\"><path d=\"M0,0Z\" style=\"vector-effect: non-scaling-stroke; opacity: 1; stroke-width: 0px; fill: rgb(99, 110, 250); fill-opacity: 1;\"/></g><g class=\"point\"><path d=\"M0,0Z\" style=\"vector-effect: non-scaling-stroke; opacity: 1; stroke-width: 0px; fill: rgb(99, 110, 250); fill-opacity: 1;\"/></g><g class=\"point\"><path d=\"M0,0Z\" style=\"vector-effect: non-scaling-stroke; opacity: 1; stroke-width: 0px; fill: rgb(99, 110, 250); fill-opacity: 1;\"/></g><g class=\"point\"><path d=\"M0,0Z\" style=\"vector-effect: non-scaling-stroke; opacity: 1; stroke-width: 0px; fill: rgb(99, 110, 250); fill-opacity: 1;\"/></g><g class=\"point\"><path d=\"M0,0Z\" style=\"vector-effect: non-scaling-stroke; opacity: 1; stroke-width: 0px; fill: rgb(99, 110, 250); fill-opacity: 1;\"/></g><g class=\"point\"><path d=\"M0,0Z\" style=\"vector-effect: non-scaling-stroke; opacity: 1; stroke-width: 0px; fill: rgb(99, 110, 250); fill-opacity: 1;\"/></g><g class=\"point\"><path d=\"M0,0Z\" style=\"vector-effect: non-scaling-stroke; opacity: 1; stroke-width: 0px; fill: rgb(99, 110, 250); fill-opacity: 1;\"/></g><g class=\"point\"><path d=\"M0,0Z\" style=\"vector-effect: non-scaling-stroke; opacity: 1; stroke-width: 0px; fill: rgb(99, 110, 250); fill-opacity: 1;\"/></g><g class=\"point\"><path d=\"M0,0Z\" style=\"vector-effect: non-scaling-stroke; opacity: 1; stroke-width: 0px; fill: rgb(99, 110, 250); fill-opacity: 1;\"/></g><g class=\"point\"><path d=\"M0,0Z\" style=\"vector-effect: non-scaling-stroke; opacity: 1; stroke-width: 0px; fill: rgb(99, 110, 250); fill-opacity: 1;\"/></g><g class=\"point\"><path d=\"M0,0Z\" style=\"vector-effect: non-scaling-stroke; opacity: 1; stroke-width: 0px; fill: rgb(99, 110, 250); fill-opacity: 1;\"/></g><g class=\"point\"><path d=\"M0,0Z\" style=\"vector-effect: non-scaling-stroke; opacity: 1; stroke-width: 0px; fill: rgb(99, 110, 250); fill-opacity: 1;\"/></g><g class=\"point\"><path d=\"M0,0Z\" style=\"vector-effect: non-scaling-stroke; opacity: 1; stroke-width: 0px; fill: rgb(99, 110, 250); fill-opacity: 1;\"/></g><g class=\"point\"><path d=\"M0,0Z\" style=\"vector-effect: non-scaling-stroke; opacity: 1; stroke-width: 0px; fill: rgb(99, 110, 250); fill-opacity: 1;\"/></g><g class=\"point\"><path d=\"M0,0Z\" style=\"vector-effect: non-scaling-stroke; opacity: 1; stroke-width: 0px; fill: rgb(99, 110, 250); fill-opacity: 1;\"/></g><g class=\"point\"><path d=\"M0,0Z\" style=\"vector-effect: non-scaling-stroke; opacity: 1; stroke-width: 0px; fill: rgb(99, 110, 250); fill-opacity: 1;\"/></g><g class=\"point\"><path d=\"M0,0Z\" style=\"vector-effect: non-scaling-stroke; opacity: 1; stroke-width: 0px; fill: rgb(99, 110, 250); fill-opacity: 1;\"/></g><g class=\"point\"><path d=\"M0,0Z\" style=\"vector-effect: non-scaling-stroke; opacity: 1; stroke-width: 0px; fill: rgb(99, 110, 250); fill-opacity: 1;\"/></g><g class=\"point\"><path d=\"M0,0Z\" style=\"vector-effect: non-scaling-stroke; opacity: 1; stroke-width: 0px; fill: rgb(99, 110, 250); fill-opacity: 1;\"/></g><g class=\"point\"><path d=\"M0,0Z\" style=\"vector-effect: non-scaling-stroke; opacity: 1; stroke-width: 0px; fill: rgb(99, 110, 250); fill-opacity: 1;\"/></g><g class=\"point\"><path d=\"M0,0Z\" style=\"vector-effect: non-scaling-stroke; opacity: 1; stroke-width: 0px; fill: rgb(99, 110, 250); fill-opacity: 1;\"/></g><g class=\"point\"><path d=\"M0,0Z\" style=\"vector-effect: non-scaling-stroke; opacity: 1; stroke-width: 0px; fill: rgb(99, 110, 250); fill-opacity: 1;\"/></g><g class=\"point\"><path d=\"M0,0Z\" style=\"vector-effect: non-scaling-stroke; opacity: 1; stroke-width: 0px; fill: rgb(99, 110, 250); fill-opacity: 1;\"/></g><g class=\"point\"><path d=\"M0,0Z\" style=\"vector-effect: non-scaling-stroke; opacity: 1; stroke-width: 0px; fill: rgb(99, 110, 250); fill-opacity: 1;\"/></g><g class=\"point\"><path d=\"M0,0Z\" style=\"vector-effect: non-scaling-stroke; opacity: 1; stroke-width: 0px; fill: rgb(99, 110, 250); fill-opacity: 1;\"/></g><g class=\"point\"><path d=\"M0,0Z\" style=\"vector-effect: non-scaling-stroke; opacity: 1; stroke-width: 0px; fill: rgb(99, 110, 250); fill-opacity: 1;\"/></g><g class=\"point\"><path d=\"M0,0Z\" style=\"vector-effect: non-scaling-stroke; opacity: 1; stroke-width: 0px; fill: rgb(99, 110, 250); fill-opacity: 1;\"/></g><g class=\"point\"><path d=\"M0,0Z\" style=\"vector-effect: non-scaling-stroke; opacity: 1; stroke-width: 0px; fill: rgb(99, 110, 250); fill-opacity: 1;\"/></g><g class=\"point\"><path d=\"M0,0Z\" style=\"vector-effect: non-scaling-stroke; opacity: 1; stroke-width: 0px; fill: rgb(99, 110, 250); fill-opacity: 1;\"/></g><g class=\"point\"><path d=\"M0,0Z\" style=\"vector-effect: non-scaling-stroke; opacity: 1; stroke-width: 0px; fill: rgb(99, 110, 250); fill-opacity: 1;\"/></g><g class=\"point\"><path d=\"M0,0Z\" style=\"vector-effect: non-scaling-stroke; opacity: 1; stroke-width: 0px; fill: rgb(99, 110, 250); fill-opacity: 1;\"/></g><g class=\"point\"><path d=\"M0,0Z\" style=\"vector-effect: non-scaling-stroke; opacity: 1; stroke-width: 0px; fill: rgb(99, 110, 250); fill-opacity: 1;\"/></g><g class=\"point\"><path d=\"M0,0Z\" style=\"vector-effect: non-scaling-stroke; opacity: 1; stroke-width: 0px; fill: rgb(99, 110, 250); fill-opacity: 1;\"/></g><g class=\"point\"><path d=\"M0,0Z\" style=\"vector-effect: non-scaling-stroke; opacity: 1; stroke-width: 0px; fill: rgb(99, 110, 250); fill-opacity: 1;\"/></g><g class=\"point\"><path d=\"M0,0Z\" style=\"vector-effect: non-scaling-stroke; opacity: 1; stroke-width: 0px; fill: rgb(99, 110, 250); fill-opacity: 1;\"/></g><g class=\"point\"><path d=\"M0,0Z\" style=\"vector-effect: non-scaling-stroke; opacity: 1; stroke-width: 0px; fill: rgb(99, 110, 250); fill-opacity: 1;\"/></g><g class=\"point\"><path d=\"M0,0Z\" style=\"vector-effect: non-scaling-stroke; opacity: 1; stroke-width: 0px; fill: rgb(99, 110, 250); fill-opacity: 1;\"/></g><g class=\"point\"><path d=\"M0,0Z\" style=\"vector-effect: non-scaling-stroke; opacity: 1; stroke-width: 0px; fill: rgb(99, 110, 250); fill-opacity: 1;\"/></g><g class=\"point\"><path d=\"M0,0Z\" style=\"vector-effect: non-scaling-stroke; opacity: 1; stroke-width: 0px; fill: rgb(99, 110, 250); fill-opacity: 1;\"/></g><g class=\"point\"><path d=\"M0,0Z\" style=\"vector-effect: non-scaling-stroke; opacity: 1; stroke-width: 0px; fill: rgb(99, 110, 250); fill-opacity: 1;\"/></g><g class=\"point\"><path d=\"M0,0Z\" style=\"vector-effect: non-scaling-stroke; opacity: 1; stroke-width: 0px; fill: rgb(99, 110, 250); fill-opacity: 1;\"/></g><g class=\"point\"><path d=\"M0,0Z\" style=\"vector-effect: non-scaling-stroke; opacity: 1; stroke-width: 0px; fill: rgb(99, 110, 250); fill-opacity: 1;\"/></g><g class=\"point\"><path d=\"M0,0Z\" style=\"vector-effect: non-scaling-stroke; opacity: 1; stroke-width: 0px; fill: rgb(99, 110, 250); fill-opacity: 1;\"/></g><g class=\"point\"><path d=\"M0,0Z\" style=\"vector-effect: non-scaling-stroke; opacity: 1; stroke-width: 0px; fill: rgb(99, 110, 250); fill-opacity: 1;\"/></g><g class=\"point\"><path d=\"M0,0Z\" style=\"vector-effect: non-scaling-stroke; opacity: 1; stroke-width: 0px; fill: rgb(99, 110, 250); fill-opacity: 1;\"/></g><g class=\"point\"><path d=\"M0,0Z\" style=\"vector-effect: non-scaling-stroke; opacity: 1; stroke-width: 0px; fill: rgb(99, 110, 250); fill-opacity: 1;\"/></g><g class=\"point\"><path d=\"M0,0Z\" style=\"vector-effect: non-scaling-stroke; opacity: 1; stroke-width: 0px; fill: rgb(99, 110, 250); fill-opacity: 1;\"/></g><g class=\"point\"><path d=\"M0,0Z\" style=\"vector-effect: non-scaling-stroke; opacity: 1; stroke-width: 0px; fill: rgb(99, 110, 250); fill-opacity: 1;\"/></g><g class=\"point\"><path d=\"M0,0Z\" style=\"vector-effect: non-scaling-stroke; opacity: 1; stroke-width: 0px; fill: rgb(99, 110, 250); fill-opacity: 1;\"/></g><g class=\"point\"><path d=\"M0,0Z\" style=\"vector-effect: non-scaling-stroke; opacity: 1; stroke-width: 0px; fill: rgb(99, 110, 250); fill-opacity: 1;\"/></g><g class=\"point\"><path d=\"M0,0Z\" style=\"vector-effect: non-scaling-stroke; opacity: 1; stroke-width: 0px; fill: rgb(99, 110, 250); fill-opacity: 1;\"/></g><g class=\"point\"><path d=\"M0,0Z\" style=\"vector-effect: non-scaling-stroke; opacity: 1; stroke-width: 0px; fill: rgb(99, 110, 250); fill-opacity: 1;\"/></g><g class=\"point\"><path d=\"M0,0Z\" style=\"vector-effect: non-scaling-stroke; opacity: 1; stroke-width: 0px; fill: rgb(99, 110, 250); fill-opacity: 1;\"/></g><g class=\"point\"><path d=\"M0,0Z\" style=\"vector-effect: non-scaling-stroke; opacity: 1; stroke-width: 0px; fill: rgb(99, 110, 250); fill-opacity: 1;\"/></g><g class=\"point\"><path d=\"M0,0Z\" style=\"vector-effect: non-scaling-stroke; opacity: 1; stroke-width: 0px; fill: rgb(99, 110, 250); fill-opacity: 1;\"/></g><g class=\"point\"><path d=\"M0,0Z\" style=\"vector-effect: non-scaling-stroke; opacity: 1; stroke-width: 0px; fill: rgb(99, 110, 250); fill-opacity: 1;\"/></g><g class=\"point\"><path d=\"M0,0Z\" style=\"vector-effect: non-scaling-stroke; opacity: 1; stroke-width: 0px; fill: rgb(99, 110, 250); fill-opacity: 1;\"/></g><g class=\"point\"><path d=\"M0,0Z\" style=\"vector-effect: non-scaling-stroke; opacity: 1; stroke-width: 0px; fill: rgb(99, 110, 250); fill-opacity: 1;\"/></g><g class=\"point\"><path d=\"M0,0Z\" style=\"vector-effect: non-scaling-stroke; opacity: 1; stroke-width: 0px; fill: rgb(99, 110, 250); fill-opacity: 1;\"/></g><g class=\"point\"><path d=\"M0,0Z\" style=\"vector-effect: non-scaling-stroke; opacity: 1; stroke-width: 0px; fill: rgb(99, 110, 250); fill-opacity: 1;\"/></g><g class=\"point\"><path d=\"M0,0Z\" style=\"vector-effect: non-scaling-stroke; opacity: 1; stroke-width: 0px; fill: rgb(99, 110, 250); fill-opacity: 1;\"/></g><g class=\"point\"><path d=\"M0,0Z\" style=\"vector-effect: non-scaling-stroke; opacity: 1; stroke-width: 0px; fill: rgb(99, 110, 250); fill-opacity: 1;\"/></g><g class=\"point\"><path d=\"M0,0Z\" style=\"vector-effect: non-scaling-stroke; opacity: 1; stroke-width: 0px; fill: rgb(99, 110, 250); fill-opacity: 1;\"/></g><g class=\"point\"><path d=\"M0,0Z\" style=\"vector-effect: non-scaling-stroke; opacity: 1; stroke-width: 0px; fill: rgb(99, 110, 250); fill-opacity: 1;\"/></g><g class=\"point\"><path d=\"M0,0Z\" style=\"vector-effect: non-scaling-stroke; opacity: 1; stroke-width: 0px; fill: rgb(99, 110, 250); fill-opacity: 1;\"/></g><g class=\"point\"><path d=\"M0,0Z\" style=\"vector-effect: non-scaling-stroke; opacity: 1; stroke-width: 0px; fill: rgb(99, 110, 250); fill-opacity: 1;\"/></g><g class=\"point\"><path d=\"M0,0Z\" style=\"vector-effect: non-scaling-stroke; opacity: 1; stroke-width: 0px; fill: rgb(99, 110, 250); fill-opacity: 1;\"/></g><g class=\"point\"><path d=\"M0,0Z\" style=\"vector-effect: non-scaling-stroke; opacity: 1; stroke-width: 0px; fill: rgb(99, 110, 250); fill-opacity: 1;\"/></g><g class=\"point\"><path d=\"M0,0Z\" style=\"vector-effect: non-scaling-stroke; opacity: 1; stroke-width: 0px; fill: rgb(99, 110, 250); fill-opacity: 1;\"/></g><g class=\"point\"><path d=\"M0,0Z\" style=\"vector-effect: non-scaling-stroke; opacity: 1; stroke-width: 0px; fill: rgb(99, 110, 250); fill-opacity: 1;\"/></g><g class=\"point\"><path d=\"M0,0Z\" style=\"vector-effect: non-scaling-stroke; opacity: 1; stroke-width: 0px; fill: rgb(99, 110, 250); fill-opacity: 1;\"/></g><g class=\"point\"><path d=\"M0,0Z\" style=\"vector-effect: non-scaling-stroke; opacity: 1; stroke-width: 0px; fill: rgb(99, 110, 250); fill-opacity: 1;\"/></g><g class=\"point\"><path d=\"M0,0Z\" style=\"vector-effect: non-scaling-stroke; opacity: 1; stroke-width: 0px; fill: rgb(99, 110, 250); fill-opacity: 1;\"/></g><g class=\"point\"><path d=\"M0,0Z\" style=\"vector-effect: non-scaling-stroke; opacity: 1; stroke-width: 0px; fill: rgb(99, 110, 250); fill-opacity: 1;\"/></g><g class=\"point\"><path d=\"M0,0Z\" style=\"vector-effect: non-scaling-stroke; opacity: 1; stroke-width: 0px; fill: rgb(99, 110, 250); fill-opacity: 1;\"/></g><g class=\"point\"><path d=\"M0,0Z\" style=\"vector-effect: non-scaling-stroke; opacity: 1; stroke-width: 0px; fill: rgb(99, 110, 250); fill-opacity: 1;\"/></g><g class=\"point\"><path d=\"M0,0Z\" style=\"vector-effect: non-scaling-stroke; opacity: 1; stroke-width: 0px; fill: rgb(99, 110, 250); fill-opacity: 1;\"/></g><g class=\"point\"><path d=\"M0,0Z\" style=\"vector-effect: non-scaling-stroke; opacity: 1; stroke-width: 0px; fill: rgb(99, 110, 250); fill-opacity: 1;\"/></g><g class=\"point\"><path d=\"M0,0Z\" style=\"vector-effect: non-scaling-stroke; opacity: 1; stroke-width: 0px; fill: rgb(99, 110, 250); fill-opacity: 1;\"/></g><g class=\"point\"><path d=\"M0,0Z\" style=\"vector-effect: non-scaling-stroke; opacity: 1; stroke-width: 0px; fill: rgb(99, 110, 250); fill-opacity: 1;\"/></g><g class=\"point\"><path d=\"M0,0Z\" style=\"vector-effect: non-scaling-stroke; opacity: 1; stroke-width: 0px; fill: rgb(99, 110, 250); fill-opacity: 1;\"/></g><g class=\"point\"><path d=\"M0,0Z\" style=\"vector-effect: non-scaling-stroke; opacity: 1; stroke-width: 0px; fill: rgb(99, 110, 250); fill-opacity: 1;\"/></g><g class=\"point\"><path d=\"M0,0Z\" style=\"vector-effect: non-scaling-stroke; opacity: 1; stroke-width: 0px; fill: rgb(99, 110, 250); fill-opacity: 1;\"/></g><g class=\"point\"><path d=\"M0,0Z\" style=\"vector-effect: non-scaling-stroke; opacity: 1; stroke-width: 0px; fill: rgb(99, 110, 250); fill-opacity: 1;\"/></g><g class=\"point\"><path d=\"M0,0Z\" style=\"vector-effect: non-scaling-stroke; opacity: 1; stroke-width: 0px; fill: rgb(99, 110, 250); fill-opacity: 1;\"/></g><g class=\"point\"><path d=\"M0,0Z\" style=\"vector-effect: non-scaling-stroke; opacity: 1; stroke-width: 0px; fill: rgb(99, 110, 250); fill-opacity: 1;\"/></g><g class=\"point\"><path d=\"M0,0Z\" style=\"vector-effect: non-scaling-stroke; opacity: 1; stroke-width: 0px; fill: rgb(99, 110, 250); fill-opacity: 1;\"/></g><g class=\"point\"><path d=\"M0,0Z\" style=\"vector-effect: non-scaling-stroke; opacity: 1; stroke-width: 0px; fill: rgb(99, 110, 250); fill-opacity: 1;\"/></g><g class=\"point\"><path d=\"M0,0Z\" style=\"vector-effect: non-scaling-stroke; opacity: 1; stroke-width: 0px; fill: rgb(99, 110, 250); fill-opacity: 1;\"/></g><g class=\"point\"><path d=\"M0,0Z\" style=\"vector-effect: non-scaling-stroke; opacity: 1; stroke-width: 0px; fill: rgb(99, 110, 250); fill-opacity: 1;\"/></g><g class=\"point\"><path d=\"M0,0Z\" style=\"vector-effect: non-scaling-stroke; opacity: 1; stroke-width: 0px; fill: rgb(99, 110, 250); fill-opacity: 1;\"/></g><g class=\"point\"><path d=\"M0,0Z\" style=\"vector-effect: non-scaling-stroke; opacity: 1; stroke-width: 0px; fill: rgb(99, 110, 250); fill-opacity: 1;\"/></g><g class=\"point\"><path d=\"M0,0Z\" style=\"vector-effect: non-scaling-stroke; opacity: 1; stroke-width: 0px; fill: rgb(99, 110, 250); fill-opacity: 1;\"/></g><g class=\"point\"><path d=\"M0,0Z\" style=\"vector-effect: non-scaling-stroke; opacity: 1; stroke-width: 0px; fill: rgb(99, 110, 250); fill-opacity: 1;\"/></g><g class=\"point\"><path d=\"M0,0Z\" style=\"vector-effect: non-scaling-stroke; opacity: 1; stroke-width: 0px; fill: rgb(99, 110, 250); fill-opacity: 1;\"/></g><g class=\"point\"><path d=\"M537.83,360V357.41H540V360Z\" style=\"vector-effect: non-scaling-stroke; opacity: 1; stroke-width: 0px; fill: rgb(99, 110, 250); fill-opacity: 1;\"/></g></g></g></g></g><g class=\"overplot\"/><path class=\"xlines-above crisp\" d=\"M0,0\" style=\"fill: none;\"/><path class=\"ylines-above crisp\" d=\"M0,0\" style=\"fill: none;\"/><g class=\"overlines-above\"/><g class=\"xaxislayer-above\"><g class=\"xtick\"><text text-anchor=\"middle\" x=\"0\" y=\"433\" transform=\"translate(187.35,0)\" style=\"font-family: 'Open Sans', verdana, arial, sans-serif; font-size: 12px; fill: rgb(42, 63, 95); fill-opacity: 1; white-space: pre; opacity: 1;\">50</text></g><g class=\"xtick\"><text text-anchor=\"middle\" x=\"0\" y=\"433\" style=\"font-family: 'Open Sans', verdana, arial, sans-serif; font-size: 12px; fill: rgb(42, 63, 95); fill-opacity: 1; white-space: pre; opacity: 1;\" transform=\"translate(295.78,0)\">100</text></g><g class=\"xtick\"><text text-anchor=\"middle\" x=\"0\" y=\"433\" style=\"font-family: 'Open Sans', verdana, arial, sans-serif; font-size: 12px; fill: rgb(42, 63, 95); fill-opacity: 1; white-space: pre; opacity: 1;\" transform=\"translate(404.22,0)\">150</text></g><g class=\"xtick\"><text text-anchor=\"middle\" x=\"0\" y=\"433\" style=\"font-family: 'Open Sans', verdana, arial, sans-serif; font-size: 12px; fill: rgb(42, 63, 95); fill-opacity: 1; white-space: pre; opacity: 1;\" transform=\"translate(512.65,0)\">200</text></g></g><g class=\"yaxislayer-above\"><g class=\"ytick\"><text text-anchor=\"end\" x=\"79\" y=\"4.199999999999999\" transform=\"translate(0,420)\" style=\"font-family: 'Open Sans', verdana, arial, sans-serif; font-size: 12px; fill: rgb(42, 63, 95); fill-opacity: 1; white-space: pre; opacity: 1;\">0</text></g><g class=\"ytick\"><text text-anchor=\"end\" x=\"79\" y=\"4.199999999999999\" style=\"font-family: 'Open Sans', verdana, arial, sans-serif; font-size: 12px; fill: rgb(42, 63, 95); fill-opacity: 1; white-space: pre; opacity: 1;\" transform=\"translate(0,368.18)\">20</text></g><g class=\"ytick\"><text text-anchor=\"end\" x=\"79\" y=\"4.199999999999999\" style=\"font-family: 'Open Sans', verdana, arial, sans-serif; font-size: 12px; fill: rgb(42, 63, 95); fill-opacity: 1; white-space: pre; opacity: 1;\" transform=\"translate(0,316.36)\">40</text></g><g class=\"ytick\"><text text-anchor=\"end\" x=\"79\" y=\"4.199999999999999\" style=\"font-family: 'Open Sans', verdana, arial, sans-serif; font-size: 12px; fill: rgb(42, 63, 95); fill-opacity: 1; white-space: pre; opacity: 1;\" transform=\"translate(0,264.55)\">60</text></g><g class=\"ytick\"><text text-anchor=\"end\" x=\"79\" y=\"4.199999999999999\" style=\"font-family: 'Open Sans', verdana, arial, sans-serif; font-size: 12px; fill: rgb(42, 63, 95); fill-opacity: 1; white-space: pre; opacity: 1;\" transform=\"translate(0,212.73)\">80</text></g><g class=\"ytick\"><text text-anchor=\"end\" x=\"79\" y=\"4.199999999999999\" style=\"font-family: 'Open Sans', verdana, arial, sans-serif; font-size: 12px; fill: rgb(42, 63, 95); fill-opacity: 1; white-space: pre; opacity: 1;\" transform=\"translate(0,160.91)\">100</text></g><g class=\"ytick\"><text text-anchor=\"end\" x=\"79\" y=\"4.199999999999999\" style=\"font-family: 'Open Sans', verdana, arial, sans-serif; font-size: 12px; fill: rgb(42, 63, 95); fill-opacity: 1; white-space: pre; opacity: 1;\" transform=\"translate(0,109.09)\">120</text></g></g><g class=\"overaxes-above\"/></g></g><g class=\"polarlayer\"/><g class=\"smithlayer\"/><g class=\"ternarylayer\"/><g class=\"geolayer\"/><g class=\"funnelarealayer\"/><g class=\"pielayer\"/><g class=\"iciclelayer\"/><g class=\"treemaplayer\"/><g class=\"sunburstlayer\"/><g class=\"glimages\"/><defs id=\"topdefs-dce483\"><g class=\"clips\"/></defs><g class=\"layer-above\"><g class=\"imagelayer\"/><g class=\"shapelayer\"><path data-index=\"0\" fill-rule=\"evenodd\" d=\"M200.36,420L200.36,60\" clip-path=\"url(#clipdce483x)\" style=\"opacity: 1; stroke: rgb(0, 128, 0); stroke-opacity: 1; fill: rgb(0, 0, 0); fill-opacity: 0; stroke-width: 2px;\"/></g></g><g class=\"infolayer\"><g class=\"g-gtitle\"/><g class=\"g-xtitle\"><text class=\"xtitle\" x=\"350\" y=\"460.3\" text-anchor=\"middle\" style=\"font-family: 'Open Sans', verdana, arial, sans-serif; font-size: 14px; fill: rgb(42, 63, 95); opacity: 1; font-weight: normal; white-space: pre;\">Sentence Length</text></g><g class=\"g-ytitle\"><text class=\"ytitle\" transform=\"rotate(-90,31.309375000000003,240)\" x=\"31.309375000000003\" y=\"240\" text-anchor=\"middle\" style=\"font-family: 'Open Sans', verdana, arial, sans-serif; font-size: 14px; fill: rgb(42, 63, 95); opacity: 1; font-weight: normal; white-space: pre;\">count</text></g><g class=\"annotation\" data-index=\"0\" style=\"opacity: 1;\"><g class=\"annotation-text-g\" transform=\"rotate(0,247.86,69.5)\"><g class=\"cursor-pointer\" transform=\"translate(200,60)\"><rect class=\"bg\" x=\"0.5\" y=\"0.5\" width=\"94\" height=\"18\" style=\"stroke-width: 1px; stroke: rgb(0, 0, 0); stroke-opacity: 0; fill: rgb(0, 0, 0); fill-opacity: 0;\"/><text class=\"annotation-text\" text-anchor=\"middle\" x=\"47.515625\" y=\"14\" style=\"font-family: 'Open Sans', verdana, arial, sans-serif; font-size: 12px; fill: rgb(42, 63, 95); fill-opacity: 1; white-space: pre;\">99th percentile</text></g></g></g></g></svg>"
     },
     "metadata": {},
     "output_type": "display_data"
    }
   ],
   "source": [
    "sentences_len = ds_sentences.query(f'document <= {TEST_DOC_LB-1}')['token'].transform(len)\n",
    "len_quantile = sentences_len.quantile(.99)\n",
    "print('99th percentile of sentence length in training + validation set:', len_quantile)\n",
    "\n",
    "fig = px.histogram(sentences_len, labels={'value': 'Sentence Length'})\n",
    "fig.add_vline(len_quantile, annotation_text=\"99th percentile\", line_color='green')\n",
    "fig.update_layout(showlegend=False)\n",
    "fig.show('svg')"
   ]
  },
  {
   "cell_type": "markdown",
   "metadata": {
    "id": "kBGGDA9VXMyX"
   },
   "source": [
    "The 99th percentile suggests to trim sentences that exceed 56 tokens and pad sentences with fewer tokens, in order to prevent the few outliers from causing sentence encodings to be wastefully long."
   ]
  },
  {
   "cell_type": "code",
   "execution_count": 18,
   "metadata": {
    "colab": {
     "base_uri": "https://localhost:8080/"
    },
    "executionInfo": {
     "elapsed": 7,
     "status": "ok",
     "timestamp": 1639661551618,
     "user": {
      "displayName": "Francesco Ballerini",
      "photoUrl": "https://lh3.googleusercontent.com/a-/AOh14Gg-R7R-HjBq_dn0hwuUoDXC2RwAVd1JXz6dReMZ3g=s64",
      "userId": "00684324433983888967"
     },
     "user_tz": -60
    },
    "id": "dyXxTUDLXMyY",
    "outputId": "4b1a214a-627e-4e37-bcb1-6fc1307b931e"
   },
   "outputs": [
    {
     "name": "stdout",
     "output_type": "stream",
     "text": [
      "\n",
      "X shapes [sentences x tokens]\n",
      "    x_train.shape = (1963, 56)\n",
      "    x_val.shape   = (1299, 56)\n",
      "    x_test.shape  = (652, 56)\n",
      "\n",
      "Y shapes [sentences x tags x one-hot-size]\n",
      "    y_train.shape = (1963, 56, 46)\n",
      "    y_val.shape   = (1299, 56, 46)\n",
      "    y_test.shape  = (652, 56, 46)\n",
      "\n"
     ]
    }
   ],
   "source": [
    "pad = lambda x: pad_sequences(x, maxlen=int(len_quantile), padding='pre', truncating='pre')\n",
    "\n",
    "\n",
    "def get_model_data(df: pd.DataFrame, lb=0, ub=None):\n",
    "    df = df.query(f'{lb} <= document <= {ub}') if ub else df.query(f'{lb} <= document')\n",
    "    toks = pad(df['token_index'])\n",
    "    tags = pad(df['tag_index'])\n",
    "    # One-hot encode tags\n",
    "    tags = to_categorical(tags, num_classes=num_tags)\n",
    "    return toks, tags\n",
    "\n",
    "\n",
    "# Build the data that will be fed to the model\n",
    "x_train, y_train = get_model_data(ds_sentences, 0, TRAIN_DOC_UB)\n",
    "x_val, y_val = get_model_data(ds_sentences, TRAIN_DOC_UB + 1, TEST_DOC_LB - 1)\n",
    "x_test, y_test = get_model_data(ds_sentences, TEST_DOC_LB)\n",
    "\n",
    "# Check shapes\n",
    "print(f\"\"\"\n",
    "X shapes [sentences x tokens]\n",
    "    x_train.shape = {x_train.shape}\n",
    "    x_val.shape   = {x_val.shape}\n",
    "    x_test.shape  = {x_test.shape}\n",
    "\n",
    "Y shapes [sentences x tags x one-hot-size]\n",
    "    y_train.shape = {y_train.shape}\n",
    "    y_val.shape   = {y_val.shape}\n",
    "    y_test.shape  = {y_test.shape}\n",
    "\"\"\")"
   ]
  },
  {
   "cell_type": "markdown",
   "metadata": {
    "id": "HNHfrNO-XMyZ"
   },
   "source": [
    "## 1.8 - Class Imbalance Analysis\n",
    "It is reasonable to expect tags to be non-uniformly distributed throughout our dataset, as some parts of speech are intrinsically more common than others in any natural language."
   ]
  },
  {
   "cell_type": "code",
   "execution_count": 19,
   "metadata": {
    "colab": {
     "base_uri": "https://localhost:8080/",
     "height": 542
    },
    "executionInfo": {
     "elapsed": 3115,
     "status": "ok",
     "timestamp": 1639661554728,
     "user": {
      "displayName": "Francesco Ballerini",
      "photoUrl": "https://lh3.googleusercontent.com/a-/AOh14Gg-R7R-HjBq_dn0hwuUoDXC2RwAVd1JXz6dReMZ3g=s64",
      "userId": "00684324433983888967"
     },
     "user_tz": -60
    },
    "id": "vXTS-3kyXMyZ",
    "outputId": "4fa52f58-7a1f-45da-b370-1066060f916b"
   },
   "outputs": [
    {
     "data": {
      "image/svg+xml": "<svg class=\"main-svg\" xmlns=\"http://www.w3.org/2000/svg\" xmlns:xlink=\"http://www.w3.org/1999/xlink\" width=\"700\" height=\"500\" style=\"\" viewBox=\"0 0 700 500\"><rect x=\"0\" y=\"0\" width=\"700\" height=\"500\" style=\"fill: rgb(255, 255, 255); fill-opacity: 1;\"/><defs id=\"defs-59aea2\"><g class=\"clips\"><clipPath id=\"clip59aea2xyplot\" class=\"plotclip\"><rect width=\"540\" height=\"360\"/></clipPath><clipPath class=\"axesclip\" id=\"clip59aea2x\"><rect x=\"80\" y=\"0\" width=\"540\" height=\"500\"/></clipPath><clipPath class=\"axesclip\" id=\"clip59aea2y\"><rect x=\"0\" y=\"60\" width=\"700\" height=\"360\"/></clipPath><clipPath class=\"axesclip\" id=\"clip59aea2xy\"><rect x=\"80\" y=\"60\" width=\"540\" height=\"360\"/></clipPath></g><g class=\"gradients\"/><g class=\"patterns\"/></defs><g class=\"bglayer\"><rect class=\"bg\" x=\"80\" y=\"60\" width=\"540\" height=\"360\" style=\"fill: rgb(229, 236, 246); fill-opacity: 1; stroke-width: 0;\"/></g><g class=\"layer-below\"><g class=\"imagelayer\"/><g class=\"shapelayer\"/></g><g class=\"cartesianlayer\"><g class=\"subplot xy\"><g class=\"layer-subplot\"><g class=\"shapelayer\"/><g class=\"imagelayer\"/></g><g class=\"gridlayer\"><g class=\"x\"/><g class=\"y\"><path class=\"ygrid crisp\" transform=\"translate(0,368.05)\" d=\"M80,0h540\" style=\"stroke: rgb(255, 255, 255); stroke-opacity: 1; stroke-width: 1px;\"/><path class=\"ygrid crisp\" transform=\"translate(0,316.1)\" d=\"M80,0h540\" style=\"stroke: rgb(255, 255, 255); stroke-opacity: 1; stroke-width: 1px;\"/><path class=\"ygrid crisp\" transform=\"translate(0,264.14)\" d=\"M80,0h540\" style=\"stroke: rgb(255, 255, 255); stroke-opacity: 1; stroke-width: 1px;\"/><path class=\"ygrid crisp\" transform=\"translate(0,212.19)\" d=\"M80,0h540\" style=\"stroke: rgb(255, 255, 255); stroke-opacity: 1; stroke-width: 1px;\"/><path class=\"ygrid crisp\" transform=\"translate(0,160.24)\" d=\"M80,0h540\" style=\"stroke: rgb(255, 255, 255); stroke-opacity: 1; stroke-width: 1px;\"/><path class=\"ygrid crisp\" transform=\"translate(0,108.28999999999999)\" d=\"M80,0h540\" style=\"stroke: rgb(255, 255, 255); stroke-opacity: 1; stroke-width: 1px;\"/></g></g><g class=\"zerolinelayer\"><path class=\"yzl zl crisp\" transform=\"translate(0,420)\" d=\"M80,0h540\" style=\"stroke: rgb(255, 255, 255); stroke-opacity: 1; stroke-width: 2px;\"/></g><path class=\"xlines-below\"/><path class=\"ylines-below\"/><g class=\"overlines-below\"/><g class=\"xaxislayer-below\"/><g class=\"yaxislayer-below\"/><g class=\"overaxes-below\"/><g class=\"plot\" transform=\"translate(80,60)\" clip-path=\"url(#clip59aea2xyplot)\"><g class=\"barlayer mlayer\"><g class=\"trace bars\" style=\"opacity: 1;\"><g class=\"points\"><g class=\"point\"><path d=\"M1.2,360V115.57H10.8V360Z\" style=\"vector-effect: non-scaling-stroke; opacity: 1; stroke-width: 0px; fill: rgb(99, 110, 250); fill-opacity: 1;\"/></g><g class=\"point\"><path d=\"M13.2,360V233.08H22.8V360Z\" style=\"vector-effect: non-scaling-stroke; opacity: 1; stroke-width: 0px; fill: rgb(99, 110, 250); fill-opacity: 1;\"/></g><g class=\"point\"><path d=\"M25.2,360V267.89H34.8V360Z\" style=\"vector-effect: non-scaling-stroke; opacity: 1; stroke-width: 0px; fill: rgb(99, 110, 250); fill-opacity: 1;\"/></g><g class=\"point\"><path d=\"M37.2,360V202.92H46.8V360Z\" style=\"vector-effect: non-scaling-stroke; opacity: 1; stroke-width: 0px; fill: rgb(99, 110, 250); fill-opacity: 1;\"/></g><g class=\"point\"><path d=\"M49.2,360V208.46H58.8V360Z\" style=\"vector-effect: non-scaling-stroke; opacity: 1; stroke-width: 0px; fill: rgb(99, 110, 250); fill-opacity: 1;\"/></g><g class=\"point\"><path d=\"M61.2,360V335.92H70.8V360Z\" style=\"vector-effect: non-scaling-stroke; opacity: 1; stroke-width: 0px; fill: rgb(99, 110, 250); fill-opacity: 1;\"/></g><g class=\"point\"><path d=\"M73.2,360V293.66H82.8V360Z\" style=\"vector-effect: non-scaling-stroke; opacity: 1; stroke-width: 0px; fill: rgb(99, 110, 250); fill-opacity: 1;\"/></g><g class=\"point\"><path d=\"M85.2,360V147.91H94.8V360Z\" style=\"vector-effect: non-scaling-stroke; opacity: 1; stroke-width: 0px; fill: rgb(99, 110, 250); fill-opacity: 1;\"/></g><g class=\"point\"><path d=\"M97.2,360V18H106.8V360Z\" style=\"vector-effect: non-scaling-stroke; opacity: 1; stroke-width: 0px; fill: rgb(99, 110, 250); fill-opacity: 1;\"/></g><g class=\"point\"><path d=\"M109.2,360V103.95H118.8V360Z\" style=\"vector-effect: non-scaling-stroke; opacity: 1; stroke-width: 0px; fill: rgb(99, 110, 250); fill-opacity: 1;\"/></g><g class=\"point\"><path d=\"M121.2,360V259.37H130.8V360Z\" style=\"vector-effect: non-scaling-stroke; opacity: 1; stroke-width: 0px; fill: rgb(99, 110, 250); fill-opacity: 1;\"/></g><g class=\"point\"><path d=\"M133.2,360V304.8H142.8V360Z\" style=\"vector-effect: non-scaling-stroke; opacity: 1; stroke-width: 0px; fill: rgb(99, 110, 250); fill-opacity: 1;\"/></g><g class=\"point\"><path d=\"M145.2,360V322.08H154.8V360Z\" style=\"vector-effect: non-scaling-stroke; opacity: 1; stroke-width: 0px; fill: rgb(99, 110, 250); fill-opacity: 1;\"/></g><g class=\"point\"><path d=\"M157.2,360V301.16H166.8V360Z\" style=\"vector-effect: non-scaling-stroke; opacity: 1; stroke-width: 0px; fill: rgb(99, 110, 250); fill-opacity: 1;\"/></g><g class=\"point\"><path d=\"M169.2,360V280.96H178.8V360Z\" style=\"vector-effect: non-scaling-stroke; opacity: 1; stroke-width: 0px; fill: rgb(99, 110, 250); fill-opacity: 1;\"/></g><g class=\"point\"><path d=\"M181.2,360V304.57H190.8V360Z\" style=\"vector-effect: non-scaling-stroke; opacity: 1; stroke-width: 0px; fill: rgb(99, 110, 250); fill-opacity: 1;\"/></g><g class=\"point\"><path d=\"M193.2,360V286.7H202.8V360Z\" style=\"vector-effect: non-scaling-stroke; opacity: 1; stroke-width: 0px; fill: rgb(99, 110, 250); fill-opacity: 1;\"/></g><g class=\"point\"><path d=\"M205.2,360V303.4H214.8V360Z\" style=\"vector-effect: non-scaling-stroke; opacity: 1; stroke-width: 0px; fill: rgb(99, 110, 250); fill-opacity: 1;\"/></g><g class=\"point\"><path d=\"M217.2,360V315.43H226.8V360Z\" style=\"vector-effect: non-scaling-stroke; opacity: 1; stroke-width: 0px; fill: rgb(99, 110, 250); fill-opacity: 1;\"/></g><g class=\"point\"><path d=\"M229.2,360V356.47H238.8V360Z\" style=\"vector-effect: non-scaling-stroke; opacity: 1; stroke-width: 0px; fill: rgb(99, 110, 250); fill-opacity: 1;\"/></g><g class=\"point\"><path d=\"M241.2,360V348.44H250.8V360Z\" style=\"vector-effect: non-scaling-stroke; opacity: 1; stroke-width: 0px; fill: rgb(99, 110, 250); fill-opacity: 1;\"/></g><g class=\"point\"><path d=\"M253.2,360V325.69H262.8V360Z\" style=\"vector-effect: non-scaling-stroke; opacity: 1; stroke-width: 0px; fill: rgb(99, 110, 250); fill-opacity: 1;\"/></g><g class=\"point\"><path d=\"M265.2,360V354.39H274.8V360Z\" style=\"vector-effect: non-scaling-stroke; opacity: 1; stroke-width: 0px; fill: rgb(99, 110, 250); fill-opacity: 1;\"/></g><g class=\"point\"><path d=\"M277.2,360V340.1H286.8V360Z\" style=\"vector-effect: non-scaling-stroke; opacity: 1; stroke-width: 0px; fill: rgb(99, 110, 250); fill-opacity: 1;\"/></g><g class=\"point\"><path d=\"M289.2,360V355.27H298.8V360Z\" style=\"vector-effect: non-scaling-stroke; opacity: 1; stroke-width: 0px; fill: rgb(99, 110, 250); fill-opacity: 1;\"/></g><g class=\"point\"><path d=\"M301.2,360V338.6H310.8V360Z\" style=\"vector-effect: non-scaling-stroke; opacity: 1; stroke-width: 0px; fill: rgb(99, 110, 250); fill-opacity: 1;\"/></g><g class=\"point\"><path d=\"M313.2,360V341.51H322.8V360Z\" style=\"vector-effect: non-scaling-stroke; opacity: 1; stroke-width: 0px; fill: rgb(99, 110, 250); fill-opacity: 1;\"/></g><g class=\"point\"><path d=\"M325.2,360V357.71H334.8V360Z\" style=\"vector-effect: non-scaling-stroke; opacity: 1; stroke-width: 0px; fill: rgb(99, 110, 250); fill-opacity: 1;\"/></g><g class=\"point\"><path d=\"M337.2,360V341.97H346.8V360Z\" style=\"vector-effect: non-scaling-stroke; opacity: 1; stroke-width: 0px; fill: rgb(99, 110, 250); fill-opacity: 1;\"/></g><g class=\"point\"><path d=\"M349.2,360V353.74H358.8V360Z\" style=\"vector-effect: non-scaling-stroke; opacity: 1; stroke-width: 0px; fill: rgb(99, 110, 250); fill-opacity: 1;\"/></g><g class=\"point\"><path d=\"M361.2,360V345.38H370.8V360Z\" style=\"vector-effect: non-scaling-stroke; opacity: 1; stroke-width: 0px; fill: rgb(99, 110, 250); fill-opacity: 1;\"/></g><g class=\"point\"><path d=\"M373.2,360V350.1H382.8V360Z\" style=\"vector-effect: non-scaling-stroke; opacity: 1; stroke-width: 0px; fill: rgb(99, 110, 250); fill-opacity: 1;\"/></g><g class=\"point\"><path d=\"M385.2,360V355.38H394.8V360Z\" style=\"vector-effect: non-scaling-stroke; opacity: 1; stroke-width: 0px; fill: rgb(99, 110, 250); fill-opacity: 1;\"/></g><g class=\"point\"><path d=\"M397.2,360V341.19H406.8V360Z\" style=\"vector-effect: non-scaling-stroke; opacity: 1; stroke-width: 0px; fill: rgb(99, 110, 250); fill-opacity: 1;\"/></g><g class=\"point\"><path d=\"M409.2,360V353.66H418.8V360Z\" style=\"vector-effect: non-scaling-stroke; opacity: 1; stroke-width: 0px; fill: rgb(99, 110, 250); fill-opacity: 1;\"/></g><g class=\"point\"><path d=\"M421.2,360V359.64H430.8V360Z\" style=\"vector-effect: non-scaling-stroke; opacity: 1; stroke-width: 0px; fill: rgb(99, 110, 250); fill-opacity: 1;\"/></g><g class=\"point\"><path d=\"M433.2,360V356.88H442.8V360Z\" style=\"vector-effect: non-scaling-stroke; opacity: 1; stroke-width: 0px; fill: rgb(99, 110, 250); fill-opacity: 1;\"/></g><g class=\"point\"><path d=\"M445.2,360V356.73H454.8V360Z\" style=\"vector-effect: non-scaling-stroke; opacity: 1; stroke-width: 0px; fill: rgb(99, 110, 250); fill-opacity: 1;\"/></g><g class=\"point\"><path d=\"M457.2,360V359.3H466.8V360Z\" style=\"vector-effect: non-scaling-stroke; opacity: 1; stroke-width: 0px; fill: rgb(99, 110, 250); fill-opacity: 1;\"/></g><g class=\"point\"><path d=\"M469.2,360V359.09H478.8V360Z\" style=\"vector-effect: non-scaling-stroke; opacity: 1; stroke-width: 0px; fill: rgb(99, 110, 250); fill-opacity: 1;\"/></g><g class=\"point\"><path d=\"M481.2,360V359.9H490.8V360Z\" style=\"vector-effect: non-scaling-stroke; opacity: 1; stroke-width: 0px; fill: rgb(99, 110, 250); fill-opacity: 1;\"/></g><g class=\"point\"><path d=\"M493.2,360V359.92H502.8V360Z\" style=\"vector-effect: non-scaling-stroke; opacity: 1; stroke-width: 0px; fill: rgb(99, 110, 250); fill-opacity: 1;\"/></g><g class=\"point\"><path d=\"M505.2,360V359.97H514.8V360Z\" style=\"vector-effect: non-scaling-stroke; opacity: 1; stroke-width: 0px; fill: rgb(99, 110, 250); fill-opacity: 1;\"/></g><g class=\"point\"><path d=\"M517.2,360V359.66H526.8V360Z\" style=\"vector-effect: non-scaling-stroke; opacity: 1; stroke-width: 0px; fill: rgb(99, 110, 250); fill-opacity: 1;\"/></g><g class=\"point\"><path d=\"M529.2,360V359.58H538.8V360Z\" style=\"vector-effect: non-scaling-stroke; opacity: 1; stroke-width: 0px; fill: rgb(99, 110, 250); fill-opacity: 1;\"/></g></g></g></g></g><g class=\"overplot\"/><path class=\"xlines-above crisp\" d=\"M0,0\" style=\"fill: none;\"/><path class=\"ylines-above crisp\" d=\"M0,0\" style=\"fill: none;\"/><g class=\"overlines-above\"/><g class=\"xaxislayer-above\"><g class=\"xtick\"><text text-anchor=\"start\" x=\"0\" y=\"433\" transform=\"translate(86,0) rotate(90,0,427)\" style=\"font-family: 'Open Sans', verdana, arial, sans-serif; font-size: 12px; fill: rgb(42, 63, 95); fill-opacity: 1; white-space: pre; opacity: 1;\">NNP</text></g><g class=\"xtick\"><text text-anchor=\"start\" x=\"0\" y=\"433\" transform=\"translate(110,0) rotate(90,0,427)\" style=\"font-family: 'Open Sans', verdana, arial, sans-serif; font-size: 12px; fill: rgb(42, 63, 95); fill-opacity: 1; white-space: pre; opacity: 1;\">CD</text></g><g class=\"xtick\"><text text-anchor=\"start\" x=\"0\" y=\"433\" transform=\"translate(134,0) rotate(90,0,427)\" style=\"font-family: 'Open Sans', verdana, arial, sans-serif; font-size: 12px; fill: rgb(42, 63, 95); fill-opacity: 1; white-space: pre; opacity: 1;\">JJ</text></g><g class=\"xtick\"><text text-anchor=\"start\" x=\"0\" y=\"433\" transform=\"translate(158,0) rotate(90,0,427)\" style=\"font-family: 'Open Sans', verdana, arial, sans-serif; font-size: 12px; fill: rgb(42, 63, 95); fill-opacity: 1; white-space: pre; opacity: 1;\">VB</text></g><g class=\"xtick\"><text text-anchor=\"start\" x=\"0\" y=\"433\" transform=\"translate(182,0) rotate(90,0,427)\" style=\"font-family: 'Open Sans', verdana, arial, sans-serif; font-size: 12px; fill: rgb(42, 63, 95); fill-opacity: 1; white-space: pre; opacity: 1;\">NN</text></g><g class=\"xtick\"><text text-anchor=\"start\" x=\"0\" y=\"433\" transform=\"translate(206,0) rotate(90,0,427)\" style=\"font-family: 'Open Sans', verdana, arial, sans-serif; font-size: 12px; fill: rgb(42, 63, 95); fill-opacity: 1; white-space: pre; opacity: 1;\">.</text></g><g class=\"xtick\"><text text-anchor=\"start\" x=\"0\" y=\"433\" transform=\"translate(230,0) rotate(90,0,427)\" style=\"font-family: 'Open Sans', verdana, arial, sans-serif; font-size: 12px; fill: rgb(42, 63, 95); fill-opacity: 1; white-space: pre; opacity: 1;\">VBG</text></g><g class=\"xtick\"><text text-anchor=\"start\" x=\"0\" y=\"433\" transform=\"translate(254,0) rotate(90,0,427)\" style=\"font-family: 'Open Sans', verdana, arial, sans-serif; font-size: 12px; fill: rgb(42, 63, 95); fill-opacity: 1; white-space: pre; opacity: 1;\">VBD</text></g><g class=\"xtick\"><text text-anchor=\"start\" x=\"0\" y=\"433\" transform=\"translate(278,0) rotate(90,0,427)\" style=\"font-family: 'Open Sans', verdana, arial, sans-serif; font-size: 12px; fill: rgb(42, 63, 95); fill-opacity: 1; white-space: pre; opacity: 1;\">RB</text></g><g class=\"xtick\"><text text-anchor=\"start\" x=\"0\" y=\"433\" transform=\"translate(302,0) rotate(90,0,427)\" style=\"font-family: 'Open Sans', verdana, arial, sans-serif; font-size: 12px; fill: rgb(42, 63, 95); fill-opacity: 1; white-space: pre; opacity: 1;\">PRP</text></g><g class=\"xtick\"><text text-anchor=\"start\" x=\"0\" y=\"433\" transform=\"translate(326,0) rotate(90,0,427)\" style=\"font-family: 'Open Sans', verdana, arial, sans-serif; font-size: 12px; fill: rgb(42, 63, 95); fill-opacity: 1; white-space: pre; opacity: 1;\">WDT</text></g><g class=\"xtick\"><text text-anchor=\"start\" x=\"0\" y=\"433\" transform=\"translate(350,0) rotate(90,0,427)\" style=\"font-family: 'Open Sans', verdana, arial, sans-serif; font-size: 12px; fill: rgb(42, 63, 95); fill-opacity: 1; white-space: pre; opacity: 1;\">RP</text></g><g class=\"xtick\"><text text-anchor=\"start\" x=\"0\" y=\"433\" transform=\"translate(374,0) rotate(90,0,427)\" style=\"font-family: 'Open Sans', verdana, arial, sans-serif; font-size: 12px; fill: rgb(42, 63, 95); fill-opacity: 1; white-space: pre; opacity: 1;\">JJS</text></g><g class=\"xtick\"><text text-anchor=\"start\" x=\"0\" y=\"433\" transform=\"translate(398,0) rotate(90,0,427)\" style=\"font-family: 'Open Sans', verdana, arial, sans-serif; font-size: 12px; fill: rgb(42, 63, 95); fill-opacity: 1; white-space: pre; opacity: 1;\">``</text></g><g class=\"xtick\"><text text-anchor=\"start\" x=\"0\" y=\"433\" transform=\"translate(422,0) rotate(90,0,427)\" style=\"font-family: 'Open Sans', verdana, arial, sans-serif; font-size: 12px; fill: rgb(42, 63, 95); fill-opacity: 1; white-space: pre; opacity: 1;\">''</text></g><g class=\"xtick\"><text text-anchor=\"start\" x=\"0\" y=\"433\" transform=\"translate(446,0) rotate(90,0,427)\" style=\"font-family: 'Open Sans', verdana, arial, sans-serif; font-size: 12px; fill: rgb(42, 63, 95); fill-opacity: 1; white-space: pre; opacity: 1;\">:</text></g><g class=\"xtick\"><text text-anchor=\"start\" x=\"0\" y=\"433\" transform=\"translate(470,0) rotate(90,0,427)\" style=\"font-family: 'Open Sans', verdana, arial, sans-serif; font-size: 12px; fill: rgb(42, 63, 95); fill-opacity: 1; white-space: pre; opacity: 1;\">WRB</text></g><g class=\"xtick\"><text text-anchor=\"start\" x=\"0\" y=\"433\" transform=\"translate(494,0) rotate(90,0,427)\" style=\"font-family: 'Open Sans', verdana, arial, sans-serif; font-size: 12px; fill: rgb(42, 63, 95); fill-opacity: 1; white-space: pre; opacity: 1;\">NNPS</text></g><g class=\"xtick\"><text text-anchor=\"start\" x=\"0\" y=\"433\" transform=\"translate(518,0) rotate(90,0,427)\" style=\"font-family: 'Open Sans', verdana, arial, sans-serif; font-size: 12px; fill: rgb(42, 63, 95); fill-opacity: 1; white-space: pre; opacity: 1;\">-LRB-</text></g><g class=\"xtick\"><text text-anchor=\"start\" x=\"0\" y=\"433\" transform=\"translate(542,0) rotate(90,0,427)\" style=\"font-family: 'Open Sans', verdana, arial, sans-serif; font-size: 12px; fill: rgb(42, 63, 95); fill-opacity: 1; white-space: pre; opacity: 1;\">PDT</text></g><g class=\"xtick\"><text text-anchor=\"start\" x=\"0\" y=\"433\" transform=\"translate(566,0) rotate(90,0,427)\" style=\"font-family: 'Open Sans', verdana, arial, sans-serif; font-size: 12px; fill: rgb(42, 63, 95); fill-opacity: 1; white-space: pre; opacity: 1;\">FW</text></g><g class=\"xtick\"><text text-anchor=\"start\" x=\"0\" y=\"433\" transform=\"translate(590,0) rotate(90,0,427)\" style=\"font-family: 'Open Sans', verdana, arial, sans-serif; font-size: 12px; fill: rgb(42, 63, 95); fill-opacity: 1; white-space: pre; opacity: 1;\">SYM</text></g><g class=\"xtick\"><text text-anchor=\"start\" x=\"0\" y=\"433\" transform=\"translate(614,0) rotate(90,0,427)\" style=\"font-family: 'Open Sans', verdana, arial, sans-serif; font-size: 12px; fill: rgb(42, 63, 95); fill-opacity: 1; white-space: pre; opacity: 1;\">#</text></g></g><g class=\"yaxislayer-above\"><g class=\"ytick\"><text text-anchor=\"end\" x=\"79\" y=\"4.199999999999999\" transform=\"translate(0,420)\" style=\"font-family: 'Open Sans', verdana, arial, sans-serif; font-size: 12px; fill: rgb(42, 63, 95); fill-opacity: 1; white-space: pre; opacity: 1;\">0</text></g><g class=\"ytick\"><text text-anchor=\"end\" x=\"79\" y=\"4.199999999999999\" style=\"font-family: 'Open Sans', verdana, arial, sans-serif; font-size: 12px; fill: rgb(42, 63, 95); fill-opacity: 1; white-space: pre; opacity: 1;\" transform=\"translate(0,368.05)\">2k</text></g><g class=\"ytick\"><text text-anchor=\"end\" x=\"79\" y=\"4.199999999999999\" style=\"font-family: 'Open Sans', verdana, arial, sans-serif; font-size: 12px; fill: rgb(42, 63, 95); fill-opacity: 1; white-space: pre; opacity: 1;\" transform=\"translate(0,316.1)\">4k</text></g><g class=\"ytick\"><text text-anchor=\"end\" x=\"79\" y=\"4.199999999999999\" style=\"font-family: 'Open Sans', verdana, arial, sans-serif; font-size: 12px; fill: rgb(42, 63, 95); fill-opacity: 1; white-space: pre; opacity: 1;\" transform=\"translate(0,264.14)\">6k</text></g><g class=\"ytick\"><text text-anchor=\"end\" x=\"79\" y=\"4.199999999999999\" style=\"font-family: 'Open Sans', verdana, arial, sans-serif; font-size: 12px; fill: rgb(42, 63, 95); fill-opacity: 1; white-space: pre; opacity: 1;\" transform=\"translate(0,212.19)\">8k</text></g><g class=\"ytick\"><text text-anchor=\"end\" x=\"79\" y=\"4.199999999999999\" style=\"font-family: 'Open Sans', verdana, arial, sans-serif; font-size: 12px; fill: rgb(42, 63, 95); fill-opacity: 1; white-space: pre; opacity: 1;\" transform=\"translate(0,160.24)\">10k</text></g><g class=\"ytick\"><text text-anchor=\"end\" x=\"79\" y=\"4.199999999999999\" style=\"font-family: 'Open Sans', verdana, arial, sans-serif; font-size: 12px; fill: rgb(42, 63, 95); fill-opacity: 1; white-space: pre; opacity: 1;\" transform=\"translate(0,108.28999999999999)\">12k</text></g></g><g class=\"overaxes-above\"/></g></g><g class=\"polarlayer\"/><g class=\"smithlayer\"/><g class=\"ternarylayer\"/><g class=\"geolayer\"/><g class=\"funnelarealayer\"/><g class=\"pielayer\"/><g class=\"iciclelayer\"/><g class=\"treemaplayer\"/><g class=\"sunburstlayer\"/><g class=\"glimages\"/><defs id=\"topdefs-59aea2\"><g class=\"clips\"/></defs><g class=\"layer-above\"><g class=\"imagelayer\"/><g class=\"shapelayer\"/></g><g class=\"infolayer\"><g class=\"g-gtitle\"/><g class=\"g-xtitle\"><text class=\"xtitle\" x=\"350\" y=\"485.95625\" text-anchor=\"middle\" style=\"font-family: 'Open Sans', verdana, arial, sans-serif; font-size: 14px; fill: rgb(42, 63, 95); opacity: 1; font-weight: normal; white-space: pre;\">tag</text></g><g class=\"g-ytitle\"><text class=\"ytitle\" transform=\"rotate(-90,31.840625000000003,240)\" x=\"31.840625000000003\" y=\"240\" text-anchor=\"middle\" style=\"font-family: 'Open Sans', verdana, arial, sans-serif; font-size: 14px; fill: rgb(42, 63, 95); opacity: 1; font-weight: normal; white-space: pre;\">count</text></g></g></svg>"
     },
     "metadata": {},
     "output_type": "display_data"
    }
   ],
   "source": [
    "# Plot tag distribution\n",
    "px.histogram(dataset, x='tag').show('svg')"
   ]
  },
  {
   "cell_type": "markdown",
   "metadata": {
    "id": "zROeKxa1XMya"
   },
   "source": [
    "And indeed, as shown by the histogram above, the tag distribution in out dataset is clearly imbalanced. In order to counteract this phenomenon during training, we are going to assign a (positive) weight to each tag — where such weights get bigger as tags get less common — and then apply those weights to the loss function. In other words, our models are going to get \"more rewarded\" when they correctly predict an uncommon tag."
   ]
  },
  {
   "cell_type": "code",
   "execution_count": 20,
   "metadata": {
    "executionInfo": {
     "elapsed": 8,
     "status": "ok",
     "timestamp": 1639661554729,
     "user": {
      "displayName": "Francesco Ballerini",
      "photoUrl": "https://lh3.googleusercontent.com/a-/AOh14Gg-R7R-HjBq_dn0hwuUoDXC2RwAVd1JXz6dReMZ3g=s64",
      "userId": "00684324433983888967"
     },
     "user_tz": -60
    },
    "id": "_kT8ILrqXMya"
   },
   "outputs": [],
   "source": [
    "def get_sample_weights(y: np.ndarray) -> np.ndarray:\n",
    "    \"\"\"Compute class weights for unbalanced label vector y.\n",
    "\n",
    "    Args:\n",
    "         y: array of shape (n_samples, sequence_length, one_hot_length)\n",
    "            storing, for each sample, a sequence of one-hot encoded elements.\n",
    "    \n",
    "    Returns:\n",
    "        Array of shape (n_samples, sequence_length) storing, for each sample,\n",
    "        a sequence of weights which are inversely proportional to the number \n",
    "        of occurrences of the corresponding sequence element in y.\n",
    "    \"\"\"\n",
    "    y_int = np.argmax(y, axis=-1)\n",
    "    class_weights = compute_class_weight('balanced',\n",
    "                                         classes=np.unique(y_int.flatten()),\n",
    "                                         y=y_int.flatten())\n",
    "    class_weights[0] = 0  # Ignore padding\n",
    "    int_to_weight = {i: w for i, w in zip(np.unique(y_int), class_weights)}\n",
    "    int_to_weight_v = np.vectorize(int_to_weight.get)\n",
    "    return int_to_weight_v(y_int)\n",
    "\n",
    "\n",
    "train_sample_weights = get_sample_weights(y_train)\n",
    "val_sample_weights = get_sample_weights(y_val)"
   ]
  },
  {
   "cell_type": "markdown",
   "metadata": {
    "id": "8CyRBTMKLT1i"
   },
   "source": [
    "# 2 - Model Definition"
   ]
  },
  {
   "cell_type": "markdown",
   "metadata": {
    "id": "k9lt8PumXMyb"
   },
   "source": [
    "## 2.1 - Hyperparameters"
   ]
  },
  {
   "cell_type": "code",
   "execution_count": 21,
   "metadata": {
    "executionInfo": {
     "elapsed": 366,
     "status": "ok",
     "timestamp": 1639661555089,
     "user": {
      "displayName": "Francesco Ballerini",
      "photoUrl": "https://lh3.googleusercontent.com/a-/AOh14Gg-R7R-HjBq_dn0hwuUoDXC2RwAVd1JXz6dReMZ3g=s64",
      "userId": "00684324433983888967"
     },
     "user_tz": -60
    },
    "id": "Kl45ZyTsXMyc"
   },
   "outputs": [],
   "source": [
    "# Hyperparameters shared by all models\n",
    "model_hyperparams = dict(\n",
    "    epochs=500,\n",
    "    batch_size=128,\n",
    "    mem_units=32,\n",
    "    optimizer='adam',\n",
    "    learning_rate=0.001,\n",
    "    loss='categorical_crossentropy',\n",
    ")\n",
    "\n",
    "# Embedding layer hyperparameters — same for all models\n",
    "embedding_hyperparams = dict(\n",
    "    input_dim=vocab_size,\n",
    "    output_dim=EMB_DIM,\n",
    "    input_length=x_train.shape[-1],\n",
    "    weights=[embedding_matrix],\n",
    "    trainable=False,\n",
    ")"
   ]
  },
  {
   "cell_type": "markdown",
   "metadata": {
    "id": "sP6e9xRpXMyd"
   },
   "source": [
    "## 2.2 - Architectures\n",
    "Four model architectures will be compared, each with different combinations of recurrent and dense layers."
   ]
  },
  {
   "cell_type": "code",
   "execution_count": 22,
   "metadata": {
    "executionInfo": {
     "elapsed": 6915,
     "status": "ok",
     "timestamp": 1639661562002,
     "user": {
      "displayName": "Francesco Ballerini",
      "photoUrl": "https://lh3.googleusercontent.com/a-/AOh14Gg-R7R-HjBq_dn0hwuUoDXC2RwAVd1JXz6dReMZ3g=s64",
      "userId": "00684324433983888967"
     },
     "user_tz": -60
    },
    "id": "uWwzbwI5XMyd"
   },
   "outputs": [],
   "source": [
    "mu = model_hyperparams['mem_units']  # Number of memory units\n",
    "\n",
    "# Baseline: Bidirectional LSTM + Dense layer\n",
    "bi_lstm = Sequential([\n",
    "    Embedding(**embedding_hyperparams),\n",
    "    Bidirectional(LSTM(mu, return_sequences=True)),\n",
    "    Dense(num_tags, activation='softmax'),\n",
    "], 'BiLSTM-Dense')\n",
    "\n",
    "# Bidirectional GRU + Dense layer\n",
    "bi_gru = Sequential([\n",
    "    Embedding(**embedding_hyperparams),\n",
    "    Bidirectional((GRU(mu, return_sequences=True))),\n",
    "    Dense(num_tags, activation='softmax'),\n",
    "], 'BiGRU-Dense')\n",
    "\n",
    "# Bidirectional LSTM + Bidirectional LSTM + Dense layer\n",
    "double_bi_lstm = Sequential([\n",
    "    Embedding(**embedding_hyperparams),\n",
    "    Bidirectional(LSTM(mu, return_sequences=True)),\n",
    "    Bidirectional(LSTM(mu, return_sequences=True)),\n",
    "    Dense(num_tags, activation='softmax'),\n",
    "], '2xBiLSTM-Dense')\n",
    "\n",
    "# Bidirectional LSTM + Dense layer + Dense layer\n",
    "double_dense = Sequential([\n",
    "    Embedding(**embedding_hyperparams),\n",
    "    Bidirectional(LSTM(mu, return_sequences=True)),\n",
    "    Dense(2 * num_tags, activation='relu'),\n",
    "    Dense(num_tags, activation='softmax'),\n",
    "], 'BiLSTM-2xDense')"
   ]
  },
  {
   "cell_type": "markdown",
   "metadata": {
    "id": "hBos7Z-YXMyd"
   },
   "source": [
    "> Since Keras 2.0, `Dense` can handle n-dimensional vectors with n > 2, making `TimeDistributed` layers effectively deprecated."
   ]
  },
  {
   "cell_type": "markdown",
   "metadata": {
    "id": "ETgIQ84JXMye"
   },
   "source": [
    "# 3 - Training\n",
    "All four models will be trained for the same number of epochs and with the same hyperparameters (when comparable). During training, (either unweighted or weighted) accuracy will be monitored. When training ends, the only stored weigths will be those corresponding to the epoch at which the model reached maximum accuracy on the validation set."
   ]
  },
  {
   "cell_type": "code",
   "execution_count": 23,
   "metadata": {
    "executionInfo": {
     "elapsed": 24,
     "status": "ok",
     "timestamp": 1639661562011,
     "user": {
      "displayName": "Francesco Ballerini",
      "photoUrl": "https://lh3.googleusercontent.com/a-/AOh14Gg-R7R-HjBq_dn0hwuUoDXC2RwAVd1JXz6dReMZ3g=s64",
      "userId": "00684324433983888967"
     },
     "user_tz": -60
    },
    "id": "wb_jnN4OXMye"
   },
   "outputs": [],
   "source": [
    "# Set this to true to do an anonymous session\n",
    "# and reproduce the results without logging into wandb\n",
    "ANON_SESSION = False\n",
    "RUN_TRAINING = False\n",
    "\n",
    "group_name = time.strftime('%Y%m%d-%H%M')\n",
    "models_history = dict()\n",
    "\n",
    "# Train and validate all models, logging data in wandb\n",
    "if RUN_TRAINING:\n",
    "    trained_runs_ids = []\n",
    "\n",
    "    for model in [bi_lstm, bi_gru, double_bi_lstm, double_dense]:\n",
    "\n",
    "        # Initialize wandb with relevant info\n",
    "        config = model_hyperparams\n",
    "        config['model-name'] = model.name\n",
    "        wandb_params = dict(\n",
    "            project='NLP-POS-Tagging',\n",
    "            name=model.name,\n",
    "            reinit=True,\n",
    "            config=config,\n",
    "            group=group_name,\n",
    "        )\n",
    "\n",
    "        if ANON_SESSION:\n",
    "            run = wandb.init(anonymous='must', **wandb_params)\n",
    "        else:\n",
    "            run = wandb.init(entity='frantoman', **wandb_params)\n",
    "\n",
    "        # Define a keras callback to save the model when it reaches\n",
    "        # max weighted validation accuracy\n",
    "        model_checkpoint = ModelCheckpoint(\n",
    "            filepath=os.path.join(wandb.run.dir, f'{model.name}.h5'),\n",
    "            # monitor='val_acc',\n",
    "            monitor='val_weighted_acc',\n",
    "            mode='max',\n",
    "        )\n",
    "\n",
    "        # Compile the model\n",
    "        model.compile(\n",
    "            optimizer=Adam(learning_rate=config['learning_rate']),\n",
    "            loss='categorical_crossentropy',\n",
    "            metrics=['acc'],\n",
    "            weighted_metrics=['acc'],\n",
    "        )\n",
    "        print(f'========= TRAINING MODEL: {model.name} {run.id}=========')\n",
    "        with run:\n",
    "\n",
    "            # Fit on data and run validation\n",
    "            history = model.fit(\n",
    "                x_train,\n",
    "                y_train,\n",
    "                epochs=config['epochs'],\n",
    "                batch_size=config['batch_size'],\n",
    "                # validation_data=(x_val, y_val),\n",
    "                validation_data=(x_val, y_val, val_sample_weights),\n",
    "                sample_weight=train_sample_weights,\n",
    "                callbacks=[WandbCallback(save_model=False), model_checkpoint],\n",
    "                verbose=0,\n",
    "            )\n",
    "\n",
    "            # Log useful stuff\n",
    "            h = history.history\n",
    "            info = dict(\n",
    "                # best_val_weighted_acc=np.max(h['val_acc']),\n",
    "                best_val_weighted_acc=np.max(h['val_weighted_acc']),\n",
    "                # best_weighted_epoch=np.argmax(h['val_acc']) + 1\n",
    "                best_weighted_epoch=np.argmax(h['val_weighted_acc']) + 1)\n",
    "            run.log(info)\n",
    "            trained_runs_ids.append(run.id)\n",
    "    print(trained_runs_ids)"
   ]
  },
  {
   "cell_type": "markdown",
   "metadata": {
    "id": "DaOkI--QXMyf"
   },
   "source": [
    "## 3.1 - Logs and Plots\n",
    "We logged the training process with [Weights & Biases](https://wandb.ai/site).\n",
    "\n",
    "Information about the training session with the hyperparameters shown in the previous cells — both with and without class weights — and producing the results discussed in the following sections is available [here](https://wandb.ai/frantoman/NLP-POS-Tagging/reports/Model-Comparison-Training-Validation---VmlldzoxMjk0Nzc2)."
   ]
  },
  {
   "cell_type": "markdown",
   "metadata": {
    "id": "AoKT6TdRXMyf"
   },
   "source": [
    "# 4 - Evaluation"
   ]
  },
  {
   "cell_type": "markdown",
   "metadata": {
    "id": "TrvWJCStXMyf"
   },
   "source": [
    "## 4.1 - Loading Trained Models\n",
    "Once models have been trained and their \"best\" weights have been saved, we can load them back to evaluate their performance on unseen data."
   ]
  },
  {
   "cell_type": "code",
   "execution_count": 24,
   "metadata": {
    "colab": {
     "base_uri": "https://localhost:8080/",
     "height": 238
    },
    "executionInfo": {
     "elapsed": 138433,
     "status": "ok",
     "timestamp": 1639661700422,
     "user": {
      "displayName": "Francesco Ballerini",
      "photoUrl": "https://lh3.googleusercontent.com/a-/AOh14Gg-R7R-HjBq_dn0hwuUoDXC2RwAVd1JXz6dReMZ3g=s64",
      "userId": "00684324433983888967"
     },
     "user_tz": -60
    },
    "id": "jwXaNAuiXMyg",
    "outputId": "c39ca592-11b4-4262-ea1a-9c8d48aa88af"
   },
   "outputs": [
    {
     "name": "stdout",
     "output_type": "stream",
     "text": [
      "Downloading BiLSTM-Dense\n",
      "Downloading BiGRU-Dense\n",
      "Downloading 2xBiLSTM-Dense\n",
      "Downloading BiLSTM-2xDense\n",
      "--------------------------\n",
      "Downloading BiLSTM-Dense\n",
      "Downloading BiGRU-Dense\n",
      "Downloading 2xBiLSTM-Dense\n",
      "Downloading BiLSTM-2xDense\n"
     ]
    }
   ],
   "source": [
    "acc_ids = ['1vttrcvc', '2zpd7enc', 'llty8pxa', '14qeknoo']\n",
    "weighted_acc_ids = ['1rfzcy9e', '37z0sxb7', '119d0q0j', '11ucpg2z']\n",
    "\n",
    "\n",
    "def load_models(ids: List[str]) -> Dict[str, tf.keras.Model]:\n",
    "    \"\"\"Load keras models and training info from wandb.\n",
    "\n",
    "    Args:\n",
    "        ids: list of wandb run ids.\n",
    "\n",
    "    Returns:\n",
    "        models: mapping from model names to keras objects.\n",
    "    \"\"\"\n",
    "    models = dict()\n",
    "    for id in ids:\n",
    "        uri = 'frantoman/NLP-POS-Tagging/' + id\n",
    "        api = wandb.Api()\n",
    "        run = api.run(uri)\n",
    "\n",
    "        mn = run.config['model-name']\n",
    "        print('Downloading', mn)\n",
    "        run.file(f'{mn}.h5').download(f'./models/', replace=True)\n",
    "\n",
    "        model = load_model(f'./models/{mn}.h5')\n",
    "        models[model.name] = model\n",
    "    return models\n",
    "\n",
    "\n",
    "models_unweighted = load_models(acc_ids)\n",
    "print('--------------------------')\n",
    "models_weighted = load_models(weighted_acc_ids)"
   ]
  },
  {
   "cell_type": "markdown",
   "metadata": {
    "id": "X4w2J_ZWXMyg"
   },
   "source": [
    "## 4.2 - Evaluation Functions\n",
    "Before moving on to the evaluation, we define the main utility functions that will be needed."
   ]
  },
  {
   "cell_type": "code",
   "execution_count": 25,
   "metadata": {
    "executionInfo": {
     "elapsed": 10,
     "status": "ok",
     "timestamp": 1639661700423,
     "user": {
      "displayName": "Francesco Ballerini",
      "photoUrl": "https://lh3.googleusercontent.com/a-/AOh14Gg-R7R-HjBq_dn0hwuUoDXC2RwAVd1JXz6dReMZ3g=s64",
      "userId": "00684324433983888967"
     },
     "user_tz": -60
    },
    "id": "ZYNH8s0yXMyg"
   },
   "outputs": [],
   "source": [
    "def to_dataframe(x: np.ndarray, y: np.ndarray, p: np.ndarray) -> pd.DataFrame:\n",
    "    \"\"\"Converts inputs, ground truths and predictions of a model into a dataframe.\n",
    "    \n",
    "    Args:\n",
    "        x: tensor of shape (n_samples, seq_len) \n",
    "           storing input sentences encoded as integer sequences.\n",
    "        y: tensor of shape (n_samples, seq_len, one_hot_len) \n",
    "           storing one-hot encoded ground-truth labels (tags).\n",
    "        p: tensor of shape (n_samples, seq_len, one_hot_len)\n",
    "           storing model predictions for input x.\n",
    "\n",
    "    Returns:\n",
    "        df: a dataframe storing tokens alongside corresponding\n",
    "            true and predicted tags.\n",
    "    \"\"\"\n",
    "    # Define a mapping int->token and int->tag\n",
    "    int_to_tok = {v: k for k, v in word_index.items()}\n",
    "    int_to_tag = {v: k for k, v in tag_to_int.items()}\n",
    "    convert_tok = np.vectorize(int_to_tok.get)\n",
    "    convert_tag = np.vectorize(lambda i: int_to_tag.get(i, 'PAD'))\n",
    "\n",
    "    # Convert one-hot encodings to integer indexes\n",
    "    y = np.argmax(y, axis=-1)\n",
    "    p = np.argmax(p, axis=-1)\n",
    "\n",
    "    # Convert integer indexes to the corresponding token/tag, skipping padding\n",
    "    raw_df = dict(token=[], tag_true=[], tag_pred=[])\n",
    "    for zx, zy, zp in zip(x, y, p):\n",
    "        pad_mask = zx > 0\n",
    "        raw_df['token'] += convert_tok(zx[pad_mask]).tolist()\n",
    "        raw_df['tag_true'] += convert_tag(zy[pad_mask]).tolist()\n",
    "        raw_df['tag_pred'] += convert_tag(zp[pad_mask]).tolist()\n",
    "\n",
    "    # Note: the returned df will contain truncated sentences\n",
    "    df = pd.DataFrame(raw_df)\n",
    "    df['tag_true'] = df['tag_true'].astype('category')\n",
    "    df['tag_pred'] = df['tag_pred'].astype('category')\n",
    "\n",
    "    return df\n",
    "\n",
    "\n",
    "def remove_punctuation(df: pd.DataFrame, col_name: str) -> pd.DataFrame:\n",
    "    \"\"\"Removes punctuation from dataframe.\n",
    "    \n",
    "    Args: \n",
    "        df: a dataframe with a column named col_name.\n",
    "\n",
    "    Returns:\n",
    "        The same dataframe without rows where column\n",
    "        col_name contains a punctuation symbol.\n",
    "    \"\"\"\n",
    "    punctuation = \"``|''|\\,|\\.|\\:|-LRB-|-RRB-\"\n",
    "    is_punct = df[col_name].str.contains(punctuation)\n",
    "\n",
    "    return df[~is_punct]\n",
    "\n",
    "\n",
    "def classif_report(pred: pd.DataFrame) -> pd.DataFrame:\n",
    "    \"\"\"Computes main classification metrics and stores them\n",
    "    into a dataframe.\n",
    "\n",
    "    Args:\n",
    "        pred: dataframe returned by to_dataframe().\n",
    "\n",
    "    Returns:\n",
    "        df: a dataframe storing classification metrics for each\n",
    "            tag as well as averages across all tags.\n",
    "    \"\"\"\n",
    "    cr = classification_report(\n",
    "        pred['tag_true'],\n",
    "        pred['tag_pred'],\n",
    "        labels=pred['tag_true'].unique(),\n",
    "        zero_division=0,\n",
    "        output_dict=True,\n",
    "    )\n",
    "    df = pd.DataFrame(cr).transpose().round(2)\n",
    "\n",
    "    return df\n",
    "\n",
    "\n",
    "def evaluate_model(model: tf.keras.Model, x: np.ndarray,\n",
    "                   y: np.ndarray) -> Tuple[pd.DataFrame, pd.DataFrame, float]:\n",
    "    \"\"\"Computes data structures for model evaluation.\n",
    "    \n",
    "    Args:\n",
    "        model: a keras model.\n",
    "        x: tensor of shape (n_samples, seq_len) \n",
    "           storing input sentences encoded as integer sequences.\n",
    "        y: tensor of shape (n_samples, seq_len, one_hot_len) \n",
    "           storing one-hot encoded ground-truth labels (tags).\n",
    "\n",
    "    Returns:\n",
    "        pred: dataframe returned by to_dataframe(), \n",
    "        without punctuation symbols.\n",
    "        cr: dataframe returned by classif_report().\n",
    "        f1m: F1-macro score (contained in cr).\n",
    "    \"\"\"\n",
    "    pred = to_dataframe(x, y, model.predict(x))\n",
    "    pred = remove_punctuation(pred, 'tag_true')\n",
    "    cr = classif_report(pred)\n",
    "    f1m = cr.loc['macro avg', 'f1-score']\n",
    "\n",
    "    return pred, cr, f1m"
   ]
  },
  {
   "cell_type": "markdown",
   "metadata": {
    "id": "00LnTDMSXMyh"
   },
   "source": [
    "## 4.3 - Best Model Selection\n",
    "We will consider the following two groups of models:\n",
    "1. Those trained with weighted loss while monitoring weighted accuracy\n",
    "2. Those trained with unweighted loss while monitoring standard (unweighted) accuracy.\n",
    "\n",
    "Then, we will choose two models as follows:\n",
    "* Let `F1` be the F1-macro score computed on the validation set without considering punctuation tags.\n",
    "* Let `f11` be the highest `F1` achieved by any model in group 1 and `f12` the highest `F1` achieved by any model in group 2.\n",
    "* Choose group `i` such that `f1i` is the highest.\n",
    "* Choose the two models with highest `F1` inside group `i`\n",
    "\n",
    "The chosen two models will finally be tested on the test set and their results compared with the ones on the validation set."
   ]
  },
  {
   "cell_type": "code",
   "execution_count": 26,
   "metadata": {
    "colab": {
     "base_uri": "https://localhost:8080/",
     "height": 297
    },
    "executionInfo": {
     "elapsed": 23134,
     "status": "ok",
     "timestamp": 1639661723550,
     "user": {
      "displayName": "Francesco Ballerini",
      "photoUrl": "https://lh3.googleusercontent.com/a-/AOh14Gg-R7R-HjBq_dn0hwuUoDXC2RwAVd1JXz6dReMZ3g=s64",
      "userId": "00684324433983888967"
     },
     "user_tz": -60
    },
    "id": "qYfYliv-XMyh",
    "outputId": "80b6059e-3813-4a55-9fd7-033b842ea42e"
   },
   "outputs": [
    {
     "data": {
      "text/html": [
       "<div>\n",
       "<style scoped>\n",
       "    .dataframe tbody tr th:only-of-type {\n",
       "        vertical-align: middle;\n",
       "    }\n",
       "\n",
       "    .dataframe tbody tr th {\n",
       "        vertical-align: top;\n",
       "    }\n",
       "\n",
       "    .dataframe thead th {\n",
       "        text-align: right;\n",
       "    }\n",
       "</style>\n",
       "<table border=\"1\" class=\"dataframe\">\n",
       "  <thead>\n",
       "    <tr style=\"text-align: right;\">\n",
       "      <th></th>\n",
       "      <th>model_name</th>\n",
       "      <th>type</th>\n",
       "      <th>f1_macro_val</th>\n",
       "    </tr>\n",
       "  </thead>\n",
       "  <tbody>\n",
       "    <tr>\n",
       "      <th>0</th>\n",
       "      <td>BiLSTM-Dense</td>\n",
       "      <td>Unweighted</td>\n",
       "      <td>0.74</td>\n",
       "    </tr>\n",
       "    <tr>\n",
       "      <th>1</th>\n",
       "      <td>2xBiLSTM-Dense</td>\n",
       "      <td>Unweighted</td>\n",
       "      <td>0.73</td>\n",
       "    </tr>\n",
       "    <tr>\n",
       "      <th>2</th>\n",
       "      <td>BiGRU-Dense</td>\n",
       "      <td>Weighted</td>\n",
       "      <td>0.73</td>\n",
       "    </tr>\n",
       "    <tr>\n",
       "      <th>3</th>\n",
       "      <td>BiLSTM-2xDense</td>\n",
       "      <td>Weighted</td>\n",
       "      <td>0.73</td>\n",
       "    </tr>\n",
       "    <tr>\n",
       "      <th>4</th>\n",
       "      <td>BiGRU-Dense</td>\n",
       "      <td>Unweighted</td>\n",
       "      <td>0.71</td>\n",
       "    </tr>\n",
       "    <tr>\n",
       "      <th>5</th>\n",
       "      <td>BiLSTM-2xDense</td>\n",
       "      <td>Unweighted</td>\n",
       "      <td>0.71</td>\n",
       "    </tr>\n",
       "    <tr>\n",
       "      <th>6</th>\n",
       "      <td>BiLSTM-Dense</td>\n",
       "      <td>Weighted</td>\n",
       "      <td>0.69</td>\n",
       "    </tr>\n",
       "    <tr>\n",
       "      <th>7</th>\n",
       "      <td>2xBiLSTM-Dense</td>\n",
       "      <td>Weighted</td>\n",
       "      <td>0.67</td>\n",
       "    </tr>\n",
       "  </tbody>\n",
       "</table>\n",
       "</div>"
      ],
      "text/plain": [
       "       model_name        type  f1_macro_val\n",
       "0    BiLSTM-Dense  Unweighted          0.74\n",
       "1  2xBiLSTM-Dense  Unweighted          0.73\n",
       "2     BiGRU-Dense    Weighted          0.73\n",
       "3  BiLSTM-2xDense    Weighted          0.73\n",
       "4     BiGRU-Dense  Unweighted          0.71\n",
       "5  BiLSTM-2xDense  Unweighted          0.71\n",
       "6    BiLSTM-Dense    Weighted          0.69\n",
       "7  2xBiLSTM-Dense    Weighted          0.67"
      ]
     },
     "execution_count": 26,
     "metadata": {},
     "output_type": "execute_result"
    }
   ],
   "source": [
    "weight_eval = []\n",
    "for m, t in [\n",
    "    (models_unweighted, 'Unweighted'),\n",
    "    (models_weighted, 'Weighted'),\n",
    "]:\n",
    "    for model in m.values():\n",
    "        _, _, f1m = evaluate_model(model, x_val, y_val)\n",
    "        weight_eval.append(dict(\n",
    "            model_name=model.name,\n",
    "            type=t,\n",
    "            f1_macro_val=f1m,\n",
    "            model=model,\n",
    "        ))\n",
    "\n",
    "weight_eval = pd.DataFrame(weight_eval).sort_values(by='f1_macro_val',\n",
    "                                                    ascending=False).reset_index(drop=True)\n",
    "weight_eval.loc[:, weight_eval.columns != 'model']"
   ]
  },
  {
   "cell_type": "markdown",
   "metadata": {
    "id": "yDCl47WhXMyh"
   },
   "source": [
    "Surprisingly, introducing a weighted loss does not seem to play a significant role in the model performance on the validation set as measured by the F1-macro score. Nevertheless, we can apply our previously described selection criterion:"
   ]
  },
  {
   "cell_type": "code",
   "execution_count": 27,
   "metadata": {
    "colab": {
     "base_uri": "https://localhost:8080/",
     "height": 111
    },
    "executionInfo": {
     "elapsed": 11,
     "status": "ok",
     "timestamp": 1639661723551,
     "user": {
      "displayName": "Francesco Ballerini",
      "photoUrl": "https://lh3.googleusercontent.com/a-/AOh14Gg-R7R-HjBq_dn0hwuUoDXC2RwAVd1JXz6dReMZ3g=s64",
      "userId": "00684324433983888967"
     },
     "user_tz": -60
    },
    "id": "mRtn9L0mXMyi",
    "outputId": "21d91d4c-c323-4025-ea48-bd3f21234e76"
   },
   "outputs": [
    {
     "data": {
      "text/html": [
       "<div>\n",
       "<style scoped>\n",
       "    .dataframe tbody tr th:only-of-type {\n",
       "        vertical-align: middle;\n",
       "    }\n",
       "\n",
       "    .dataframe tbody tr th {\n",
       "        vertical-align: top;\n",
       "    }\n",
       "\n",
       "    .dataframe thead th {\n",
       "        text-align: right;\n",
       "    }\n",
       "</style>\n",
       "<table border=\"1\" class=\"dataframe\">\n",
       "  <thead>\n",
       "    <tr style=\"text-align: right;\">\n",
       "      <th></th>\n",
       "      <th>model_name</th>\n",
       "      <th>type</th>\n",
       "      <th>f1_macro_val</th>\n",
       "    </tr>\n",
       "  </thead>\n",
       "  <tbody>\n",
       "    <tr>\n",
       "      <th>0</th>\n",
       "      <td>BiLSTM-Dense</td>\n",
       "      <td>Unweighted</td>\n",
       "      <td>0.74</td>\n",
       "    </tr>\n",
       "    <tr>\n",
       "      <th>1</th>\n",
       "      <td>2xBiLSTM-Dense</td>\n",
       "      <td>Unweighted</td>\n",
       "      <td>0.73</td>\n",
       "    </tr>\n",
       "  </tbody>\n",
       "</table>\n",
       "</div>"
      ],
      "text/plain": [
       "       model_name        type  f1_macro_val\n",
       "0    BiLSTM-Dense  Unweighted          0.74\n",
       "1  2xBiLSTM-Dense  Unweighted          0.73"
      ]
     },
     "execution_count": 27,
     "metadata": {},
     "output_type": "execute_result"
    }
   ],
   "source": [
    "best_m = weight_eval.iloc[0]\n",
    "select_mask = weight_eval['type'] == best_m['type']\n",
    "chosen_models = weight_eval[select_mask].iloc[:2]\n",
    "chosen_models.loc[:, weight_eval.columns != 'model']"
   ]
  },
  {
   "cell_type": "markdown",
   "metadata": {
    "id": "pRtEUC7GXMyi"
   },
   "source": [
    "## 4.3 - Test Set Performance\n",
    "We now compare the F1-macro score (without considering punctuation classes) of the two chosen models on the validation and test set."
   ]
  },
  {
   "cell_type": "code",
   "execution_count": 28,
   "metadata": {
    "colab": {
     "base_uri": "https://localhost:8080/",
     "height": 111
    },
    "executionInfo": {
     "elapsed": 2041,
     "status": "ok",
     "timestamp": 1639661725585,
     "user": {
      "displayName": "Francesco Ballerini",
      "photoUrl": "https://lh3.googleusercontent.com/a-/AOh14Gg-R7R-HjBq_dn0hwuUoDXC2RwAVd1JXz6dReMZ3g=s64",
      "userId": "00684324433983888967"
     },
     "user_tz": -60
    },
    "id": "NEHlwDM6XMyi",
    "outputId": "c3a2054b-6dda-4e55-f8d3-14383d9b8a37"
   },
   "outputs": [
    {
     "data": {
      "text/html": [
       "<div>\n",
       "<style scoped>\n",
       "    .dataframe tbody tr th:only-of-type {\n",
       "        vertical-align: middle;\n",
       "    }\n",
       "\n",
       "    .dataframe tbody tr th {\n",
       "        vertical-align: top;\n",
       "    }\n",
       "\n",
       "    .dataframe thead th {\n",
       "        text-align: right;\n",
       "    }\n",
       "</style>\n",
       "<table border=\"1\" class=\"dataframe\">\n",
       "  <thead>\n",
       "    <tr style=\"text-align: right;\">\n",
       "      <th></th>\n",
       "      <th>model_name</th>\n",
       "      <th>type</th>\n",
       "      <th>f1_macro_val</th>\n",
       "      <th>f1_macro_test</th>\n",
       "    </tr>\n",
       "  </thead>\n",
       "  <tbody>\n",
       "    <tr>\n",
       "      <th>0</th>\n",
       "      <td>BiLSTM-Dense</td>\n",
       "      <td>Unweighted</td>\n",
       "      <td>0.74</td>\n",
       "      <td>0.80</td>\n",
       "    </tr>\n",
       "    <tr>\n",
       "      <th>1</th>\n",
       "      <td>2xBiLSTM-Dense</td>\n",
       "      <td>Unweighted</td>\n",
       "      <td>0.73</td>\n",
       "      <td>0.76</td>\n",
       "    </tr>\n",
       "  </tbody>\n",
       "</table>\n",
       "</div>"
      ],
      "text/plain": [
       "       model_name        type  f1_macro_val  f1_macro_test\n",
       "0    BiLSTM-Dense  Unweighted          0.74           0.80\n",
       "1  2xBiLSTM-Dense  Unweighted          0.73           0.76"
      ]
     },
     "metadata": {},
     "output_type": "display_data"
    }
   ],
   "source": [
    "chosen_models['f1_macro_test'] = [\n",
    "    evaluate_model(model, x_test, y_test)[2] for model in chosen_models.model.values\n",
    "]\n",
    "display(chosen_models.loc[:, chosen_models.columns != 'model'])"
   ]
  },
  {
   "cell_type": "markdown",
   "metadata": {
    "id": "6TPD4lOyXMyi"
   },
   "source": [
    "As we can see above, the F1-macro score on the test set is slightly higher than its validation counterpart for both the selected models."
   ]
  },
  {
   "cell_type": "markdown",
   "metadata": {
    "id": "JLcrGVqWXMyi"
   },
   "source": [
    "# 5 - Error Analysis\n",
    "In this section we will compare mistakes made by the two chosen models on the test test with those made on the validation set."
   ]
  },
  {
   "cell_type": "markdown",
   "metadata": {
    "id": "Kra4olukXMyi"
   },
   "source": [
    "## 5.1 - Most Misclassified Tags"
   ]
  },
  {
   "cell_type": "code",
   "execution_count": 29,
   "metadata": {
    "executionInfo": {
     "elapsed": 7,
     "status": "ok",
     "timestamp": 1639661725586,
     "user": {
      "displayName": "Francesco Ballerini",
      "photoUrl": "https://lh3.googleusercontent.com/a-/AOh14Gg-R7R-HjBq_dn0hwuUoDXC2RwAVd1JXz6dReMZ3g=s64",
      "userId": "00684324433983888967"
     },
     "user_tz": -60
    },
    "id": "aX4oYEXSXMyi"
   },
   "outputs": [],
   "source": [
    "def conf_matrix(df: pd.DataFrame, plot=False) -> Tuple[np.ndarray, np.ndarray]:\n",
    "    \"\"\"Computes and plots a confusion matrix.\n",
    "\n",
    "    Args:\n",
    "        df: a dataframe with columns 'token', 'tag_true', and 'tag_pred.\n",
    "        plot: whether to plot the confusion matrix or not.\n",
    "\n",
    "    Returns:\n",
    "        conf_m: the confusion matrix (2D).\n",
    "        tags: array of unique tags in 'tag_true' (1D).\n",
    "    \"\"\"\n",
    "    tags = df['tag_true'].unique()\n",
    "\n",
    "    conf_m = confusion_matrix(df['tag_true'], df['tag_pred'], labels=tags, normalize='true')\n",
    "    if plot:\n",
    "        fig = px.imshow(conf_m,\n",
    "                        x=tags,\n",
    "                        y=tags,\n",
    "                        labels={\n",
    "                            'x': 'Predicted Tag',\n",
    "                            'y': 'True Tag',\n",
    "                            'color': 'Value'\n",
    "                        })\n",
    "        fig.update(layout_coloraxis_showscale=False)\n",
    "        fig.update_layout(width=600, height=600)\n",
    "        fig.show('svg')\n",
    "\n",
    "    return conf_m, tags\n",
    "\n",
    "\n",
    "def get_most_misclass_tags(conf_m: np.ndarray, tags: np.ndarray) -> pd.DataFrame:\n",
    "    \"\"\"Detects most misclassified tags in a confusion matrix.\n",
    "\n",
    "    Args:\n",
    "        conf_m: a confusion matrix.\n",
    "        tags: unique labels in the matrix.\n",
    "\n",
    "    Returns:\n",
    "        A dataframe storing information about tags whose \n",
    "        diagonal value in the matrix is <= 0.5.\n",
    "    \"\"\"\n",
    "    most_misclass = {\n",
    "        'Tag': [],\n",
    "        '% Correct Prediction': [],\n",
    "        'Most Predicted as': [],\n",
    "        '% Most predicted': []\n",
    "    }\n",
    "    bad_toks = tags[conf_m.diagonal() <= 0.5]\n",
    "    for i, t in enumerate(tags):\n",
    "        if t in bad_toks:\n",
    "            most_misclass['Tag'].append(t)\n",
    "            most_misclass['% Correct Prediction'].append(conf_m.diagonal()[i].round(2))\n",
    "            most_misclass['Most Predicted as'].append(tags[np.argmax(conf_m[i])])\n",
    "            most_misclass['% Most predicted'].append(max(conf_m[i]).round(2))\n",
    "    df = pd.DataFrame(most_misclass).sort_values(by='% Correct Prediction').reset_index(drop='True')\n",
    "\n",
    "    return df\n",
    "\n",
    "\n",
    "def display_classif_info(models: pd.DataFrame, x: np.ndarray, y: np.ndarray, plot=False) -> None:\n",
    "    \"\"\"Computes a confusion matrix and prints out\n",
    "    information about the most misclassified tags.\n",
    "\n",
    "    Args:\n",
    "        models: dataframe storing information about keras models.\n",
    "        x: model input tensor.\n",
    "        y: corresponding labels.\n",
    "        plot: whether to plot the confusion matrix or not.\n",
    "    \"\"\"\n",
    "    for _, m in models.iterrows():\n",
    "        pred_df = evaluate_model(m['model'], x, y)[0]\n",
    "        conf, tags = conf_matrix(pred_df, plot)\n",
    "\n",
    "        most_mc = get_most_misclass_tags(conf, tags)\n",
    "        out = most_mc.style.set_caption(m['model'].name)\n",
    "        out = out.format(precision=2).render()\n",
    "        display(HTML(out))"
   ]
  },
  {
   "cell_type": "markdown",
   "metadata": {
    "id": "umAc_M5HXMyj"
   },
   "source": [
    "### 5.1.1 - Validation Set"
   ]
  },
  {
   "cell_type": "code",
   "execution_count": 30,
   "metadata": {
    "colab": {
     "base_uri": "https://localhost:8080/",
     "height": 349
    },
    "executionInfo": {
     "elapsed": 5262,
     "status": "ok",
     "timestamp": 1639661730844,
     "user": {
      "displayName": "Francesco Ballerini",
      "photoUrl": "https://lh3.googleusercontent.com/a-/AOh14Gg-R7R-HjBq_dn0hwuUoDXC2RwAVd1JXz6dReMZ3g=s64",
      "userId": "00684324433983888967"
     },
     "user_tz": -60
    },
    "id": "YfD01xGxXMyj",
    "outputId": "d0baa8f4-9e0a-4758-d5a5-454a1c416597"
   },
   "outputs": [
    {
     "data": {
      "text/html": [
       "<style type=\"text/css\">\n",
       "</style>\n",
       "<table id=\"T_551b4_\">\n",
       "  <caption>BiLSTM-Dense</caption>\n",
       "  <thead>\n",
       "    <tr>\n",
       "      <th class=\"blank level0\" >&nbsp;</th>\n",
       "      <th class=\"col_heading level0 col0\" >Tag</th>\n",
       "      <th class=\"col_heading level0 col1\" >% Correct Prediction</th>\n",
       "      <th class=\"col_heading level0 col2\" >Most Predicted as</th>\n",
       "      <th class=\"col_heading level0 col3\" >% Most predicted</th>\n",
       "    </tr>\n",
       "  </thead>\n",
       "  <tbody>\n",
       "    <tr>\n",
       "      <th id=\"T_551b4_level0_row0\" class=\"row_heading level0 row0\" >0</th>\n",
       "      <td id=\"T_551b4_row0_col0\" class=\"data row0 col0\" >FW</td>\n",
       "      <td id=\"T_551b4_row0_col1\" class=\"data row0 col1\" >0.00</td>\n",
       "      <td id=\"T_551b4_row0_col2\" class=\"data row0 col2\" >NNP</td>\n",
       "      <td id=\"T_551b4_row0_col3\" class=\"data row0 col3\" >0.50</td>\n",
       "    </tr>\n",
       "    <tr>\n",
       "      <th id=\"T_551b4_level0_row1\" class=\"row_heading level0 row1\" >1</th>\n",
       "      <td id=\"T_551b4_row1_col0\" class=\"data row1 col0\" >UH</td>\n",
       "      <td id=\"T_551b4_row1_col1\" class=\"data row1 col1\" >0.00</td>\n",
       "      <td id=\"T_551b4_row1_col2\" class=\"data row1 col2\" >DT</td>\n",
       "      <td id=\"T_551b4_row1_col3\" class=\"data row1 col3\" >0.50</td>\n",
       "    </tr>\n",
       "    <tr>\n",
       "      <th id=\"T_551b4_level0_row2\" class=\"row_heading level0 row2\" >2</th>\n",
       "      <td id=\"T_551b4_row2_col0\" class=\"data row2 col0\" >#</td>\n",
       "      <td id=\"T_551b4_row2_col1\" class=\"data row2 col1\" >0.07</td>\n",
       "      <td id=\"T_551b4_row2_col2\" class=\"data row2 col2\" >CD</td>\n",
       "      <td id=\"T_551b4_row2_col3\" class=\"data row2 col3\" >0.67</td>\n",
       "    </tr>\n",
       "    <tr>\n",
       "      <th id=\"T_551b4_level0_row3\" class=\"row_heading level0 row3\" >3</th>\n",
       "      <td id=\"T_551b4_row3_col0\" class=\"data row3 col0\" >NNPS</td>\n",
       "      <td id=\"T_551b4_row3_col1\" class=\"data row3 col1\" >0.10</td>\n",
       "      <td id=\"T_551b4_row3_col2\" class=\"data row3 col2\" >NNS</td>\n",
       "      <td id=\"T_551b4_row3_col3\" class=\"data row3 col3\" >0.43</td>\n",
       "    </tr>\n",
       "    <tr>\n",
       "      <th id=\"T_551b4_level0_row4\" class=\"row_heading level0 row4\" >4</th>\n",
       "      <td id=\"T_551b4_row4_col0\" class=\"data row4 col0\" >PDT</td>\n",
       "      <td id=\"T_551b4_row4_col1\" class=\"data row4 col1\" >0.21</td>\n",
       "      <td id=\"T_551b4_row4_col2\" class=\"data row4 col2\" >DT</td>\n",
       "      <td id=\"T_551b4_row4_col3\" class=\"data row4 col3\" >0.50</td>\n",
       "    </tr>\n",
       "    <tr>\n",
       "      <th id=\"T_551b4_level0_row5\" class=\"row_heading level0 row5\" >5</th>\n",
       "      <td id=\"T_551b4_row5_col0\" class=\"data row5 col0\" >LS</td>\n",
       "      <td id=\"T_551b4_row5_col1\" class=\"data row5 col1\" >0.33</td>\n",
       "      <td id=\"T_551b4_row5_col2\" class=\"data row5 col2\" >CD</td>\n",
       "      <td id=\"T_551b4_row5_col3\" class=\"data row5 col3\" >0.67</td>\n",
       "    </tr>\n",
       "  </tbody>\n",
       "</table>\n"
      ],
      "text/plain": [
       "<IPython.core.display.HTML object>"
      ]
     },
     "metadata": {},
     "output_type": "display_data"
    },
    {
     "data": {
      "text/html": [
       "<style type=\"text/css\">\n",
       "</style>\n",
       "<table id=\"T_f50f2_\">\n",
       "  <caption>2xBiLSTM-Dense</caption>\n",
       "  <thead>\n",
       "    <tr>\n",
       "      <th class=\"blank level0\" >&nbsp;</th>\n",
       "      <th class=\"col_heading level0 col0\" >Tag</th>\n",
       "      <th class=\"col_heading level0 col1\" >% Correct Prediction</th>\n",
       "      <th class=\"col_heading level0 col2\" >Most Predicted as</th>\n",
       "      <th class=\"col_heading level0 col3\" >% Most predicted</th>\n",
       "    </tr>\n",
       "  </thead>\n",
       "  <tbody>\n",
       "    <tr>\n",
       "      <th id=\"T_f50f2_level0_row0\" class=\"row_heading level0 row0\" >0</th>\n",
       "      <td id=\"T_f50f2_row0_col0\" class=\"data row0 col0\" >FW</td>\n",
       "      <td id=\"T_f50f2_row0_col1\" class=\"data row0 col1\" >0.00</td>\n",
       "      <td id=\"T_f50f2_row0_col2\" class=\"data row0 col2\" >NNP</td>\n",
       "      <td id=\"T_f50f2_row0_col3\" class=\"data row0 col3\" >0.50</td>\n",
       "    </tr>\n",
       "    <tr>\n",
       "      <th id=\"T_f50f2_level0_row1\" class=\"row_heading level0 row1\" >1</th>\n",
       "      <td id=\"T_f50f2_row1_col0\" class=\"data row1 col0\" >UH</td>\n",
       "      <td id=\"T_f50f2_row1_col1\" class=\"data row1 col1\" >0.00</td>\n",
       "      <td id=\"T_f50f2_row1_col2\" class=\"data row1 col2\" >DT</td>\n",
       "      <td id=\"T_f50f2_row1_col3\" class=\"data row1 col3\" >1.00</td>\n",
       "    </tr>\n",
       "    <tr>\n",
       "      <th id=\"T_f50f2_level0_row2\" class=\"row_heading level0 row2\" >2</th>\n",
       "      <td id=\"T_f50f2_row2_col0\" class=\"data row2 col0\" >NNPS</td>\n",
       "      <td id=\"T_f50f2_row2_col1\" class=\"data row2 col1\" >0.14</td>\n",
       "      <td id=\"T_f50f2_row2_col2\" class=\"data row2 col2\" >NNS</td>\n",
       "      <td id=\"T_f50f2_row2_col3\" class=\"data row2 col3\" >0.39</td>\n",
       "    </tr>\n",
       "    <tr>\n",
       "      <th id=\"T_f50f2_level0_row3\" class=\"row_heading level0 row3\" >3</th>\n",
       "      <td id=\"T_f50f2_row3_col0\" class=\"data row3 col0\" >PDT</td>\n",
       "      <td id=\"T_f50f2_row3_col1\" class=\"data row3 col1\" >0.14</td>\n",
       "      <td id=\"T_f50f2_row3_col2\" class=\"data row3 col2\" >DT</td>\n",
       "      <td id=\"T_f50f2_row3_col3\" class=\"data row3 col3\" >0.57</td>\n",
       "    </tr>\n",
       "    <tr>\n",
       "      <th id=\"T_f50f2_level0_row4\" class=\"row_heading level0 row4\" >4</th>\n",
       "      <td id=\"T_f50f2_row4_col0\" class=\"data row4 col0\" >LS</td>\n",
       "      <td id=\"T_f50f2_row4_col1\" class=\"data row4 col1\" >0.33</td>\n",
       "      <td id=\"T_f50f2_row4_col2\" class=\"data row4 col2\" >NN</td>\n",
       "      <td id=\"T_f50f2_row4_col3\" class=\"data row4 col3\" >0.33</td>\n",
       "    </tr>\n",
       "    <tr>\n",
       "      <th id=\"T_f50f2_level0_row5\" class=\"row_heading level0 row5\" >5</th>\n",
       "      <td id=\"T_f50f2_row5_col0\" class=\"data row5 col0\" >#</td>\n",
       "      <td id=\"T_f50f2_row5_col1\" class=\"data row5 col1\" >0.40</td>\n",
       "      <td id=\"T_f50f2_row5_col2\" class=\"data row5 col2\" >#</td>\n",
       "      <td id=\"T_f50f2_row5_col3\" class=\"data row5 col3\" >0.40</td>\n",
       "    </tr>\n",
       "  </tbody>\n",
       "</table>\n"
      ],
      "text/plain": [
       "<IPython.core.display.HTML object>"
      ]
     },
     "metadata": {},
     "output_type": "display_data"
    }
   ],
   "source": [
    "display_classif_info(chosen_models, x_val, y_val)"
   ]
  },
  {
   "cell_type": "markdown",
   "metadata": {
    "id": "lC3WwOzaXMyj"
   },
   "source": [
    "### 5.1.2 - Test Set"
   ]
  },
  {
   "cell_type": "code",
   "execution_count": 31,
   "metadata": {
    "colab": {
     "base_uri": "https://localhost:8080/",
     "height": 265
    },
    "executionInfo": {
     "elapsed": 1897,
     "status": "ok",
     "timestamp": 1639661732735,
     "user": {
      "displayName": "Francesco Ballerini",
      "photoUrl": "https://lh3.googleusercontent.com/a-/AOh14Gg-R7R-HjBq_dn0hwuUoDXC2RwAVd1JXz6dReMZ3g=s64",
      "userId": "00684324433983888967"
     },
     "user_tz": -60
    },
    "id": "2pAHfkO0XMyk",
    "outputId": "74f98f39-7c39-4494-ec78-1397e5e49ace"
   },
   "outputs": [
    {
     "data": {
      "text/html": [
       "<style type=\"text/css\">\n",
       "</style>\n",
       "<table id=\"T_8cb2f_\">\n",
       "  <caption>BiLSTM-Dense</caption>\n",
       "  <thead>\n",
       "    <tr>\n",
       "      <th class=\"blank level0\" >&nbsp;</th>\n",
       "      <th class=\"col_heading level0 col0\" >Tag</th>\n",
       "      <th class=\"col_heading level0 col1\" >% Correct Prediction</th>\n",
       "      <th class=\"col_heading level0 col2\" >Most Predicted as</th>\n",
       "      <th class=\"col_heading level0 col3\" >% Most predicted</th>\n",
       "    </tr>\n",
       "  </thead>\n",
       "  <tbody>\n",
       "    <tr>\n",
       "      <th id=\"T_8cb2f_level0_row0\" class=\"row_heading level0 row0\" >0</th>\n",
       "      <td id=\"T_8cb2f_row0_col0\" class=\"data row0 col0\" >NNPS</td>\n",
       "      <td id=\"T_8cb2f_row0_col1\" class=\"data row0 col1\" >0.09</td>\n",
       "      <td id=\"T_8cb2f_row0_col2\" class=\"data row0 col2\" >NNS</td>\n",
       "      <td id=\"T_8cb2f_row0_col3\" class=\"data row0 col3\" >0.50</td>\n",
       "    </tr>\n",
       "    <tr>\n",
       "      <th id=\"T_8cb2f_level0_row1\" class=\"row_heading level0 row1\" >1</th>\n",
       "      <td id=\"T_8cb2f_row1_col0\" class=\"data row1 col0\" >PDT</td>\n",
       "      <td id=\"T_8cb2f_row1_col1\" class=\"data row1 col1\" >0.25</td>\n",
       "      <td id=\"T_8cb2f_row1_col2\" class=\"data row1 col2\" >JJ</td>\n",
       "      <td id=\"T_8cb2f_row1_col3\" class=\"data row1 col3\" >0.25</td>\n",
       "    </tr>\n",
       "    <tr>\n",
       "      <th id=\"T_8cb2f_level0_row2\" class=\"row_heading level0 row2\" >2</th>\n",
       "      <td id=\"T_8cb2f_row2_col0\" class=\"data row2 col0\" >RBS</td>\n",
       "      <td id=\"T_8cb2f_row2_col1\" class=\"data row2 col1\" >0.33</td>\n",
       "      <td id=\"T_8cb2f_row2_col2\" class=\"data row2 col2\" >JJS</td>\n",
       "      <td id=\"T_8cb2f_row2_col3\" class=\"data row2 col3\" >0.67</td>\n",
       "    </tr>\n",
       "  </tbody>\n",
       "</table>\n"
      ],
      "text/plain": [
       "<IPython.core.display.HTML object>"
      ]
     },
     "metadata": {},
     "output_type": "display_data"
    },
    {
     "data": {
      "text/html": [
       "<style type=\"text/css\">\n",
       "</style>\n",
       "<table id=\"T_1acfb_\">\n",
       "  <caption>2xBiLSTM-Dense</caption>\n",
       "  <thead>\n",
       "    <tr>\n",
       "      <th class=\"blank level0\" >&nbsp;</th>\n",
       "      <th class=\"col_heading level0 col0\" >Tag</th>\n",
       "      <th class=\"col_heading level0 col1\" >% Correct Prediction</th>\n",
       "      <th class=\"col_heading level0 col2\" >Most Predicted as</th>\n",
       "      <th class=\"col_heading level0 col3\" >% Most predicted</th>\n",
       "    </tr>\n",
       "  </thead>\n",
       "  <tbody>\n",
       "    <tr>\n",
       "      <th id=\"T_1acfb_level0_row0\" class=\"row_heading level0 row0\" >0</th>\n",
       "      <td id=\"T_1acfb_row0_col0\" class=\"data row0 col0\" >RBS</td>\n",
       "      <td id=\"T_1acfb_row0_col1\" class=\"data row0 col1\" >0.00</td>\n",
       "      <td id=\"T_1acfb_row0_col2\" class=\"data row0 col2\" >JJS</td>\n",
       "      <td id=\"T_1acfb_row0_col3\" class=\"data row0 col3\" >1.00</td>\n",
       "    </tr>\n",
       "    <tr>\n",
       "      <th id=\"T_1acfb_level0_row1\" class=\"row_heading level0 row1\" >1</th>\n",
       "      <td id=\"T_1acfb_row1_col0\" class=\"data row1 col0\" >PDT</td>\n",
       "      <td id=\"T_1acfb_row1_col1\" class=\"data row1 col1\" >0.00</td>\n",
       "      <td id=\"T_1acfb_row1_col2\" class=\"data row1 col2\" >JJ</td>\n",
       "      <td id=\"T_1acfb_row1_col3\" class=\"data row1 col3\" >0.50</td>\n",
       "    </tr>\n",
       "    <tr>\n",
       "      <th id=\"T_1acfb_level0_row2\" class=\"row_heading level0 row2\" >2</th>\n",
       "      <td id=\"T_1acfb_row2_col0\" class=\"data row2 col0\" >NNPS</td>\n",
       "      <td id=\"T_1acfb_row2_col1\" class=\"data row2 col1\" >0.11</td>\n",
       "      <td id=\"T_1acfb_row2_col2\" class=\"data row2 col2\" >NNS</td>\n",
       "      <td id=\"T_1acfb_row2_col3\" class=\"data row2 col3\" >0.52</td>\n",
       "    </tr>\n",
       "    <tr>\n",
       "      <th id=\"T_1acfb_level0_row3\" class=\"row_heading level0 row3\" >3</th>\n",
       "      <td id=\"T_1acfb_row3_col0\" class=\"data row3 col0\" >WP$</td>\n",
       "      <td id=\"T_1acfb_row3_col1\" class=\"data row3 col1\" >0.25</td>\n",
       "      <td id=\"T_1acfb_row3_col2\" class=\"data row3 col2\" >JJ</td>\n",
       "      <td id=\"T_1acfb_row3_col3\" class=\"data row3 col3\" >0.50</td>\n",
       "    </tr>\n",
       "    <tr>\n",
       "      <th id=\"T_1acfb_level0_row4\" class=\"row_heading level0 row4\" >4</th>\n",
       "      <td id=\"T_1acfb_row4_col0\" class=\"data row4 col0\" >RBR</td>\n",
       "      <td id=\"T_1acfb_row4_col1\" class=\"data row4 col1\" >0.40</td>\n",
       "      <td id=\"T_1acfb_row4_col2\" class=\"data row4 col2\" >JJR</td>\n",
       "      <td id=\"T_1acfb_row4_col3\" class=\"data row4 col3\" >0.47</td>\n",
       "    </tr>\n",
       "  </tbody>\n",
       "</table>\n"
      ],
      "text/plain": [
       "<IPython.core.display.HTML object>"
      ]
     },
     "metadata": {},
     "output_type": "display_data"
    }
   ],
   "source": [
    "display_classif_info(chosen_models, x_test, y_test)"
   ]
  },
  {
   "cell_type": "markdown",
   "metadata": {
    "id": "fCcnEDhPXMyk"
   },
   "source": [
    "### 5.1.3 - Some considerations about the results\n",
    "The first thing that we can notice is that, as already reflected in the F1 score, the number of heavily misclassified tags (where by *heavily* we mean in more than half of their occurrences) is higher in the validation than in the test set. One reason might be that, although the number of documents is similar in both sets (50 in the validation set VS 49 in the test set), the validation set contains almost double the tokens (i.e. words, since we discarded punctuation) than the test set (31183 VS 15545). As a consequence, the test set might contain a lower number of (or not contain at all) those tags that, due to being quite uncommon in the training set, were not sufficiently grasped by the models. Some examples are `FW` (foreign word), `UH` (interjection), `#` (pound sign), and `LS` (list item marker), which are almost never classified as themselves in the validation set while not even appearing as mistakes in the test set.\n",
    "\n",
    "Some other more interesting misclassified tags are:\n",
    "* `NNPS` (plural proper noun), which is mostly classified as `NNS` (plural common noun). The confusion between plural and common nouns is probably due to the lowercase conversion we applied to the dataset in the pre-processing step, which, however, as we already discussed, is unavoidable if we want to deploy GloVe embeddings.\n",
    "* `PDT` (predeterminer), which tends to be confused with `DT` (determiner) in the validation set (a very subtle mistake) and with `JJ` (adjective) in the test set. It is reasonable to believe that this is due to predeterminers being uncommon tags themselves.\n",
    "* `RBR`/`RBS` (comparative/superlative adverb), mostly misclassified as `JJR`/`JJS` (comparative/superlative adjective) in the test set. This is quite a forgivable mistakes, especially when we consider that two-syllable adjectives and adverbs are both preceded by \"more\"/\"most\".\n",
    "* `WP$` (possessive wh-pronoun), misclassified as `JJ` (adjective). Again, it is not too surprising to see this uncommon tag (which is assigned to words \"whose\" and \"whom\" only) to be mistaken for the much more common adjective category.\n",
    " "
   ]
  },
  {
   "cell_type": "markdown",
   "metadata": {
    "id": "q4YN0PMbXMyk"
   },
   "source": [
    "In order to provide some evidence for our observations above, let us verify that what we assumed to be uncommon tags are actually so:"
   ]
  },
  {
   "cell_type": "code",
   "execution_count": 32,
   "metadata": {
    "colab": {
     "base_uri": "https://localhost:8080/",
     "height": 272
    },
    "executionInfo": {
     "elapsed": 10,
     "status": "ok",
     "timestamp": 1639661732736,
     "user": {
      "displayName": "Francesco Ballerini",
      "photoUrl": "https://lh3.googleusercontent.com/a-/AOh14Gg-R7R-HjBq_dn0hwuUoDXC2RwAVd1JXz6dReMZ3g=s64",
      "userId": "00684324433983888967"
     },
     "user_tz": -60
    },
    "id": "WNjg463mXMyk",
    "outputId": "596622a2-8ca6-40fd-bbb9-6ededb1e44ef"
   },
   "outputs": [
    {
     "data": {
      "text/html": [
       "<div>\n",
       "<style scoped>\n",
       "    .dataframe tbody tr th:only-of-type {\n",
       "        vertical-align: middle;\n",
       "    }\n",
       "\n",
       "    .dataframe tbody tr th {\n",
       "        vertical-align: top;\n",
       "    }\n",
       "\n",
       "    .dataframe thead th {\n",
       "        text-align: right;\n",
       "    }\n",
       "</style>\n",
       "<table border=\"1\" class=\"dataframe\">\n",
       "  <thead>\n",
       "    <tr style=\"text-align: right;\">\n",
       "      <th></th>\n",
       "      <th>Tag</th>\n",
       "      <th>N. Training</th>\n",
       "      <th>N. Validation</th>\n",
       "      <th>N. Test</th>\n",
       "    </tr>\n",
       "  </thead>\n",
       "  <tbody>\n",
       "    <tr>\n",
       "      <th>0</th>\n",
       "      <td>FW</td>\n",
       "      <td>2</td>\n",
       "      <td>2</td>\n",
       "      <td>0</td>\n",
       "    </tr>\n",
       "    <tr>\n",
       "      <th>1</th>\n",
       "      <td>UH</td>\n",
       "      <td>1</td>\n",
       "      <td>2</td>\n",
       "      <td>0</td>\n",
       "    </tr>\n",
       "    <tr>\n",
       "      <th>2</th>\n",
       "      <td>#</td>\n",
       "      <td>1</td>\n",
       "      <td>15</td>\n",
       "      <td>0</td>\n",
       "    </tr>\n",
       "    <tr>\n",
       "      <th>3</th>\n",
       "      <td>LS</td>\n",
       "      <td>10</td>\n",
       "      <td>3</td>\n",
       "      <td>0</td>\n",
       "    </tr>\n",
       "    <tr>\n",
       "      <th>4</th>\n",
       "      <td>PDT</td>\n",
       "      <td>9</td>\n",
       "      <td>14</td>\n",
       "      <td>4</td>\n",
       "    </tr>\n",
       "    <tr>\n",
       "      <th>5</th>\n",
       "      <td>WP$</td>\n",
       "      <td>6</td>\n",
       "      <td>4</td>\n",
       "      <td>4</td>\n",
       "    </tr>\n",
       "  </tbody>\n",
       "</table>\n",
       "</div>"
      ],
      "text/plain": [
       "   Tag  N. Training  N. Validation  N. Test\n",
       "0   FW            2              2        0\n",
       "1   UH            1              2        0\n",
       "2    #            1             15        0\n",
       "3   LS           10              3        0\n",
       "4  PDT            9             14        4\n",
       "5  WP$            6              4        4"
      ]
     },
     "execution_count": 32,
     "metadata": {},
     "output_type": "execute_result"
    }
   ],
   "source": [
    "uncommon_tags = ['FW', 'UH', '#', 'LS', 'PDT', 'WP$']\n",
    "d = []\n",
    "for t in uncommon_tags:\n",
    "    d.append({\n",
    "        'Tag': t,\n",
    "        'N. Training': len(ds_train[ds_train['tag'] == t]),\n",
    "        'N. Validation': len(ds_val[ds_val['tag'] == t]),\n",
    "        'N. Test': len(ds_test[ds_test['tag'] == t]),\n",
    "    })\n",
    "\n",
    "pd.DataFrame(d)"
   ]
  },
  {
   "cell_type": "markdown",
   "metadata": {
    "id": "rGPEFyiLXMyk"
   },
   "source": [
    "As we hypothesized, most of the critical tags never even appear in the test set, hence the slightly higher test-set metrics, while also being quite uncommon in the training set, and therefore hard to learn.\n",
    "\n",
    "In the following subsections, we will make some additional observations by focusing on a single model (the one with the highest F1-macro score among the two already selected ones) and its predictions on the test set alone."
   ]
  },
  {
   "cell_type": "markdown",
   "metadata": {
    "id": "Nk42lKaEXMyl"
   },
   "source": [
    "## 5.2 - Class Support and Individual F1 Scores\n",
    "Let us check whether there is any correlation between F1 scores and the support of classes appearing in the test set."
   ]
  },
  {
   "cell_type": "code",
   "execution_count": 33,
   "metadata": {
    "executionInfo": {
     "elapsed": 923,
     "status": "ok",
     "timestamp": 1639661733652,
     "user": {
      "displayName": "Francesco Ballerini",
      "photoUrl": "https://lh3.googleusercontent.com/a-/AOh14Gg-R7R-HjBq_dn0hwuUoDXC2RwAVd1JXz6dReMZ3g=s64",
      "userId": "00684324433983888967"
     },
     "user_tz": -60
    },
    "id": "1ovvPZS9XMyl"
   },
   "outputs": [],
   "source": [
    "test_pred, report, _ = evaluate_model(best_m['model'], x_test, y_test)"
   ]
  },
  {
   "cell_type": "code",
   "execution_count": 34,
   "metadata": {
    "colab": {
     "base_uri": "https://localhost:8080/",
     "height": 562
    },
    "executionInfo": {
     "elapsed": 398,
     "status": "ok",
     "timestamp": 1639661734044,
     "user": {
      "displayName": "Francesco Ballerini",
      "photoUrl": "https://lh3.googleusercontent.com/a-/AOh14Gg-R7R-HjBq_dn0hwuUoDXC2RwAVd1JXz6dReMZ3g=s64",
      "userId": "00684324433983888967"
     },
     "user_tz": -60
    },
    "id": "UrIlA2g_XMyl",
    "outputId": "93ba7589-91ee-46e8-8711-401c97c5886c"
   },
   "outputs": [
    {
     "data": {
      "image/svg+xml": "<svg class=\"main-svg\" xmlns=\"http://www.w3.org/2000/svg\" xmlns:xlink=\"http://www.w3.org/1999/xlink\" width=\"700\" height=\"500\" style=\"\" viewBox=\"0 0 700 500\"><rect x=\"0\" y=\"0\" width=\"700\" height=\"500\" style=\"fill: rgb(255, 255, 255); fill-opacity: 1;\"/><defs id=\"defs-d208cf\"><g class=\"clips\"><clipPath id=\"clipd208cfxyplot\" class=\"plotclip\"><rect width=\"503\" height=\"360\"/></clipPath><clipPath class=\"axesclip\" id=\"clipd208cfx\"><rect x=\"80\" y=\"0\" width=\"503\" height=\"500\"/></clipPath><clipPath class=\"axesclip\" id=\"clipd208cfy\"><rect x=\"0\" y=\"60\" width=\"700\" height=\"360\"/></clipPath><clipPath class=\"axesclip\" id=\"clipd208cfxy\"><rect x=\"80\" y=\"60\" width=\"503\" height=\"360\"/></clipPath></g><g class=\"gradients\"/><g class=\"patterns\"/></defs><g class=\"bglayer\"><rect class=\"bg\" x=\"80\" y=\"60\" width=\"503\" height=\"360\" style=\"fill: rgb(229, 236, 246); fill-opacity: 1; stroke-width: 0;\"/></g><g class=\"layer-below\"><g class=\"imagelayer\"/><g class=\"shapelayer\"/></g><g class=\"cartesianlayer\"><g class=\"subplot xy\"><g class=\"layer-subplot\"><g class=\"shapelayer\"/><g class=\"imagelayer\"/></g><g class=\"gridlayer\"><g class=\"x\"/><g class=\"y\"><path class=\"ygrid crisp\" transform=\"translate(0,409.84)\" d=\"M80,0h503\" style=\"stroke: rgb(255, 255, 255); stroke-opacity: 1; stroke-width: 1px;\"/><path class=\"ygrid crisp\" transform=\"translate(0,299.22)\" d=\"M80,0h503\" style=\"stroke: rgb(255, 255, 255); stroke-opacity: 1; stroke-width: 1px;\"/><path class=\"ygrid crisp\" transform=\"translate(0,243.92)\" d=\"M80,0h503\" style=\"stroke: rgb(255, 255, 255); stroke-opacity: 1; stroke-width: 1px;\"/><path class=\"ygrid crisp\" transform=\"translate(0,188.61)\" d=\"M80,0h503\" style=\"stroke: rgb(255, 255, 255); stroke-opacity: 1; stroke-width: 1px;\"/><path class=\"ygrid crisp\" transform=\"translate(0,133.31)\" d=\"M80,0h503\" style=\"stroke: rgb(255, 255, 255); stroke-opacity: 1; stroke-width: 1px;\"/><path class=\"ygrid crisp\" transform=\"translate(0,78)\" d=\"M80,0h503\" style=\"stroke: rgb(255, 255, 255); stroke-opacity: 1; stroke-width: 1px;\"/></g></g><g class=\"zerolinelayer\"><path class=\"yzl zl crisp\" transform=\"translate(0,354.53)\" d=\"M80,0h503\" style=\"stroke: rgb(255, 255, 255); stroke-opacity: 1; stroke-width: 2px;\"/></g><path class=\"xlines-below\"/><path class=\"ylines-below\"/><g class=\"overlines-below\"/><g class=\"xaxislayer-below\"/><g class=\"yaxislayer-below\"/><g class=\"overaxes-below\"/><g class=\"plot\" transform=\"translate(80,60)\" clip-path=\"url(#clipd208cfxyplot)\"><g class=\"barlayer mlayer\"><g class=\"trace bars\" style=\"opacity: 1;\"><g class=\"points\"><g class=\"point\"><path d=\"M1.52,294.53V258.58H13.72V294.53Z\" style=\"vector-effect: non-scaling-stroke; opacity: 1; stroke-width: 0px; fill: rgb(99, 110, 250); fill-opacity: 1;\"/></g><g class=\"point\"><path d=\"M16.77,294.53V203.28H28.96V294.53Z\" style=\"vector-effect: non-scaling-stroke; opacity: 1; stroke-width: 0px; fill: rgb(99, 110, 250); fill-opacity: 1;\"/></g><g class=\"point\"><path d=\"M32.01,294.53V203.28H44.2V294.53Z\" style=\"vector-effect: non-scaling-stroke; opacity: 1; stroke-width: 0px; fill: rgb(99, 110, 250); fill-opacity: 1;\"/></g><g class=\"point\"><path d=\"M47.25,294.53V153.5H59.45V294.53Z\" style=\"vector-effect: non-scaling-stroke; opacity: 1; stroke-width: 0px; fill: rgb(99, 110, 250); fill-opacity: 1;\"/></g><g class=\"point\"><path d=\"M62.49,294.53V125.85H74.69V294.53Z\" style=\"vector-effect: non-scaling-stroke; opacity: 1; stroke-width: 0px; fill: rgb(99, 110, 250); fill-opacity: 1;\"/></g><g class=\"point\"><path d=\"M77.74,294.53V123.08H89.93V294.53Z\" style=\"vector-effect: non-scaling-stroke; opacity: 1; stroke-width: 0px; fill: rgb(99, 110, 250); fill-opacity: 1;\"/></g><g class=\"point\"><path d=\"M92.98,294.53V106.49H105.17V294.53Z\" style=\"vector-effect: non-scaling-stroke; opacity: 1; stroke-width: 0px; fill: rgb(99, 110, 250); fill-opacity: 1;\"/></g><g class=\"point\"><path d=\"M108.22,294.53V100.96H120.42V294.53Z\" style=\"vector-effect: non-scaling-stroke; opacity: 1; stroke-width: 0px; fill: rgb(99, 110, 250); fill-opacity: 1;\"/></g><g class=\"point\"><path d=\"M123.46,294.53V100.96H135.66V294.53Z\" style=\"vector-effect: non-scaling-stroke; opacity: 1; stroke-width: 0px; fill: rgb(99, 110, 250); fill-opacity: 1;\"/></g><g class=\"point\"><path d=\"M138.71,294.53V87.13H150.9V294.53Z\" style=\"vector-effect: non-scaling-stroke; opacity: 1; stroke-width: 0px; fill: rgb(99, 110, 250); fill-opacity: 1;\"/></g><g class=\"point\"><path d=\"M153.95,294.53V84.37H166.14V294.53Z\" style=\"vector-effect: non-scaling-stroke; opacity: 1; stroke-width: 0px; fill: rgb(99, 110, 250); fill-opacity: 1;\"/></g><g class=\"point\"><path d=\"M169.19,294.53V73.31H181.38V294.53Z\" style=\"vector-effect: non-scaling-stroke; opacity: 1; stroke-width: 0px; fill: rgb(99, 110, 250); fill-opacity: 1;\"/></g><g class=\"point\"><path d=\"M184.43,294.53V65.01H196.63V294.53Z\" style=\"vector-effect: non-scaling-stroke; opacity: 1; stroke-width: 0px; fill: rgb(99, 110, 250); fill-opacity: 1;\"/></g><g class=\"point\"><path d=\"M199.68,294.53V65.01H211.87V294.53Z\" style=\"vector-effect: non-scaling-stroke; opacity: 1; stroke-width: 0px; fill: rgb(99, 110, 250); fill-opacity: 1;\"/></g><g class=\"point\"><path d=\"M214.92,294.53V65.01H227.11V294.53Z\" style=\"vector-effect: non-scaling-stroke; opacity: 1; stroke-width: 0px; fill: rgb(99, 110, 250); fill-opacity: 1;\"/></g><g class=\"point\"><path d=\"M230.16,294.53V56.71H242.35V294.53Z\" style=\"vector-effect: non-scaling-stroke; opacity: 1; stroke-width: 0px; fill: rgb(99, 110, 250); fill-opacity: 1;\"/></g><g class=\"point\"><path d=\"M245.4,294.53V56.71H257.6V294.53Z\" style=\"vector-effect: non-scaling-stroke; opacity: 1; stroke-width: 0px; fill: rgb(99, 110, 250); fill-opacity: 1;\"/></g><g class=\"point\"><path d=\"M260.65,294.53V51.18H272.84V294.53Z\" style=\"vector-effect: non-scaling-stroke; opacity: 1; stroke-width: 0px; fill: rgb(99, 110, 250); fill-opacity: 1;\"/></g><g class=\"point\"><path d=\"M275.89,294.53V51.18H288.08V294.53Z\" style=\"vector-effect: non-scaling-stroke; opacity: 1; stroke-width: 0px; fill: rgb(99, 110, 250); fill-opacity: 1;\"/></g><g class=\"point\"><path d=\"M291.13,294.53V42.89H303.32V294.53Z\" style=\"vector-effect: non-scaling-stroke; opacity: 1; stroke-width: 0px; fill: rgb(99, 110, 250); fill-opacity: 1;\"/></g><g class=\"point\"><path d=\"M306.37,294.53V42.89H318.57V294.53Z\" style=\"vector-effect: non-scaling-stroke; opacity: 1; stroke-width: 0px; fill: rgb(99, 110, 250); fill-opacity: 1;\"/></g><g class=\"point\"><path d=\"M321.62,294.53V42.89H333.81V294.53Z\" style=\"vector-effect: non-scaling-stroke; opacity: 1; stroke-width: 0px; fill: rgb(99, 110, 250); fill-opacity: 1;\"/></g><g class=\"point\"><path d=\"M336.86,294.53V29.06H349.05V294.53Z\" style=\"vector-effect: non-scaling-stroke; opacity: 1; stroke-width: 0px; fill: rgb(99, 110, 250); fill-opacity: 1;\"/></g><g class=\"point\"><path d=\"M352.1,294.53V29.06H364.29V294.53Z\" style=\"vector-effect: non-scaling-stroke; opacity: 1; stroke-width: 0px; fill: rgb(99, 110, 250); fill-opacity: 1;\"/></g><g class=\"point\"><path d=\"M367.34,294.53V26.3H379.54V294.53Z\" style=\"vector-effect: non-scaling-stroke; opacity: 1; stroke-width: 0px; fill: rgb(99, 110, 250); fill-opacity: 1;\"/></g><g class=\"point\"><path d=\"M382.58,294.53V23.53H394.78V294.53Z\" style=\"vector-effect: non-scaling-stroke; opacity: 1; stroke-width: 0px; fill: rgb(99, 110, 250); fill-opacity: 1;\"/></g><g class=\"point\"><path d=\"M397.83,294.53V23.53H410.02V294.53Z\" style=\"vector-effect: non-scaling-stroke; opacity: 1; stroke-width: 0px; fill: rgb(99, 110, 250); fill-opacity: 1;\"/></g><g class=\"point\"><path d=\"M413.07,294.53V23.53H425.26V294.53Z\" style=\"vector-effect: non-scaling-stroke; opacity: 1; stroke-width: 0px; fill: rgb(99, 110, 250); fill-opacity: 1;\"/></g><g class=\"point\"><path d=\"M428.31,294.53V20.77H440.51V294.53Z\" style=\"vector-effect: non-scaling-stroke; opacity: 1; stroke-width: 0px; fill: rgb(99, 110, 250); fill-opacity: 1;\"/></g><g class=\"point\"><path d=\"M443.55,294.53V20.77H455.75V294.53Z\" style=\"vector-effect: non-scaling-stroke; opacity: 1; stroke-width: 0px; fill: rgb(99, 110, 250); fill-opacity: 1;\"/></g><g class=\"point\"><path d=\"M458.8,294.53V18H470.99V294.53Z\" style=\"vector-effect: non-scaling-stroke; opacity: 1; stroke-width: 0px; fill: rgb(99, 110, 250); fill-opacity: 1;\"/></g><g class=\"point\"><path d=\"M474.04,294.53V18H486.23V294.53Z\" style=\"vector-effect: non-scaling-stroke; opacity: 1; stroke-width: 0px; fill: rgb(99, 110, 250); fill-opacity: 1;\"/></g><g class=\"point\"><path d=\"M489.28,294.53V18H501.48V294.53Z\" style=\"vector-effect: non-scaling-stroke; opacity: 1; stroke-width: 0px; fill: rgb(99, 110, 250); fill-opacity: 1;\"/></g></g></g><g class=\"trace bars\" style=\"opacity: 1;\"><g class=\"points\"><g class=\"point\"><path d=\"M1.52,294.53V295.41H13.72V294.53Z\" style=\"vector-effect: non-scaling-stroke; opacity: 1; stroke-width: 0px; fill: rgb(239, 85, 59); fill-opacity: 1;\"/></g><g class=\"point\"><path d=\"M16.77,294.53V294.61H28.96V294.53Z\" style=\"vector-effect: non-scaling-stroke; opacity: 1; stroke-width: 0px; fill: rgb(239, 85, 59); fill-opacity: 1;\"/></g><g class=\"point\"><path d=\"M32.01,294.53V294.59H44.2V294.53Z\" style=\"vector-effect: non-scaling-stroke; opacity: 1; stroke-width: 0px; fill: rgb(239, 85, 59); fill-opacity: 1;\"/></g><g class=\"point\"><path d=\"M47.25,294.53V294.83H59.45V294.53Z\" style=\"vector-effect: non-scaling-stroke; opacity: 1; stroke-width: 0px; fill: rgb(239, 85, 59); fill-opacity: 1;\"/></g><g class=\"point\"><path d=\"M62.49,294.53V295.19H74.69V294.53Z\" style=\"vector-effect: non-scaling-stroke; opacity: 1; stroke-width: 0px; fill: rgb(239, 85, 59); fill-opacity: 1;\"/></g><g class=\"point\"><path d=\"M77.74,294.53V298.93H89.93V294.53Z\" style=\"vector-effect: non-scaling-stroke; opacity: 1; stroke-width: 0px; fill: rgb(239, 85, 59); fill-opacity: 1;\"/></g><g class=\"point\"><path d=\"M92.98,294.53V301.82H105.17V294.53Z\" style=\"vector-effect: non-scaling-stroke; opacity: 1; stroke-width: 0px; fill: rgb(239, 85, 59); fill-opacity: 1;\"/></g><g class=\"point\"><path d=\"M108.22,294.53V295.71H120.42V294.53Z\" style=\"vector-effect: non-scaling-stroke; opacity: 1; stroke-width: 0px; fill: rgb(239, 85, 59); fill-opacity: 1;\"/></g><g class=\"point\"><path d=\"M123.46,294.53V312.82H135.66V294.53Z\" style=\"vector-effect: non-scaling-stroke; opacity: 1; stroke-width: 0px; fill: rgb(239, 85, 59); fill-opacity: 1;\"/></g><g class=\"point\"><path d=\"M138.71,294.53V297.2H150.9V294.53Z\" style=\"vector-effect: non-scaling-stroke; opacity: 1; stroke-width: 0px; fill: rgb(239, 85, 59); fill-opacity: 1;\"/></g><g class=\"point\"><path d=\"M153.95,294.53V295.15H166.14V294.53Z\" style=\"vector-effect: non-scaling-stroke; opacity: 1; stroke-width: 0px; fill: rgb(239, 85, 59); fill-opacity: 1;\"/></g><g class=\"point\"><path d=\"M169.19,294.53V302.12H181.38V294.53Z\" style=\"vector-effect: non-scaling-stroke; opacity: 1; stroke-width: 0px; fill: rgb(239, 85, 59); fill-opacity: 1;\"/></g><g class=\"point\"><path d=\"M184.43,294.53V324.45H196.63V294.53Z\" style=\"vector-effect: non-scaling-stroke; opacity: 1; stroke-width: 0px; fill: rgb(239, 85, 59); fill-opacity: 1;\"/></g><g class=\"point\"><path d=\"M199.68,294.53V313.28H211.87V294.53Z\" style=\"vector-effect: non-scaling-stroke; opacity: 1; stroke-width: 0px; fill: rgb(239, 85, 59); fill-opacity: 1;\"/></g><g class=\"point\"><path d=\"M214.92,294.53V342H227.11V294.53Z\" style=\"vector-effect: non-scaling-stroke; opacity: 1; stroke-width: 0px; fill: rgb(239, 85, 59); fill-opacity: 1;\"/></g><g class=\"point\"><path d=\"M230.16,294.53V295.01H242.35V294.53Z\" style=\"vector-effect: non-scaling-stroke; opacity: 1; stroke-width: 0px; fill: rgb(239, 85, 59); fill-opacity: 1;\"/></g><g class=\"point\"><path d=\"M245.4,294.53V307.16H257.6V294.53Z\" style=\"vector-effect: non-scaling-stroke; opacity: 1; stroke-width: 0px; fill: rgb(239, 85, 59); fill-opacity: 1;\"/></g><g class=\"point\"><path d=\"M260.65,294.53V296.2H272.84V294.53Z\" style=\"vector-effect: non-scaling-stroke; opacity: 1; stroke-width: 0px; fill: rgb(239, 85, 59); fill-opacity: 1;\"/></g><g class=\"point\"><path d=\"M275.89,294.53V300.11H288.08V294.53Z\" style=\"vector-effect: non-scaling-stroke; opacity: 1; stroke-width: 0px; fill: rgb(239, 85, 59); fill-opacity: 1;\"/></g><g class=\"point\"><path d=\"M291.13,294.53V294.63H303.32V294.53Z\" style=\"vector-effect: non-scaling-stroke; opacity: 1; stroke-width: 0px; fill: rgb(239, 85, 59); fill-opacity: 1;\"/></g><g class=\"point\"><path d=\"M306.37,294.53V302.56H318.57V294.53Z\" style=\"vector-effect: non-scaling-stroke; opacity: 1; stroke-width: 0px; fill: rgb(239, 85, 59); fill-opacity: 1;\"/></g><g class=\"point\"><path d=\"M321.62,294.53V294.93H333.81V294.53Z\" style=\"vector-effect: non-scaling-stroke; opacity: 1; stroke-width: 0px; fill: rgb(239, 85, 59); fill-opacity: 1;\"/></g><g class=\"point\"><path d=\"M336.86,294.53V327H349.05V294.53Z\" style=\"vector-effect: non-scaling-stroke; opacity: 1; stroke-width: 0px; fill: rgb(239, 85, 59); fill-opacity: 1;\"/></g><g class=\"point\"><path d=\"M352.1,294.53V311.62H364.29V294.53Z\" style=\"vector-effect: non-scaling-stroke; opacity: 1; stroke-width: 0px; fill: rgb(239, 85, 59); fill-opacity: 1;\"/></g><g class=\"point\"><path d=\"M367.34,294.53V296.5H379.54V294.53Z\" style=\"vector-effect: non-scaling-stroke; opacity: 1; stroke-width: 0px; fill: rgb(239, 85, 59); fill-opacity: 1;\"/></g><g class=\"point\"><path d=\"M382.58,294.53V301.82H394.78V294.53Z\" style=\"vector-effect: non-scaling-stroke; opacity: 1; stroke-width: 0px; fill: rgb(239, 85, 59); fill-opacity: 1;\"/></g><g class=\"point\"><path d=\"M397.83,294.53V298.36H410.02V294.53Z\" style=\"vector-effect: non-scaling-stroke; opacity: 1; stroke-width: 0px; fill: rgb(239, 85, 59); fill-opacity: 1;\"/></g><g class=\"point\"><path d=\"M413.07,294.53V297.86H425.26V294.53Z\" style=\"vector-effect: non-scaling-stroke; opacity: 1; stroke-width: 0px; fill: rgb(239, 85, 59); fill-opacity: 1;\"/></g><g class=\"point\"><path d=\"M428.31,294.53V321.1H440.51V294.53Z\" style=\"vector-effect: non-scaling-stroke; opacity: 1; stroke-width: 0px; fill: rgb(239, 85, 59); fill-opacity: 1;\"/></g><g class=\"point\"><path d=\"M443.55,294.53V297.56H455.75V294.53Z\" style=\"vector-effect: non-scaling-stroke; opacity: 1; stroke-width: 0px; fill: rgb(239, 85, 59); fill-opacity: 1;\"/></g><g class=\"point\"><path d=\"M458.8,294.53V298.69H470.99V294.53Z\" style=\"vector-effect: non-scaling-stroke; opacity: 1; stroke-width: 0px; fill: rgb(239, 85, 59); fill-opacity: 1;\"/></g><g class=\"point\"><path d=\"M474.04,294.53V294.61H486.23V294.53Z\" style=\"vector-effect: non-scaling-stroke; opacity: 1; stroke-width: 0px; fill: rgb(239, 85, 59); fill-opacity: 1;\"/></g><g class=\"point\"><path d=\"M489.28,294.53V302.22H501.48V294.53Z\" style=\"vector-effect: non-scaling-stroke; opacity: 1; stroke-width: 0px; fill: rgb(239, 85, 59); fill-opacity: 1;\"/></g></g></g></g></g><g class=\"overplot\"/><path class=\"xlines-above crisp\" d=\"M0,0\" style=\"fill: none;\"/><path class=\"ylines-above crisp\" d=\"M0,0\" style=\"fill: none;\"/><g class=\"overlines-above\"/><g class=\"xaxislayer-above\"><g class=\"xtick\"><text text-anchor=\"start\" x=\"0\" y=\"433\" transform=\"translate(87.62,0) rotate(90,0,427)\" style=\"font-family: 'Open Sans', verdana, arial, sans-serif; font-size: 12px; fill: rgb(42, 63, 95); fill-opacity: 1; white-space: pre; opacity: 1;\">NNPS</text></g><g class=\"xtick\"><text text-anchor=\"start\" x=\"0\" y=\"433\" transform=\"translate(102.86,0) rotate(90,0,427)\" style=\"font-family: 'Open Sans', verdana, arial, sans-serif; font-size: 12px; fill: rgb(42, 63, 95); fill-opacity: 1; white-space: pre; opacity: 1;\">PDT</text></g><g class=\"xtick\"><text text-anchor=\"start\" x=\"0\" y=\"433\" transform=\"translate(118.11,0) rotate(90,0,427)\" style=\"font-family: 'Open Sans', verdana, arial, sans-serif; font-size: 12px; fill: rgb(42, 63, 95); fill-opacity: 1; white-space: pre; opacity: 1;\">RBS</text></g><g class=\"xtick\"><text text-anchor=\"start\" x=\"0\" y=\"433\" transform=\"translate(133.35,0) rotate(90,0,427)\" style=\"font-family: 'Open Sans', verdana, arial, sans-serif; font-size: 12px; fill: rgb(42, 63, 95); fill-opacity: 1; white-space: pre; opacity: 1;\">RBR</text></g><g class=\"xtick\"><text text-anchor=\"start\" x=\"0\" y=\"433\" transform=\"translate(148.59,0) rotate(90,0,427)\" style=\"font-family: 'Open Sans', verdana, arial, sans-serif; font-size: 12px; fill: rgb(42, 63, 95); fill-opacity: 1; white-space: pre; opacity: 1;\">RP</text></g><g class=\"xtick\"><text text-anchor=\"start\" x=\"0\" y=\"433\" transform=\"translate(163.82999999999998,0) rotate(90,0,427)\" style=\"font-family: 'Open Sans', verdana, arial, sans-serif; font-size: 12px; fill: rgb(42, 63, 95); fill-opacity: 1; white-space: pre; opacity: 1;\">VBG</text></g><g class=\"xtick\"><text text-anchor=\"start\" x=\"0\" y=\"433\" transform=\"translate(179.07999999999998,0) rotate(90,0,427)\" style=\"font-family: 'Open Sans', verdana, arial, sans-serif; font-size: 12px; fill: rgb(42, 63, 95); fill-opacity: 1; white-space: pre; opacity: 1;\">VBN</text></g><g class=\"xtick\"><text text-anchor=\"start\" x=\"0\" y=\"433\" transform=\"translate(194.32,0) rotate(90,0,427)\" style=\"font-family: 'Open Sans', verdana, arial, sans-serif; font-size: 12px; fill: rgb(42, 63, 95); fill-opacity: 1; white-space: pre; opacity: 1;\">JJR</text></g><g class=\"xtick\"><text text-anchor=\"start\" x=\"0\" y=\"433\" transform=\"translate(209.56,0) rotate(90,0,427)\" style=\"font-family: 'Open Sans', verdana, arial, sans-serif; font-size: 12px; fill: rgb(42, 63, 95); fill-opacity: 1; white-space: pre; opacity: 1;\">JJ</text></g><g class=\"xtick\"><text text-anchor=\"start\" x=\"0\" y=\"433\" transform=\"translate(224.8,0) rotate(90,0,427)\" style=\"font-family: 'Open Sans', verdana, arial, sans-serif; font-size: 12px; fill: rgb(42, 63, 95); fill-opacity: 1; white-space: pre; opacity: 1;\">VBP</text></g><g class=\"xtick\"><text text-anchor=\"start\" x=\"0\" y=\"433\" transform=\"translate(240.05,0) rotate(90,0,427)\" style=\"font-family: 'Open Sans', verdana, arial, sans-serif; font-size: 12px; fill: rgb(42, 63, 95); fill-opacity: 1; white-space: pre; opacity: 1;\">JJS</text></g><g class=\"xtick\"><text text-anchor=\"start\" x=\"0\" y=\"433\" transform=\"translate(255.29,0) rotate(90,0,427)\" style=\"font-family: 'Open Sans', verdana, arial, sans-serif; font-size: 12px; fill: rgb(42, 63, 95); fill-opacity: 1; white-space: pre; opacity: 1;\">RB</text></g><g class=\"xtick\"><text text-anchor=\"start\" x=\"0\" y=\"433\" transform=\"translate(270.53,0) rotate(90,0,427)\" style=\"font-family: 'Open Sans', verdana, arial, sans-serif; font-size: 12px; fill: rgb(42, 63, 95); fill-opacity: 1; white-space: pre; opacity: 1;\">NNP</text></g><g class=\"xtick\"><text text-anchor=\"start\" x=\"0\" y=\"433\" transform=\"translate(285.77,0) rotate(90,0,427)\" style=\"font-family: 'Open Sans', verdana, arial, sans-serif; font-size: 12px; fill: rgb(42, 63, 95); fill-opacity: 1; white-space: pre; opacity: 1;\">NNS</text></g><g class=\"xtick\"><text text-anchor=\"start\" x=\"0\" y=\"433\" transform=\"translate(301.02,0) rotate(90,0,427)\" style=\"font-family: 'Open Sans', verdana, arial, sans-serif; font-size: 12px; fill: rgb(42, 63, 95); fill-opacity: 1; white-space: pre; opacity: 1;\">NN</text></g><g class=\"xtick\"><text text-anchor=\"start\" x=\"0\" y=\"433\" transform=\"translate(316.26,0) rotate(90,0,427)\" style=\"font-family: 'Open Sans', verdana, arial, sans-serif; font-size: 12px; fill: rgb(42, 63, 95); fill-opacity: 1; white-space: pre; opacity: 1;\">WRB</text></g><g class=\"xtick\"><text text-anchor=\"start\" x=\"0\" y=\"433\" transform=\"translate(331.5,0) rotate(90,0,427)\" style=\"font-family: 'Open Sans', verdana, arial, sans-serif; font-size: 12px; fill: rgb(42, 63, 95); fill-opacity: 1; white-space: pre; opacity: 1;\">VBD</text></g><g class=\"xtick\"><text text-anchor=\"start\" x=\"0\" y=\"433\" transform=\"translate(346.74,0) rotate(90,0,427)\" style=\"font-family: 'Open Sans', verdana, arial, sans-serif; font-size: 12px; fill: rgb(42, 63, 95); fill-opacity: 1; white-space: pre; opacity: 1;\">WDT</text></g><g class=\"xtick\"><text text-anchor=\"start\" x=\"0\" y=\"433\" transform=\"translate(361.98,0) rotate(90,0,427)\" style=\"font-family: 'Open Sans', verdana, arial, sans-serif; font-size: 12px; fill: rgb(42, 63, 95); fill-opacity: 1; white-space: pre; opacity: 1;\">VBZ</text></g><g class=\"xtick\"><text text-anchor=\"start\" x=\"0\" y=\"433\" transform=\"translate(377.23,0) rotate(90,0,427)\" style=\"font-family: 'Open Sans', verdana, arial, sans-serif; font-size: 12px; fill: rgb(42, 63, 95); fill-opacity: 1; white-space: pre; opacity: 1;\">EX</text></g><g class=\"xtick\"><text text-anchor=\"start\" x=\"0\" y=\"433\" transform=\"translate(392.47,0) rotate(90,0,427)\" style=\"font-family: 'Open Sans', verdana, arial, sans-serif; font-size: 12px; fill: rgb(42, 63, 95); fill-opacity: 1; white-space: pre; opacity: 1;\">VB</text></g><g class=\"xtick\"><text text-anchor=\"start\" x=\"0\" y=\"433\" transform=\"translate(407.71,0) rotate(90,0,427)\" style=\"font-family: 'Open Sans', verdana, arial, sans-serif; font-size: 12px; fill: rgb(42, 63, 95); fill-opacity: 1; white-space: pre; opacity: 1;\">WP</text></g><g class=\"xtick\"><text text-anchor=\"start\" x=\"0\" y=\"433\" transform=\"translate(422.95,0) rotate(90,0,427)\" style=\"font-family: 'Open Sans', verdana, arial, sans-serif; font-size: 12px; fill: rgb(42, 63, 95); fill-opacity: 1; white-space: pre; opacity: 1;\">IN</text></g><g class=\"xtick\"><text text-anchor=\"start\" x=\"0\" y=\"433\" transform=\"translate(438.2,0) rotate(90,0,427)\" style=\"font-family: 'Open Sans', verdana, arial, sans-serif; font-size: 12px; fill: rgb(42, 63, 95); fill-opacity: 1; white-space: pre; opacity: 1;\">CD</text></g><g class=\"xtick\"><text text-anchor=\"start\" x=\"0\" y=\"433\" transform=\"translate(453.44,0) rotate(90,0,427)\" style=\"font-family: 'Open Sans', verdana, arial, sans-serif; font-size: 12px; fill: rgb(42, 63, 95); fill-opacity: 1; white-space: pre; opacity: 1;\">PRP$</text></g><g class=\"xtick\"><text text-anchor=\"start\" x=\"0\" y=\"433\" transform=\"translate(468.68,0) rotate(90,0,427)\" style=\"font-family: 'Open Sans', verdana, arial, sans-serif; font-size: 12px; fill: rgb(42, 63, 95); fill-opacity: 1; white-space: pre; opacity: 1;\">CC</text></g><g class=\"xtick\"><text text-anchor=\"start\" x=\"0\" y=\"433\" transform=\"translate(483.92,0) rotate(90,0,427)\" style=\"font-family: 'Open Sans', verdana, arial, sans-serif; font-size: 12px; fill: rgb(42, 63, 95); fill-opacity: 1; white-space: pre; opacity: 1;\">PRP</text></g><g class=\"xtick\"><text text-anchor=\"start\" x=\"0\" y=\"433\" transform=\"translate(499.17,0) rotate(90,0,427)\" style=\"font-family: 'Open Sans', verdana, arial, sans-serif; font-size: 12px; fill: rgb(42, 63, 95); fill-opacity: 1; white-space: pre; opacity: 1;\">MD</text></g><g class=\"xtick\"><text text-anchor=\"start\" x=\"0\" y=\"433\" transform=\"translate(514.4100000000001,0) rotate(90,0,427)\" style=\"font-family: 'Open Sans', verdana, arial, sans-serif; font-size: 12px; fill: rgb(42, 63, 95); fill-opacity: 1; white-space: pre; opacity: 1;\">DT</text></g><g class=\"xtick\"><text text-anchor=\"start\" x=\"0\" y=\"433\" transform=\"translate(529.65,0) rotate(90,0,427)\" style=\"font-family: 'Open Sans', verdana, arial, sans-serif; font-size: 12px; fill: rgb(42, 63, 95); fill-opacity: 1; white-space: pre; opacity: 1;\">POS</text></g><g class=\"xtick\"><text text-anchor=\"start\" x=\"0\" y=\"433\" transform=\"translate(544.89,0) rotate(90,0,427)\" style=\"font-family: 'Open Sans', verdana, arial, sans-serif; font-size: 12px; fill: rgb(42, 63, 95); fill-opacity: 1; white-space: pre; opacity: 1;\">$</text></g><g class=\"xtick\"><text text-anchor=\"start\" x=\"0\" y=\"433\" transform=\"translate(560.14,0) rotate(90,0,427)\" style=\"font-family: 'Open Sans', verdana, arial, sans-serif; font-size: 12px; fill: rgb(42, 63, 95); fill-opacity: 1; white-space: pre; opacity: 1;\">WP$</text></g><g class=\"xtick\"><text text-anchor=\"start\" x=\"0\" y=\"433\" transform=\"translate(575.38,0) rotate(90,0,427)\" style=\"font-family: 'Open Sans', verdana, arial, sans-serif; font-size: 12px; fill: rgb(42, 63, 95); fill-opacity: 1; white-space: pre; opacity: 1;\">TO</text></g></g><g class=\"yaxislayer-above\"><g class=\"ytick\"><text text-anchor=\"end\" x=\"79\" y=\"4.199999999999999\" transform=\"translate(0,409.84)\" style=\"font-family: 'Open Sans', verdana, arial, sans-serif; font-size: 12px; fill: rgb(42, 63, 95); fill-opacity: 1; white-space: pre; opacity: 1;\">−0.2</text></g><g class=\"ytick\"><text text-anchor=\"end\" x=\"79\" y=\"4.199999999999999\" style=\"font-family: 'Open Sans', verdana, arial, sans-serif; font-size: 12px; fill: rgb(42, 63, 95); fill-opacity: 1; white-space: pre; opacity: 1;\" transform=\"translate(0,354.53)\">0</text></g><g class=\"ytick\"><text text-anchor=\"end\" x=\"79\" y=\"4.199999999999999\" style=\"font-family: 'Open Sans', verdana, arial, sans-serif; font-size: 12px; fill: rgb(42, 63, 95); fill-opacity: 1; white-space: pre; opacity: 1;\" transform=\"translate(0,299.22)\">0.2</text></g><g class=\"ytick\"><text text-anchor=\"end\" x=\"79\" y=\"4.199999999999999\" style=\"font-family: 'Open Sans', verdana, arial, sans-serif; font-size: 12px; fill: rgb(42, 63, 95); fill-opacity: 1; white-space: pre; opacity: 1;\" transform=\"translate(0,243.92)\">0.4</text></g><g class=\"ytick\"><text text-anchor=\"end\" x=\"79\" y=\"4.199999999999999\" style=\"font-family: 'Open Sans', verdana, arial, sans-serif; font-size: 12px; fill: rgb(42, 63, 95); fill-opacity: 1; white-space: pre; opacity: 1;\" transform=\"translate(0,188.61)\">0.6</text></g><g class=\"ytick\"><text text-anchor=\"end\" x=\"79\" y=\"4.199999999999999\" style=\"font-family: 'Open Sans', verdana, arial, sans-serif; font-size: 12px; fill: rgb(42, 63, 95); fill-opacity: 1; white-space: pre; opacity: 1;\" transform=\"translate(0,133.31)\">0.8</text></g><g class=\"ytick\"><text text-anchor=\"end\" x=\"79\" y=\"4.199999999999999\" style=\"font-family: 'Open Sans', verdana, arial, sans-serif; font-size: 12px; fill: rgb(42, 63, 95); fill-opacity: 1; white-space: pre; opacity: 1;\" transform=\"translate(0,78)\">1</text></g></g><g class=\"overaxes-above\"/></g></g><g class=\"polarlayer\"/><g class=\"smithlayer\"/><g class=\"ternarylayer\"/><g class=\"geolayer\"/><g class=\"funnelarealayer\"/><g class=\"pielayer\"/><g class=\"iciclelayer\"/><g class=\"treemaplayer\"/><g class=\"sunburstlayer\"/><g class=\"glimages\"/><defs id=\"topdefs-d208cf\"><g class=\"clips\"/><clipPath id=\"legendd208cf\"><rect width=\"95\" height=\"67\" x=\"0\" y=\"0\"/></clipPath></defs><g class=\"layer-above\"><g class=\"imagelayer\"/><g class=\"shapelayer\"/></g><g class=\"infolayer\"><g class=\"legend\" pointer-events=\"all\" transform=\"translate(593.0600000000001,60)\"><rect class=\"bg\" shape-rendering=\"crispEdges\" style=\"stroke: rgb(68, 68, 68); stroke-opacity: 1; fill: rgb(255, 255, 255); fill-opacity: 1; stroke-width: 0px;\" width=\"95\" height=\"67\" x=\"0\" y=\"0\"/><g class=\"scrollbox\" transform=\"\" clip-path=\"url(#legendd208cf)\"><text class=\"legendtitletext\" text-anchor=\"start\" x=\"2\" y=\"18.2\" style=\"font-family: 'Open Sans', verdana, arial, sans-serif; font-size: 14px; fill: rgb(42, 63, 95); fill-opacity: 1; white-space: pre;\">variable</text><g class=\"groups\" transform=\"\"><g class=\"traces\" transform=\"translate(0,32.7)\" style=\"opacity: 1;\"><text class=\"legendtext\" text-anchor=\"start\" x=\"40\" y=\"4.680000000000001\" style=\"font-family: 'Open Sans', verdana, arial, sans-serif; font-size: 12px; fill: rgb(42, 63, 95); fill-opacity: 1; white-space: pre;\">f1-score</text><g class=\"layers\" style=\"opacity: 1;\"><g class=\"legendfill\"/><g class=\"legendlines\"/><g class=\"legendsymbols\"><g class=\"legendpoints\"><path class=\"legendundefined\" d=\"M6,6H-6V-6H6Z\" transform=\"translate(20,0)\" style=\"stroke-width: 0px; fill: rgb(99, 110, 250); fill-opacity: 1;\"/></g></g></g><rect class=\"legendtoggle\" x=\"0\" y=\"-9.5\" width=\"89.359375\" height=\"19\" style=\"fill: rgb(0, 0, 0); fill-opacity: 0;\"/></g></g><g class=\"groups\" transform=\"\"><g class=\"traces\" transform=\"translate(0,51.7)\" style=\"opacity: 1;\"><text class=\"legendtext\" text-anchor=\"start\" x=\"40\" y=\"4.680000000000001\" style=\"font-family: 'Open Sans', verdana, arial, sans-serif; font-size: 12px; fill: rgb(42, 63, 95); fill-opacity: 1; white-space: pre;\">support</text><g class=\"layers\" style=\"opacity: 1;\"><g class=\"legendfill\"/><g class=\"legendlines\"/><g class=\"legendsymbols\"><g class=\"legendpoints\"><path class=\"legendundefined\" d=\"M6,6H-6V-6H6Z\" transform=\"translate(20,0)\" style=\"stroke-width: 0px; fill: rgb(239, 85, 59); fill-opacity: 1;\"/></g></g></g><rect class=\"legendtoggle\" x=\"0\" y=\"-9.5\" width=\"89.359375\" height=\"19\" style=\"fill: rgb(0, 0, 0); fill-opacity: 0;\"/></g></g></g><rect class=\"scrollbar\" rx=\"20\" ry=\"3\" width=\"0\" height=\"0\" style=\"fill: rgb(128, 139, 164); fill-opacity: 1;\" x=\"0\" y=\"0\"/></g><g class=\"g-gtitle\"/><g class=\"g-xtitle\"><text class=\"xtitle\" x=\"331.5\" y=\"485.20625\" text-anchor=\"middle\" style=\"font-family: 'Open Sans', verdana, arial, sans-serif; font-size: 14px; fill: rgb(42, 63, 95); opacity: 1; font-weight: normal; white-space: pre;\">index</text></g><g class=\"g-ytitle\"><text class=\"ytitle\" transform=\"rotate(-90,24.746875000000003,240)\" x=\"24.746875000000003\" y=\"240\" text-anchor=\"middle\" style=\"font-family: 'Open Sans', verdana, arial, sans-serif; font-size: 14px; fill: rgb(42, 63, 95); opacity: 1; font-weight: normal; white-space: pre;\">sum of value</text></g></g></svg>"
     },
     "metadata": {},
     "output_type": "display_data"
    }
   ],
   "source": [
    "metric = 'f1-score'\n",
    "class_f1 = report[:-3].sort_values(by=metric)\n",
    "class_f1['support'] = -class_f1['support'] / sum(class_f1['support'])  # Norm+sign\n",
    "fig = px.histogram(class_f1, x=class_f1.index, y=[metric, 'support'])\n",
    "fig.show('svg')"
   ]
  },
  {
   "cell_type": "markdown",
   "metadata": {
    "id": "SlqwBaQ2XMyl"
   },
   "source": [
    "There is no apparent correlation between F1 scores and supports; indeed, classes with high support such as `NN` and `NNP` are not among the best scoring ones. The lowest-scoring class, `NNPS`, was already identified in the previous subsection as being one of the problematic tags."
   ]
  },
  {
   "cell_type": "markdown",
   "metadata": {
    "id": "HMa5ZZbIXMyl"
   },
   "source": [
    "## 5.3 - OOVs and F1-Macro Score"
   ]
  },
  {
   "cell_type": "code",
   "execution_count": 35,
   "metadata": {
    "colab": {
     "base_uri": "https://localhost:8080/"
    },
    "executionInfo": {
     "elapsed": 331,
     "status": "ok",
     "timestamp": 1639661734372,
     "user": {
      "displayName": "Francesco Ballerini",
      "photoUrl": "https://lh3.googleusercontent.com/a-/AOh14Gg-R7R-HjBq_dn0hwuUoDXC2RwAVd1JXz6dReMZ3g=s64",
      "userId": "00684324433983888967"
     },
     "user_tz": -60
    },
    "id": "FBiyfqCoXMym",
    "outputId": "5535070a-99dc-46b1-f8a5-8c751591bc14"
   },
   "outputs": [
    {
     "name": "stdout",
     "output_type": "stream",
     "text": [
      "\n",
      "F1-macro on test set:\n",
      "  - Tokens in GloVe: 0.8\n",
      "  - Tokens in OOV1:  0.58\n",
      "  - Tokens in OOV2:  0.37\n",
      "  - Tokens in OOV3:  0.43\n",
      "\n"
     ]
    }
   ],
   "source": [
    "def get_f1_tok_subset(df, tokens):\n",
    "    mask = df['token'].apply(lambda t: t in tokens)\n",
    "    df = df[mask]\n",
    "    cr = classif_report(df)\n",
    "    return cr.loc['macro avg', 'f1-score']\n",
    "\n",
    "print(f\"\"\"\n",
    "F1-macro on test set:\n",
    "  - Tokens in GloVe: {get_f1_tok_subset(test_pred, glove_keys)}\n",
    "  - Tokens in OOV1:  {get_f1_tok_subset(test_pred, oov1)}\n",
    "  - Tokens in OOV2:  {get_f1_tok_subset(test_pred, oov2)}\n",
    "  - Tokens in OOV3:  {get_f1_tok_subset(test_pred, oov3)}\n",
    "\"\"\")"
   ]
  },
  {
   "cell_type": "code",
   "execution_count": 36,
   "metadata": {
    "colab": {
     "base_uri": "https://localhost:8080/"
    },
    "executionInfo": {
     "elapsed": 601,
     "status": "ok",
     "timestamp": 1639661734971,
     "user": {
      "displayName": "Francesco Ballerini",
      "photoUrl": "https://lh3.googleusercontent.com/a-/AOh14Gg-R7R-HjBq_dn0hwuUoDXC2RwAVd1JXz6dReMZ3g=s64",
      "userId": "00684324433983888967"
     },
     "user_tz": -60
    },
    "id": "OdlH5FHTXMym",
    "outputId": "ab23311f-c106-4b0f-b2d2-d3cac9b48052"
   },
   "outputs": [
    {
     "name": "stdout",
     "output_type": "stream",
     "text": [
      "\n",
      "F1-macro on test set, using random predictions:\n",
      "  - Tokens in GloVe: 0.02\n",
      "  - Tokens in OOV1:  0.01\n",
      "  - Tokens in OOV2:  0.07\n",
      "  - Tokens in OOV3:  0.02\n",
      "\n"
     ]
    }
   ],
   "source": [
    "def df_random_pred(x, y):\n",
    "    p = np.random.randint(0, y.shape[-1], y.shape)\n",
    "    return to_dataframe(x, y, p)\n",
    "rand_pred = df_random_pred(x_test, y_test)\n",
    "\n",
    "print(f\"\"\"\n",
    "F1-macro on test set, using random predictions:\n",
    "  - Tokens in GloVe: {get_f1_tok_subset(rand_pred, glove_keys)}\n",
    "  - Tokens in OOV1:  {get_f1_tok_subset(rand_pred, oov1)}\n",
    "  - Tokens in OOV2:  {get_f1_tok_subset(rand_pred, oov2)}\n",
    "  - Tokens in OOV3:  {get_f1_tok_subset(rand_pred, oov3)}\n",
    "\"\"\")"
   ]
  },
  {
   "cell_type": "markdown",
   "metadata": {
    "id": "5SwQt5qfXMym"
   },
   "source": [
    "As expected, OOVs appear to be hader to classify than tokens which are part of the original GloVe embeddings, whereas, among OOVs themselves, those belonging to the training set (OOV1) are the highest-scoring ones.\n",
    "\n",
    "The score on OOVs in the validation and test sets (OOV2 and OOV3) is lower than that on GloVe and OOV1, but still considerably better than a random prediction, indicating that the model has acquired some capacity to generalize and handle unseen tokens.\n",
    "\n",
    "Surprisingly though, the score on OOV1 tokens is not very high, despite the model being trained on them. This might be caused by OOVs being uncommon throughout the training set or by their embeddings (computed as the mean of the embeddings of their neighboring tokens) being not representative enough, therefore making the corresponding token hard to classify for the model."
   ]
  },
  {
   "cell_type": "markdown",
   "metadata": {
    "id": "B2vd0ymtXMym"
   },
   "source": [
    "## 5.4 - Possible Improvements\n",
    "Some ideas which could potentially lead to better results with our current model architectures are:\n",
    "\n",
    "* *Data augmentation*: since the corpus is relatively small, a strategy to generate more training data could be devised, e.g. sentence sub-sampling, token masking, synonym mapping, or embedding noise.\n",
    "\n",
    "* *Output embeddings*: instead of one-hot encoding tags, map each of them to a vector and perform *similarity learning*. This could result in an embedding space where semantic relationships between tags are reflected in the geometry of the corresponding vectors, possibly allowing models to discriminate between them more effectively.\n",
    "\n",
    "* *Hyperparametric optimization*, to squeeze every drop out of our models.\n",
    "\n",
    "Out of all the possible improvements, the one we actually implemented is *sample weighting*, which, given the nature of our data, seemed like the natural choice. However, as we already commented, this solution did not have a visible impact on the metric we adopted to compare our models (F1-macro)."
   ]
  },
  {
   "cell_type": "markdown",
   "metadata": {
    "id": "VRtzPmnKXMyn"
   },
   "source": [
    "# 6 - [BONUS] Tagging Visualization in a Real-World Application\n",
    "The following function is conceived to be used — with some refinements — as part of a website or a dedicated software to show the results produced by our model(s). It prints out text in such a way that each token is color-coded by its POS tag; by hovering the pointer on a word, the corresponding tag is shown alongside its meaning. It also allows to compare the predicted tags with the correct ones, as an additional way to inspect the model output."
   ]
  },
  {
   "cell_type": "code",
   "execution_count": 37,
   "metadata": {
    "executionInfo": {
     "elapsed": 4,
     "status": "ok",
     "timestamp": 1639661734972,
     "user": {
      "displayName": "Francesco Ballerini",
      "photoUrl": "https://lh3.googleusercontent.com/a-/AOh14Gg-R7R-HjBq_dn0hwuUoDXC2RwAVd1JXz6dReMZ3g=s64",
      "userId": "00684324433983888967"
     },
     "user_tz": -60
    },
    "id": "ASiQ83DNXMyn"
   },
   "outputs": [],
   "source": [
    "from collections import defaultdict\n",
    "# Define a mapping between common POS tags, their meaning and some colors\n",
    "tag_map = {\n",
    "    'CC': ('Coordin. Conjunction', '#c18401'),\n",
    "    'TO': ('“to”', '#c18401'),\n",
    "    'DT': ('Determiner', '#c18401'),\n",
    "    'UH': ('Interjection', '#c18401'),\n",
    "    'EX': ('Existential \"there\"', '#c18401'),\n",
    "    'MD': ('Modal can', '#c18401'),\n",
    "    'LS': ('List item marker', '#c18401'),\n",
    "    'IN': ('Preposition/sub-conj', '#c18401'),\n",
    "    'CD': ('Cardinal number', '#282828'),\n",
    "    'FW': ('Foreign word', '#282828'),\n",
    "    'NN': ('Noun, singular', '#282828'),\n",
    "    'NNS': ('Noun, plural', '#282828'),\n",
    "    'NNP': ('Proper noun, singular', '#282828'),\n",
    "    'NNPS': ('Proper noun, plural', '#282828'),\n",
    "    'JJ': ('Adjective', '#50a14f'),\n",
    "    'JJR': ('Adj. comparative ', '#50a14f'),\n",
    "    'JJS': ('Adj. superlative ', '#50a14f'),\n",
    "    'VB': ('Verb, base form', '#e45649'),\n",
    "    'VBD': ('Verb, past tense ', '#e45649'),\n",
    "    'VBG': ('Verb, gerund ', '#e45649'),\n",
    "    'VBN': ('Verb, past particip. ', '#e45649'),\n",
    "    'VBP': ('Verb, non-3sg pres', '#e45649'),\n",
    "    'VBZ': ('Verb, 3sg pres ', '#e45649'),\n",
    "    'WDT': ('Wh-determiner', '#4078f2'),\n",
    "    'WP': ('Wh-pronoun', '#4078f2'),\n",
    "    'WP$': (' Possessive wh-', '#4078f2'),\n",
    "    'WRB': ('Wh-adverb how', '#4078f2'),\n",
    "    'PDT': ('Predeterminer ', '#4078f2'),\n",
    "    'POS': ('Possessive ending', '#4078f2'),\n",
    "    'PP': ('Personal pronoun', '#4078f2'),\n",
    "    'PP$': (' Possessive pronoun ', '#4078f2'),\n",
    "    'RB': ('Adverb', '#a626a4'),\n",
    "    'RBR': ('Adverb, comparative', '#a626a4'),\n",
    "    'RBS': ('Adverb, superlative', '#a626a4'),\n",
    "    'RP': ('Particle', '#a626a4'),\n",
    "}\n",
    "tag_map = defaultdict(lambda: ('', '#282828'), tag_map)\n",
    "\n",
    "\n",
    "def display_pos_tagging(tokens: pd.Series,\n",
    "                        predicted_tags: pd.Series,\n",
    "                        correct_tags: pd.Series = None,\n",
    "                        limit=1000):\n",
    "    # If no correct tags are passed, we ignore the \"error highlighting\"\n",
    "    if correct_tags is None:\n",
    "        correct_tags = predicted_tags\n",
    "\n",
    "    # Limit the inputs\n",
    "    tokens = tokens[:limit]\n",
    "    predicted_tags = predicted_tags[:limit]\n",
    "    correct_tags = correct_tags[:limit]\n",
    "\n",
    "    # Iterate through tokens and tags, generating styled HTML based on the tags\n",
    "    html_sequence = []\n",
    "    for token, tag, correct in zip(tokens, predicted_tags, correct_tags):\n",
    "        tag_meaning = tag_map[tag][0]\n",
    "        err = 'pos-error' if tag != correct else ''\n",
    "        c = f'/{correct}' if tag != correct else ''\n",
    "        h = f'<div class=\"token {tag} {err}\">{token} <span class=\"tag\">[{tag}{c}] {tag_meaning}</span></div>'\n",
    "\n",
    "        if tag == '.':\n",
    "            h += '</li><li>'\n",
    "        html_sequence.append(h)\n",
    "    html_body = '<ol class=\"pos-visualizer\"><li>' + ' '.join(html_sequence) + '</ol>'\n",
    "\n",
    "    # Generate the style (WARNING: CSS lies ahead)\n",
    "    html_style = \"\"\"\n",
    "\t<style>\n",
    "\t.pos-visualizer { padding: 32px; background-color: #FEFEFE; border-left:solid 1px grey;}\n",
    "\t.token { position:relative; display:inline-block; font-size:16px;}\n",
    "\t.token .tag { \n",
    "\t\tvisibility:hidden; width: 120px; text-align:center; position:absolute;\n",
    "\t\twidth: 160px; background-color: #282828; color: #fff; border-radius: 6px;\n",
    "\t\tz-index: 1; bottom: 100%; left: 50%; margin-left:-80px; font-size:12px;\n",
    "\t}\n",
    "\t.pos-error { text-decoration: underline solid #F94144;}\n",
    "\t.pos-visualizer li { margin-top:4px }\n",
    "\t.token:hover .tag { visibility:visible }\n",
    "\t\"\"\"\n",
    "    html_style += '\\n'.join(\n",
    "        (f'.{tag} {{color:{tag_map[tag][1]};}}' for tag in predicted_tags.unique()))\n",
    "    html_style += '</style>'\n",
    "\n",
    "    # Display HTML in the cell output\n",
    "    display(HTML(html_style + html_body))"
   ]
  },
  {
   "cell_type": "code",
   "execution_count": 38,
   "metadata": {
    "colab": {
     "base_uri": "https://localhost:8080/",
     "height": 1000
    },
    "executionInfo": {
     "elapsed": 765,
     "status": "ok",
     "timestamp": 1639661735734,
     "user": {
      "displayName": "Francesco Ballerini",
      "photoUrl": "https://lh3.googleusercontent.com/a-/AOh14Gg-R7R-HjBq_dn0hwuUoDXC2RwAVd1JXz6dReMZ3g=s64",
      "userId": "00684324433983888967"
     },
     "user_tz": -60
    },
    "id": "X8cpft_CXMyn",
    "outputId": "ee3ba6b2-cf09-492c-a62c-8adfe45f3a5b"
   },
   "outputs": [
    {
     "data": {
      "text/html": [
       "\n",
       "\t<style>\n",
       "\t.pos-visualizer { padding: 32px; background-color: #FEFEFE; border-left:solid 1px grey;}\n",
       "\t.token { position:relative; display:inline-block; font-size:16px;}\n",
       "\t.token .tag { \n",
       "\t\tvisibility:hidden; width: 120px; text-align:center; position:absolute;\n",
       "\t\twidth: 160px; background-color: #282828; color: #fff; border-radius: 6px;\n",
       "\t\tz-index: 1; bottom: 100%; left: 50%; margin-left:-80px; font-size:12px;\n",
       "\t}\n",
       "\t.pos-error { text-decoration: underline solid #F94144;}\n",
       "\t.pos-visualizer li { margin-top:4px }\n",
       "\t.token:hover .tag { visibility:visible }\n",
       "\t.NNP {color:#282828;}\n",
       "., {color:#282828;}\n",
       ".VBD {color:#e45649;}\n",
       ".PRP {color:#282828;}\n",
       ".CD {color:#282828;}\n",
       ".NNS {color:#282828;}\n",
       ".CC {color:#c18401;}\n",
       ".RB {color:#a626a4;}\n",
       ".NN {color:#282828;}\n",
       ".IN {color:#c18401;}\n",
       ".PRP$ {color:#282828;}\n",
       ".JJ {color:#50a14f;}\n",
       ".DT {color:#c18401;}\n",
       ".$ {color:#282828;}\n",
       ".VBG {color:#e45649;}\n",
       ".. {color:#282828;}\n",
       ".VBZ {color:#e45649;}\n",
       ".POS {color:#4078f2;}\n",
       ".TO {color:#c18401;}\n",
       ".MD {color:#c18401;}\n",
       ".VB {color:#e45649;}\n",
       ".VBP {color:#e45649;}\n",
       ".`` {color:#282828;}\n",
       ".'' {color:#282828;}\n",
       ".WP {color:#4078f2;}\n",
       ".VBN {color:#e45649;}\n",
       ".WDT {color:#4078f2;}\n",
       ".RBR {color:#a626a4;}\n",
       ".JJS {color:#50a14f;}\n",
       ".JJR {color:#50a14f;}\n",
       ".RP {color:#a626a4;}\n",
       ".: {color:#282828;}</style><ol class=\"pos-visualizer\"><li><div class=\"token NNP \">intelogic <span class=\"tag\">[NNP] Proper noun, singular</span></div> <div class=\"token NNP \">trace <span class=\"tag\">[NNP] Proper noun, singular</span></div> <div class=\"token NNP \">inc. <span class=\"tag\">[NNP] Proper noun, singular</span></div> <div class=\"token , \">, <span class=\"tag\">[,] </span></div> <div class=\"token NNP \">san <span class=\"tag\">[NNP] Proper noun, singular</span></div> <div class=\"token NNP \">antonio <span class=\"tag\">[NNP] Proper noun, singular</span></div> <div class=\"token , \">, <span class=\"tag\">[,] </span></div> <div class=\"token NNP \">texas <span class=\"tag\">[NNP] Proper noun, singular</span></div> <div class=\"token , \">, <span class=\"tag\">[,] </span></div> <div class=\"token VBD \">said <span class=\"tag\">[VBD] Verb, past tense </span></div> <div class=\"token PRP \">it <span class=\"tag\">[PRP] </span></div> <div class=\"token VBD \">bought <span class=\"tag\">[VBD] Verb, past tense </span></div> <div class=\"token CD \">2.7 <span class=\"tag\">[CD] Cardinal number</span></div> <div class=\"token CD \">million <span class=\"tag\">[CD] Cardinal number</span></div> <div class=\"token NNS \">shares <span class=\"tag\">[NNS] Noun, plural</span></div> <div class=\"token , \">, <span class=\"tag\">[,] </span></div> <div class=\"token CC \">or <span class=\"tag\">[CC] Coordin. Conjunction</span></div> <div class=\"token RB \">about <span class=\"tag\">[RB] Adverb</span></div> <div class=\"token CD \">18 <span class=\"tag\">[CD] Cardinal number</span></div> <div class=\"token NN \">% <span class=\"tag\">[NN] Noun, singular</span></div> <div class=\"token , \">, <span class=\"tag\">[,] </span></div> <div class=\"token IN \">of <span class=\"tag\">[IN] Preposition/sub-conj</span></div> <div class=\"token PRP$ \">its <span class=\"tag\">[PRP$] </span></div> <div class=\"token JJ \">common <span class=\"tag\">[JJ] Adjective</span></div> <div class=\"token NN \">stock <span class=\"tag\">[NN] Noun, singular</span></div> <div class=\"token IN \">from <span class=\"tag\">[IN] Preposition/sub-conj</span></div> <div class=\"token DT \">an <span class=\"tag\">[DT] Determiner</span></div> <div class=\"token JJ \">unaffiliated <span class=\"tag\">[JJ] Adjective</span></div> <div class=\"token NN \">shareholder <span class=\"tag\">[NN] Noun, singular</span></div> <div class=\"token IN \">for <span class=\"tag\">[IN] Preposition/sub-conj</span></div> <div class=\"token $ \">$ <span class=\"tag\">[$] </span></div> <div class=\"token VBG \">3.625 <span class=\"tag\">[VBG] Verb, gerund </span></div> <div class=\"token DT \">a <span class=\"tag\">[DT] Determiner</span></div> <div class=\"token NN \">share <span class=\"tag\">[NN] Noun, singular</span></div> <div class=\"token , \">, <span class=\"tag\">[,] </span></div> <div class=\"token CC \">or <span class=\"tag\">[CC] Coordin. Conjunction</span></div> <div class=\"token $ \">$ <span class=\"tag\">[$] </span></div> <div class=\"token CD \">9.9 <span class=\"tag\">[CD] Cardinal number</span></div> <div class=\"token CD \">million <span class=\"tag\">[CD] Cardinal number</span></div> <div class=\"token . \">. <span class=\"tag\">[.] </span></div></li><li> <div class=\"token DT \">the <span class=\"tag\">[DT] Determiner</span></div> <div class=\"token NN \">move <span class=\"tag\">[NN] Noun, singular</span></div> <div class=\"token NNP \">boosts <span class=\"tag\">[NNP] Proper noun, singular</span></div> <div class=\"token NNP \">intelogic <span class=\"tag\">[NNP] Proper noun, singular</span></div> <div class=\"token NNP \">chairman <span class=\"tag\">[NNP] Proper noun, singular</span></div> <div class=\"token NNP \">asher <span class=\"tag\">[NNP] Proper noun, singular</span></div> <div class=\"token VBZ \">edelman <span class=\"tag\">[VBZ] Verb, 3sg pres </span></div> <div class=\"token POS \">'s <span class=\"tag\">[POS] Possessive ending</span></div> <div class=\"token NN \">stake <span class=\"tag\">[NN] Noun, singular</span></div> <div class=\"token TO \">to <span class=\"tag\">[TO] “to”</span></div> <div class=\"token CD \">20 <span class=\"tag\">[CD] Cardinal number</span></div> <div class=\"token NN \">% <span class=\"tag\">[NN] Noun, singular</span></div> <div class=\"token IN \">from <span class=\"tag\">[IN] Preposition/sub-conj</span></div> <div class=\"token CD \">16.2 <span class=\"tag\">[CD] Cardinal number</span></div> <div class=\"token NN \">% <span class=\"tag\">[NN] Noun, singular</span></div> <div class=\"token CC \">and <span class=\"tag\">[CC] Coordin. Conjunction</span></div> <div class=\"token MD \">may <span class=\"tag\">[MD] Modal can</span></div> <div class=\"token VB \">help <span class=\"tag\">[VB] Verb, base form</span></div> <div class=\"token VB \">prevent <span class=\"tag\">[VB] Verb, base form</span></div> <div class=\"token NNP \">martin <span class=\"tag\">[NNP] Proper noun, singular</span></div> <div class=\"token NNP \">ackerman <span class=\"tag\">[NNP] Proper noun, singular</span></div> <div class=\"token IN \">from <span class=\"tag\">[IN] Preposition/sub-conj</span></div> <div class=\"token VBG \">making <span class=\"tag\">[VBG] Verb, gerund </span></div> <div class=\"token DT \">a <span class=\"tag\">[DT] Determiner</span></div> <div class=\"token NN \">run <span class=\"tag\">[NN] Noun, singular</span></div> <div class=\"token IN \">at <span class=\"tag\">[IN] Preposition/sub-conj</span></div> <div class=\"token DT \">the <span class=\"tag\">[DT] Determiner</span></div> <div class=\"token JJ \">computer-services <span class=\"tag\">[JJ] Adjective</span></div> <div class=\"token NN \">concern <span class=\"tag\">[NN] Noun, singular</span></div> <div class=\"token . \">. <span class=\"tag\">[.] </span></div></li><li> <div class=\"token NNP \">mr. <span class=\"tag\">[NNP] Proper noun, singular</span></div> <div class=\"token NNP \">ackerman <span class=\"tag\">[NNP] Proper noun, singular</span></div> <div class=\"token RB \">already <span class=\"tag\">[RB] Adverb</span></div> <div class=\"token VBZ \">is <span class=\"tag\">[VBZ] Verb, 3sg pres </span></div> <div class=\"token VBG \">seeking <span class=\"tag\">[VBG] Verb, gerund </span></div> <div class=\"token TO \">to <span class=\"tag\">[TO] “to”</span></div> <div class=\"token VB \">oust <span class=\"tag\">[VB] Verb, base form</span></div> <div class=\"token NNP \">mr. <span class=\"tag\">[NNP] Proper noun, singular</span></div> <div class=\"token NNP \">edelman <span class=\"tag\">[NNP] Proper noun, singular</span></div> <div class=\"token IN \">as <span class=\"tag\">[IN] Preposition/sub-conj</span></div> <div class=\"token NN \">chairman <span class=\"tag\">[NN] Noun, singular</span></div> <div class=\"token IN \">of <span class=\"tag\">[IN] Preposition/sub-conj</span></div> <div class=\"token NNP \">datapoint <span class=\"tag\">[NNP] Proper noun, singular</span></div> <div class=\"token NNP \">corp. <span class=\"tag\">[NNP] Proper noun, singular</span></div> <div class=\"token , \">, <span class=\"tag\">[,] </span></div> <div class=\"token DT \">an <span class=\"tag\">[DT] Determiner</span></div> <div class=\"token NN \">intelogic <span class=\"tag\">[NN] Noun, singular</span></div> <div class=\"token NN \">affiliate <span class=\"tag\">[NN] Noun, singular</span></div> <div class=\"token . \">. <span class=\"tag\">[.] </span></div></li><li> <div class=\"token DT \">the <span class=\"tag\">[DT] Determiner</span></div> <div class=\"token NN \">action <span class=\"tag\">[NN] Noun, singular</span></div> <div class=\"token VBD \">followed <span class=\"tag\">[VBD] Verb, past tense </span></div> <div class=\"token IN \">by <span class=\"tag\">[IN] Preposition/sub-conj</span></div> <div class=\"token CD \">one <span class=\"tag\">[CD] Cardinal number</span></div> <div class=\"token NN \">day <span class=\"tag\">[NN] Noun, singular</span></div> <div class=\"token VBZ \">an <span class=\"tag\">[VBZ] Verb, 3sg pres </span></div> <div class=\"token JJ \">intelogic <span class=\"tag\">[JJ] Adjective</span></div> <div class=\"token NN \">announcement <span class=\"tag\">[NN] Noun, singular</span></div> <div class=\"token IN \">that <span class=\"tag\">[IN] Preposition/sub-conj</span></div> <div class=\"token PRP \">it <span class=\"tag\">[PRP] </span></div> <div class=\"token MD \">will <span class=\"tag\">[MD] Modal can</span></div> <div class=\"token VB \">retain <span class=\"tag\">[VB] Verb, base form</span></div> <div class=\"token DT \">an <span class=\"tag\">[DT] Determiner</span></div> <div class=\"token NN \">investment <span class=\"tag\">[NN] Noun, singular</span></div> <div class=\"token NN \">banker <span class=\"tag\">[NN] Noun, singular</span></div> <div class=\"token TO \">to <span class=\"tag\">[TO] “to”</span></div> <div class=\"token VB \">explore <span class=\"tag\">[VB] Verb, base form</span></div> <div class=\"token VBP \">alternatives <span class=\"tag\">[VBP] Verb, non-3sg pres</span></div> <div class=\"token `` \">`` <span class=\"tag\">[``] </span></div> <div class=\"token TO \">to <span class=\"tag\">[TO] “to”</span></div> <div class=\"token VB \">maximize <span class=\"tag\">[VB] Verb, base form</span></div> <div class=\"token NN \">shareholder <span class=\"tag\">[NN] Noun, singular</span></div> <div class=\"token NN \">value <span class=\"tag\">[NN] Noun, singular</span></div> <div class=\"token , \">, <span class=\"tag\">[,] </span></div> <div class=\"token '' \">'' <span class=\"tag\">[''] </span></div> <div class=\"token VBG \">including <span class=\"tag\">[VBG] Verb, gerund </span></div> <div class=\"token DT \">the <span class=\"tag\">[DT] Determiner</span></div> <div class=\"token JJ \">possible <span class=\"tag\">[JJ] Adjective</span></div> <div class=\"token NN \">sale <span class=\"tag\">[NN] Noun, singular</span></div> <div class=\"token IN \">of <span class=\"tag\">[IN] Preposition/sub-conj</span></div> <div class=\"token DT \">the <span class=\"tag\">[DT] Determiner</span></div> <div class=\"token NN \">company <span class=\"tag\">[NN] Noun, singular</span></div> <div class=\"token . \">. <span class=\"tag\">[.] </span></div></li><li> <div class=\"token IN \">in <span class=\"tag\">[IN] Preposition/sub-conj</span></div> <div class=\"token NNP \">new <span class=\"tag\">[NNP] Proper noun, singular</span></div> <div class=\"token NNP \">york <span class=\"tag\">[NNP] Proper noun, singular</span></div> <div class=\"token NNP \">stock <span class=\"tag\">[NNP] Proper noun, singular</span></div> <div class=\"token NNP \">exchange <span class=\"tag\">[NNP] Proper noun, singular</span></div> <div class=\"token JJ \">composite <span class=\"tag\">[JJ] Adjective</span></div> <div class=\"token NN \">trading <span class=\"tag\">[NN] Noun, singular</span></div> <div class=\"token NN \">yesterday <span class=\"tag\">[NN] Noun, singular</span></div> <div class=\"token , \">, <span class=\"tag\">[,] </span></div> <div class=\"token NNP \">intelogic <span class=\"tag\">[NNP] Proper noun, singular</span></div> <div class=\"token NNS \">shares <span class=\"tag\">[NNS] Noun, plural</span></div> <div class=\"token VBD \">rose <span class=\"tag\">[VBD] Verb, past tense </span></div> <div class=\"token CD \">37.5 <span class=\"tag\">[CD] Cardinal number</span></div> <div class=\"token NNS \">cents <span class=\"tag\">[NNS] Noun, plural</span></div> <div class=\"token TO \">to <span class=\"tag\">[TO] “to”</span></div> <div class=\"token VB \">close <span class=\"tag\">[VB] Verb, base form</span></div> <div class=\"token IN \">at <span class=\"tag\">[IN] Preposition/sub-conj</span></div> <div class=\"token $ \">$ <span class=\"tag\">[$] </span></div> <div class=\"token CD \">2.75 <span class=\"tag\">[CD] Cardinal number</span></div> <div class=\"token . \">. <span class=\"tag\">[.] </span></div></li><li> <div class=\"token NNP \">mr. <span class=\"tag\">[NNP] Proper noun, singular</span></div> <div class=\"token NNP \">edelman <span class=\"tag\">[NNP] Proper noun, singular</span></div> <div class=\"token VBD \">declined <span class=\"tag\">[VBD] Verb, past tense </span></div> <div class=\"token TO \">to <span class=\"tag\">[TO] “to”</span></div> <div class=\"token VB \">specify <span class=\"tag\">[VB] Verb, base form</span></div> <div class=\"token WP \">what <span class=\"tag\">[WP] Wh-pronoun</span></div> <div class=\"token VBD \">prompted <span class=\"tag\">[VBD] Verb, past tense </span></div> <div class=\"token DT \">the <span class=\"tag\">[DT] Determiner</span></div> <div class=\"token JJ \">recent <span class=\"tag\">[JJ] Adjective</span></div> <div class=\"token NN \">moves <span class=\"tag\">[NN] Noun, singular</span></div> <div class=\"token , \">, <span class=\"tag\">[,] </span></div> <div class=\"token VBG \">saying <span class=\"tag\">[VBG] Verb, gerund </span></div> <div class=\"token PRP \">they <span class=\"tag\">[PRP] </span></div> <div class=\"token VBP \">are <span class=\"tag\">[VBP] Verb, non-3sg pres</span></div> <div class=\"token VBG \">meant <span class=\"tag\">[VBG] Verb, gerund </span></div> <div class=\"token RB \">only <span class=\"tag\">[RB] Adverb</span></div> <div class=\"token TO \">to <span class=\"tag\">[TO] “to”</span></div> <div class=\"token VB \">benefit <span class=\"tag\">[VB] Verb, base form</span></div> <div class=\"token NNS \">shareholders <span class=\"tag\">[NNS] Noun, plural</span></div> <div class=\"token RB \">when <span class=\"tag\">[RB] Adverb</span></div> <div class=\"token `` \">`` <span class=\"tag\">[``] </span></div> <div class=\"token DT \">the <span class=\"tag\">[DT] Determiner</span></div> <div class=\"token NN \">company <span class=\"tag\">[NN] Noun, singular</span></div> <div class=\"token VBZ \">is <span class=\"tag\">[VBZ] Verb, 3sg pres </span></div> <div class=\"token IN \">on <span class=\"tag\">[IN] Preposition/sub-conj</span></div> <div class=\"token DT \">a <span class=\"tag\">[DT] Determiner</span></div> <div class=\"token NN \">roll <span class=\"tag\">[NN] Noun, singular</span></div> <div class=\"token . \">. <span class=\"tag\">[.] </span></div></li><li> <div class=\"token '' \">'' <span class=\"tag\">[''] </span></div> <div class=\"token PRP \">he <span class=\"tag\">[PRP] </span></div> <div class=\"token VBD \">added <span class=\"tag\">[VBD] Verb, past tense </span></div> <div class=\"token , \">, <span class=\"tag\">[,] </span></div> <div class=\"token `` \">`` <span class=\"tag\">[``] </span></div> <div class=\"token DT \">this <span class=\"tag\">[DT] Determiner</span></div> <div class=\"token VBZ \">has <span class=\"tag\">[VBZ] Verb, 3sg pres </span></div> <div class=\"token JJ \">nothing <span class=\"tag\">[JJ] Adjective</span></div> <div class=\"token TO \">to <span class=\"tag\">[TO] “to”</span></div> <div class=\"token VB \">do <span class=\"tag\">[VB] Verb, base form</span></div> <div class=\"token IN \">with <span class=\"tag\">[IN] Preposition/sub-conj</span></div> <div class=\"token NNP \">marty <span class=\"tag\">[NNP] Proper noun, singular</span></div> <div class=\"token NNP \">ackerman <span class=\"tag\">[NNP] Proper noun, singular</span></div> <div class=\"token CC \">and <span class=\"tag\">[CC] Coordin. Conjunction</span></div> <div class=\"token PRP \">it <span class=\"tag\">[PRP] </span></div> <div class=\"token VBZ \">is <span class=\"tag\">[VBZ] Verb, 3sg pres </span></div> <div class=\"token RB \">not <span class=\"tag\">[RB] Adverb</span></div> <div class=\"token VBN \">designed <span class=\"tag\">[VBN] Verb, past particip. </span></div> <div class=\"token , \">, <span class=\"tag\">[,] </span></div> <div class=\"token RB \">particularly <span class=\"tag\">[RB] Adverb</span></div> <div class=\"token , \">, <span class=\"tag\">[,] </span></div> <div class=\"token TO \">to <span class=\"tag\">[TO] “to”</span></div> <div class=\"token VB \">take <span class=\"tag\">[VB] Verb, base form</span></div> <div class=\"token DT \">the <span class=\"tag\">[DT] Determiner</span></div> <div class=\"token NN \">company <span class=\"tag\">[NN] Noun, singular</span></div> <div class=\"token JJ \">private <span class=\"tag\">[JJ] Adjective</span></div> <div class=\"token . \">. <span class=\"tag\">[.] </span></div></li><li> <div class=\"token '' \">'' <span class=\"tag\">[''] </span></div> <div class=\"token CC \">but <span class=\"tag\">[CC] Coordin. Conjunction</span></div> <div class=\"token NNP \">mr. <span class=\"tag\">[NNP] Proper noun, singular</span></div> <div class=\"token NNP \">ackerman <span class=\"tag\">[NNP] Proper noun, singular</span></div> <div class=\"token VBD \">said <span class=\"tag\">[VBD] Verb, past tense </span></div> <div class=\"token DT \">the <span class=\"tag\">[DT] Determiner</span></div> <div class=\"token NN \">buy-back <span class=\"tag\">[NN] Noun, singular</span></div> <div class=\"token , \">, <span class=\"tag\">[,] </span></div> <div class=\"token CC \">and <span class=\"tag\">[CC] Coordin. Conjunction</span></div> <div class=\"token DT \">the <span class=\"tag\">[DT] Determiner</span></div> <div class=\"token JJ \">above-market <span class=\"tag\">[JJ] Adjective</span></div> <div class=\"token NN \">price <span class=\"tag\">[NN] Noun, singular</span></div> <div class=\"token NN \">paid <span class=\"tag\">[NN] Noun, singular</span></div> <div class=\"token , \">, <span class=\"tag\">[,] </span></div> <div class=\"token VBG \">prove <span class=\"tag\">[VBG] Verb, gerund </span></div> <div class=\"token IN \">that <span class=\"tag\">[IN] Preposition/sub-conj</span></div> <div class=\"token NNP \">mr. <span class=\"tag\">[NNP] Proper noun, singular</span></div> <div class=\"token NNP \">edelman <span class=\"tag\">[NNP] Proper noun, singular</span></div> <div class=\"token VBZ \">is <span class=\"tag\">[VBZ] Verb, 3sg pres </span></div> <div class=\"token VBG \">running <span class=\"tag\">[VBG] Verb, gerund </span></div> <div class=\"token JJ \">scared <span class=\"tag\">[JJ] Adjective</span></div> <div class=\"token . \">. <span class=\"tag\">[.] </span></div></li><li> <div class=\"token NNP \">dow <span class=\"tag\">[NNP] Proper noun, singular</span></div> <div class=\"token NNP \">jones <span class=\"tag\">[NNP] Proper noun, singular</span></div> <div class=\"token CC \">& <span class=\"tag\">[CC] Coordin. Conjunction</span></div> <div class=\"token NNP \">co. <span class=\"tag\">[NNP] Proper noun, singular</span></div> <div class=\"token VBD \">said <span class=\"tag\">[VBD] Verb, past tense </span></div> <div class=\"token PRP \">it <span class=\"tag\">[PRP] </span></div> <div class=\"token VBD \">extended <span class=\"tag\">[VBD] Verb, past tense </span></div> <div class=\"token PRP$ \">its <span class=\"tag\">[PRP$] </span></div> <div class=\"token $ \">$ <span class=\"tag\">[$] </span></div> <div class=\"token CD \">18-a-share <span class=\"tag\">[CD] Cardinal number</span></div> <div class=\"token NN \">offer <span class=\"tag\">[NN] Noun, singular</span></div> <div class=\"token IN \">for <span class=\"tag\">[IN] Preposition/sub-conj</span></div> <div class=\"token VBG \">telerate <span class=\"tag\">[VBG] Verb, gerund </span></div> <div class=\"token NNP \">inc. <span class=\"tag\">[NNP] Proper noun, singular</span></div> <div class=\"token NNP \">common <span class=\"tag\">[NNP] Proper noun, singular</span></div> <div class=\"token NN \">stock <span class=\"tag\">[NN] Noun, singular</span></div> <div class=\"token IN \">until <span class=\"tag\">[IN] Preposition/sub-conj</span></div> <div class=\"token CD \">5 <span class=\"tag\">[CD] Cardinal number</span></div> <div class=\"token NN \">p.m. <span class=\"tag\">[NN] Noun, singular</span></div> <div class=\"token NN \">est <span class=\"tag\">[NN] Noun, singular</span></div> <div class=\"token NNP \">nov. <span class=\"tag\">[NNP] Proper noun, singular</span></div> <div class=\"token CD \">9 <span class=\"tag\">[CD] Cardinal number</span></div> <div class=\"token . \">. <span class=\"tag\">[.] </span></div></li><li> <div class=\"token DT \">the <span class=\"tag\">[DT] Determiner</span></div> <div class=\"token NN \">offer <span class=\"tag\">[NN] Noun, singular</span></div> <div class=\"token , \">, <span class=\"tag\">[,] </span></div> <div class=\"token VBN \">valued <span class=\"tag\">[VBN] Verb, past particip. </span></div> <div class=\"token IN \">at <span class=\"tag\">[IN] Preposition/sub-conj</span></div> <div class=\"token IN \">about <span class=\"tag\">[IN] Preposition/sub-conj</span></div> <div class=\"token $ \">$ <span class=\"tag\">[$] </span></div> <div class=\"token CD \">576 <span class=\"tag\">[CD] Cardinal number</span></div> <div class=\"token CD \">million <span class=\"tag\">[CD] Cardinal number</span></div> <div class=\"token IN \">for <span class=\"tag\">[IN] Preposition/sub-conj</span></div> <div class=\"token DT \">the <span class=\"tag\">[DT] Determiner</span></div> <div class=\"token CD \">33 <span class=\"tag\">[CD] Cardinal number</span></div> <div class=\"token NN \">% <span class=\"tag\">[NN] Noun, singular</span></div> <div class=\"token IN \">of <span class=\"tag\">[IN] Preposition/sub-conj</span></div> <div class=\"token NNP \">telerate <span class=\"tag\">[NNP] Proper noun, singular</span></div> <div class=\"token IN \">that <span class=\"tag\">[IN] Preposition/sub-conj</span></div> <div class=\"token NNP \">dow <span class=\"tag\">[NNP] Proper noun, singular</span></div> <div class=\"token NNP \">jones <span class=\"tag\">[NNP] Proper noun, singular</span></div> <div class=\"token VBZ \">does <span class=\"tag\">[VBZ] Verb, 3sg pres </span></div> <div class=\"token RB \">n't <span class=\"tag\">[RB] Adverb</span></div> <div class=\"token RB \">already <span class=\"tag\">[RB] Adverb</span></div> <div class=\"token PRP$ \">own <span class=\"tag\">[PRP$] </span></div> <div class=\"token , \">, <span class=\"tag\">[,] </span></div> <div class=\"token VBD \">had <span class=\"tag\">[VBD] Verb, past tense </span></div> <div class=\"token VBN \">been <span class=\"tag\">[VBN] Verb, past particip. </span></div> <div class=\"token VBN \">set <span class=\"tag\">[VBN] Verb, past particip. </span></div> <div class=\"token TO \">to <span class=\"tag\">[TO] “to”</span></div> <div class=\"token VB \">expire <span class=\"tag\">[VB] Verb, base form</span></div> <div class=\"token NNP \">nov. <span class=\"tag\">[NNP] Proper noun, singular</span></div> <div class=\"token CD \">6 <span class=\"tag\">[CD] Cardinal number</span></div> <div class=\"token . \">. <span class=\"tag\">[.] </span></div></li><li> <div class=\"token NNP \">dow <span class=\"tag\">[NNP] Proper noun, singular</span></div> <div class=\"token NNP \">jones <span class=\"tag\">[NNP] Proper noun, singular</span></div> <div class=\"token , \">, <span class=\"tag\">[,] </span></div> <div class=\"token WDT \">which <span class=\"tag\">[WDT] Wh-determiner</span></div> <div class=\"token VBZ \">owns <span class=\"tag\">[VBZ] Verb, 3sg pres </span></div> <div class=\"token IN \">about <span class=\"tag\">[IN] Preposition/sub-conj</span></div> <div class=\"token CD \">64 <span class=\"tag\">[CD] Cardinal number</span></div> <div class=\"token CD \">million <span class=\"tag\">[CD] Cardinal number</span></div> <div class=\"token IN \">of <span class=\"tag\">[IN] Preposition/sub-conj</span></div> <div class=\"token NN \">telerate <span class=\"tag\">[NN] Noun, singular</span></div> <div class=\"token POS \">'s <span class=\"tag\">[POS] Possessive ending</span></div> <div class=\"token CD \">95 <span class=\"tag\">[CD] Cardinal number</span></div> <div class=\"token CD \">million <span class=\"tag\">[CD] Cardinal number</span></div> <div class=\"token JJ \">common <span class=\"tag\">[JJ] Adjective</span></div> <div class=\"token NNS \">shares <span class=\"tag\">[NNS] Noun, plural</span></div> <div class=\"token CD \">outstanding <span class=\"tag\">[CD] Cardinal number</span></div> <div class=\"token , \">, <span class=\"tag\">[,] </span></div> <div class=\"token VBD \">said <span class=\"tag\">[VBD] Verb, past tense </span></div> <div class=\"token IN \">that <span class=\"tag\">[IN] Preposition/sub-conj</span></div> <div class=\"token IN \">about <span class=\"tag\">[IN] Preposition/sub-conj</span></div> <div class=\"token CD \">24,000 <span class=\"tag\">[CD] Cardinal number</span></div> <div class=\"token NNS \">shares <span class=\"tag\">[NNS] Noun, plural</span></div> <div class=\"token VBP \">have <span class=\"tag\">[VBP] Verb, non-3sg pres</span></div> <div class=\"token VBG \">been <span class=\"tag\">[VBG] Verb, gerund </span></div> <div class=\"token VBN \">tendered <span class=\"tag\">[VBN] Verb, past particip. </span></div> <div class=\"token IN \">under <span class=\"tag\">[IN] Preposition/sub-conj</span></div> <div class=\"token PRP$ \">its <span class=\"tag\">[PRP$] </span></div> <div class=\"token NN \">offer <span class=\"tag\">[NN] Noun, singular</span></div> <div class=\"token . \">. <span class=\"tag\">[.] </span></div></li><li> <div class=\"token NNP \">telerate <span class=\"tag\">[NNP] Proper noun, singular</span></div> <div class=\"token POS \">'s <span class=\"tag\">[POS] Possessive ending</span></div> <div class=\"token CD \">two <span class=\"tag\">[CD] Cardinal number</span></div> <div class=\"token JJ \">independent <span class=\"tag\">[JJ] Adjective</span></div> <div class=\"token NNS \">directors <span class=\"tag\">[NNS] Noun, plural</span></div> <div class=\"token VBP \">have <span class=\"tag\">[VBP] Verb, non-3sg pres</span></div> <div class=\"token VBN \">rejected <span class=\"tag\">[VBN] Verb, past particip. </span></div> <div class=\"token DT \">the <span class=\"tag\">[DT] Determiner</span></div> <div class=\"token NN \">offer <span class=\"tag\">[NN] Noun, singular</span></div> <div class=\"token RB \">as <span class=\"tag\">[RB] Adverb</span></div> <div class=\"token JJ \">inadequate <span class=\"tag\">[JJ] Adjective</span></div> <div class=\"token . \">. <span class=\"tag\">[.] </span></div></li><li> <div class=\"token IN \">in <span class=\"tag\">[IN] Preposition/sub-conj</span></div> <div class=\"token JJ \">composite <span class=\"tag\">[JJ] Adjective</span></div> <div class=\"token NN \">trading <span class=\"tag\">[NN] Noun, singular</span></div> <div class=\"token IN \">on <span class=\"tag\">[IN] Preposition/sub-conj</span></div> <div class=\"token DT \">the <span class=\"tag\">[DT] Determiner</span></div> <div class=\"token NNP \">new <span class=\"tag\">[NNP] Proper noun, singular</span></div> <div class=\"token NNP \">york <span class=\"tag\">[NNP] Proper noun, singular</span></div> <div class=\"token NNP \">stock <span class=\"tag\">[NNP] Proper noun, singular</span></div> <div class=\"token NNP \">exchange <span class=\"tag\">[NNP] Proper noun, singular</span></div> <div class=\"token , \">, <span class=\"tag\">[,] </span></div> <div class=\"token NNP \">telerate <span class=\"tag\">[NNP] Proper noun, singular</span></div> <div class=\"token NN \">shares <span class=\"tag\">[NN] Noun, singular</span></div> <div class=\"token VBD \">closed <span class=\"tag\">[VBD] Verb, past tense </span></div> <div class=\"token IN \">at <span class=\"tag\">[IN] Preposition/sub-conj</span></div> <div class=\"token $ \">$ <span class=\"tag\">[$] </span></div> <div class=\"token CD \">19.50 <span class=\"tag\">[CD] Cardinal number</span></div> <div class=\"token , \">, <span class=\"tag\">[,] </span></div> <div class=\"token RB \">up <span class=\"tag\">[RB] Adverb</span></div> <div class=\"token CD \">12.5 <span class=\"tag\">[CD] Cardinal number</span></div> <div class=\"token NNS \">cents <span class=\"tag\">[NNS] Noun, plural</span></div> <div class=\"token . \">. <span class=\"tag\">[.] </span></div></li><li> <div class=\"token NNP \">telerate <span class=\"tag\">[NNP] Proper noun, singular</span></div> <div class=\"token NNP \">provides <span class=\"tag\">[NNP] Proper noun, singular</span></div> <div class=\"token DT \">an <span class=\"tag\">[DT] Determiner</span></div> <div class=\"token JJ \">electronic <span class=\"tag\">[JJ] Adjective</span></div> <div class=\"token NN \">financial <span class=\"tag\">[NN] Noun, singular</span></div> <div class=\"token NN \">information <span class=\"tag\">[NN] Noun, singular</span></div> <div class=\"token NN \">network <span class=\"tag\">[NN] Noun, singular</span></div> <div class=\"token . \">. <span class=\"tag\">[.] </span></div></li><li> <div class=\"token NNP \">dow <span class=\"tag\">[NNP] Proper noun, singular</span></div> <div class=\"token NNP \">jones <span class=\"tag\">[NNP] Proper noun, singular</span></div> <div class=\"token NNP \">publishes <span class=\"tag\">[NNP] Proper noun, singular</span></div> <div class=\"token DT \">the <span class=\"tag\">[DT] Determiner</span></div> <div class=\"token NNP \">wall <span class=\"tag\">[NNP] Proper noun, singular</span></div> <div class=\"token NNP \">street <span class=\"tag\">[NNP] Proper noun, singular</span></div> <div class=\"token NNP \">journal <span class=\"tag\">[NNP] Proper noun, singular</span></div> <div class=\"token , \">, <span class=\"tag\">[,] </span></div> <div class=\"token NNP \">barron <span class=\"tag\">[NNP] Proper noun, singular</span></div> <div class=\"token POS \">'s <span class=\"tag\">[POS] Possessive ending</span></div> <div class=\"token NN \">magazine <span class=\"tag\">[NN] Noun, singular</span></div> <div class=\"token , \">, <span class=\"tag\">[,] </span></div> <div class=\"token CC \">and <span class=\"tag\">[CC] Coordin. Conjunction</span></div> <div class=\"token NNP \">community <span class=\"tag\">[NNP] Proper noun, singular</span></div> <div class=\"token NNP \">newspapers <span class=\"tag\">[NNP] Proper noun, singular</span></div> <div class=\"token CC \">and <span class=\"tag\">[CC] Coordin. Conjunction</span></div> <div class=\"token NNP \">operates <span class=\"tag\">[NNP] Proper noun, singular</span></div> <div class=\"token JJ \">financial <span class=\"tag\">[JJ] Adjective</span></div> <div class=\"token NNP \">news <span class=\"tag\">[NNP] Proper noun, singular</span></div> <div class=\"token NNS \">services <span class=\"tag\">[NNS] Noun, plural</span></div> <div class=\"token CC \">and <span class=\"tag\">[CC] Coordin. Conjunction</span></div> <div class=\"token NN \">computer <span class=\"tag\">[NN] Noun, singular</span></div> <div class=\"token NNS \">data <span class=\"tag\">[NNS] Noun, plural</span></div> <div class=\"token NNS \">bases <span class=\"tag\">[NNS] Noun, plural</span></div> <div class=\"token . \">. <span class=\"tag\">[.] </span></div></li><li> <div class=\"token NNP \">rockwell <span class=\"tag\">[NNP] Proper noun, singular</span></div> <div class=\"token NNP \">international <span class=\"tag\">[NNP] Proper noun, singular</span></div> <div class=\"token NNP \">corp. <span class=\"tag\">[NNP] Proper noun, singular</span></div> <div class=\"token VBD \">reported <span class=\"tag\">[VBD] Verb, past tense </span></div> <div class=\"token JJ \">flat <span class=\"tag\">[JJ] Adjective</span></div> <div class=\"token JJ \">operating <span class=\"tag\">[JJ] Adjective</span></div> <div class=\"token NNS \">earnings <span class=\"tag\">[NNS] Noun, plural</span></div> <div class=\"token IN \">for <span class=\"tag\">[IN] Preposition/sub-conj</span></div> <div class=\"token DT \">the <span class=\"tag\">[DT] Determiner</span></div> <div class=\"token JJ \">fourth <span class=\"tag\">[JJ] Adjective</span></div> <div class=\"token NN \">quarter <span class=\"tag\">[NN] Noun, singular</span></div> <div class=\"token VBD \">ended <span class=\"tag\">[VBD] Verb, past tense </span></div> <div class=\"token NNP \">sept. <span class=\"tag\">[NNP] Proper noun, singular</span></div> <div class=\"token CD \">30 <span class=\"tag\">[CD] Cardinal number</span></div> <div class=\"token . \">. <span class=\"tag\">[.] </span></div></li><li> <div class=\"token DT \">the <span class=\"tag\">[DT] Determiner</span></div> <div class=\"token NN \">aerospace <span class=\"tag\">[NN] Noun, singular</span></div> <div class=\"token , \">, <span class=\"tag\">[,] </span></div> <div class=\"token JJ \">automotive <span class=\"tag\">[JJ] Adjective</span></div> <div class=\"token NN \">supply <span class=\"tag\">[NN] Noun, singular</span></div> <div class=\"token , \">, <span class=\"tag\">[,] </span></div> <div class=\"token NNS \">electronics <span class=\"tag\">[NNS] Noun, plural</span></div> <div class=\"token CC \">and <span class=\"tag\">[CC] Coordin. Conjunction</span></div> <div class=\"token JJ \">printing-press <span class=\"tag\">[JJ] Adjective</span></div> <div class=\"token NNS \">concern <span class=\"tag\">[NNS] Noun, plural</span></div> <div class=\"token RB \">also <span class=\"tag\">[RB] Adverb</span></div> <div class=\"token VBD \">indicated <span class=\"tag\">[VBD] Verb, past tense </span></div> <div class=\"token IN \">that <span class=\"tag\">[IN] Preposition/sub-conj</span></div> <div class=\"token DT \">the <span class=\"tag\">[DT] Determiner</span></div> <div class=\"token JJ \">first <span class=\"tag\">[JJ] Adjective</span></div> <div class=\"token NN \">half <span class=\"tag\">[NN] Noun, singular</span></div> <div class=\"token IN \">of <span class=\"tag\">[IN] Preposition/sub-conj</span></div> <div class=\"token NN \">fiscal <span class=\"tag\">[NN] Noun, singular</span></div> <div class=\"token CD \">1990 <span class=\"tag\">[CD] Cardinal number</span></div> <div class=\"token MD \">could <span class=\"tag\">[MD] Modal can</span></div> <div class=\"token VB \">be <span class=\"tag\">[VB] Verb, base form</span></div> <div class=\"token JJ \">rough <span class=\"tag\">[JJ] Adjective</span></div> <div class=\"token . \">. <span class=\"tag\">[.] </span></div></li><li> <div class=\"token IN \">in <span class=\"tag\">[IN] Preposition/sub-conj</span></div> <div class=\"token DT \">an <span class=\"tag\">[DT] Determiner</span></div> <div class=\"token NN \">interview <span class=\"tag\">[NN] Noun, singular</span></div> <div class=\"token , \">, <span class=\"tag\">[,] </span></div> <div class=\"token NNP \">donald <span class=\"tag\">[NNP] Proper noun, singular</span></div> <div class=\"token NNP \">beall <span class=\"tag\">[NNP] Proper noun, singular</span></div> <div class=\"token , \">, <span class=\"tag\">[,] </span></div> <div class=\"token NN \">chairman <span class=\"tag\">[NN] Noun, singular</span></div> <div class=\"token , \">, <span class=\"tag\">[,] </span></div> <div class=\"token VBD \">said <span class=\"tag\">[VBD] Verb, past tense </span></div> <div class=\"token JJ \">first-half <span class=\"tag\">[JJ] Adjective</span></div> <div class=\"token NN \">profit <span class=\"tag\">[NN] Noun, singular</span></div> <div class=\"token VBP \">certainly <span class=\"tag\">[VBP] Verb, non-3sg pres</span></div> <div class=\"token MD \">would <span class=\"tag\">[MD] Modal can</span></div> <div class=\"token VB \">trail <span class=\"tag\">[VB] Verb, base form</span></div> <div class=\"token DT \">the <span class=\"tag\">[DT] Determiner</span></div> <div class=\"token JJ \">past <span class=\"tag\">[JJ] Adjective</span></div> <div class=\"token NN \">year <span class=\"tag\">[NN] Noun, singular</span></div> <div class=\"token POS \">'s <span class=\"tag\">[POS] Possessive ending</span></div> <div class=\"token , \">, <span class=\"tag\">[,] </span></div> <div class=\"token RB \">primarily <span class=\"tag\">[RB] Adverb</span></div> <div class=\"token IN \">because <span class=\"tag\">[IN] Preposition/sub-conj</span></div> <div class=\"token IN \">of <span class=\"tag\">[IN] Preposition/sub-conj</span></div> <div class=\"token NN \">weakness <span class=\"tag\">[NN] Noun, singular</span></div> <div class=\"token IN \">in <span class=\"tag\">[IN] Preposition/sub-conj</span></div> <div class=\"token DT \">the <span class=\"tag\">[DT] Determiner</span></div> <div class=\"token JJ \">heavy-truck <span class=\"tag\">[JJ] Adjective</span></div> <div class=\"token CC \">and <span class=\"tag\">[CC] Coordin. Conjunction</span></div> <div class=\"token NNP \">passenger-car <span class=\"tag\">[NNP] Proper noun, singular</span></div> <div class=\"token NNS \">markets <span class=\"tag\">[NNS] Noun, plural</span></div> <div class=\"token . \">. <span class=\"tag\">[.] </span></div></li><li> <div class=\"token RB \">still <span class=\"tag\">[RB] Adverb</span></div> <div class=\"token , \">, <span class=\"tag\">[,] </span></div> <div class=\"token PRP \">he <span class=\"tag\">[PRP] </span></div> <div class=\"token VBD \">added <span class=\"tag\">[VBD] Verb, past tense </span></div> <div class=\"token , \">, <span class=\"tag\">[,] </span></div> <div class=\"token IN \">if <span class=\"tag\">[IN] Preposition/sub-conj</span></div> <div class=\"token DT \">the <span class=\"tag\">[DT] Determiner</span></div> <div class=\"token NN \">industrial <span class=\"tag\">[NN] Noun, singular</span></div> <div class=\"token NN \">sector <span class=\"tag\">[NN] Noun, singular</span></div> <div class=\"token RB \">remains <span class=\"tag\">[RB] Adverb</span></div> <div class=\"token RB \">relatively <span class=\"tag\">[RB] Adverb</span></div> <div class=\"token JJ \">stable <span class=\"tag\">[JJ] Adjective</span></div> <div class=\"token , \">, <span class=\"tag\">[,] </span></div> <div class=\"token NNP \">rockwell <span class=\"tag\">[NNP] Proper noun, singular</span></div> <div class=\"token MD \">should <span class=\"tag\">[MD] Modal can</span></div> <div class=\"token VB \">be <span class=\"tag\">[VB] Verb, base form</span></div> <div class=\"token JJ \">able <span class=\"tag\">[JJ] Adjective</span></div> <div class=\"token TO \">to <span class=\"tag\">[TO] “to”</span></div> <div class=\"token VB \">recover <span class=\"tag\">[VB] Verb, base form</span></div> <div class=\"token IN \">in <span class=\"tag\">[IN] Preposition/sub-conj</span></div> <div class=\"token DT \">the <span class=\"tag\">[DT] Determiner</span></div> <div class=\"token JJ \">second <span class=\"tag\">[JJ] Adjective</span></div> <div class=\"token NN \">half <span class=\"tag\">[NN] Noun, singular</span></div> <div class=\"token CC \">and <span class=\"tag\">[CC] Coordin. Conjunction</span></div> <div class=\"token IN \">about <span class=\"tag\">[IN] Preposition/sub-conj</span></div> <div class=\"token JJ \">equal <span class=\"tag\">[JJ] Adjective</span></div> <div class=\"token NN \">fiscal <span class=\"tag\">[NN] Noun, singular</span></div> <div class=\"token CD \">1989 <span class=\"tag\">[CD] Cardinal number</span></div> <div class=\"token POS \">'s <span class=\"tag\">[POS] Possessive ending</span></div> <div class=\"token JJ \">operating <span class=\"tag\">[JJ] Adjective</span></div> <div class=\"token NN \">profit <span class=\"tag\">[NN] Noun, singular</span></div> <div class=\"token IN \">of <span class=\"tag\">[IN] Preposition/sub-conj</span></div> <div class=\"token $ \">$ <span class=\"tag\">[$] </span></div> <div class=\"token CD \">630.9 <span class=\"tag\">[CD] Cardinal number</span></div> <div class=\"token CD \">million <span class=\"tag\">[CD] Cardinal number</span></div> <div class=\"token . \">. <span class=\"tag\">[.] </span></div></li><li> <div class=\"token IN \">for <span class=\"tag\">[IN] Preposition/sub-conj</span></div> <div class=\"token NNP \">fiscal <span class=\"tag\">[NNP] Proper noun, singular</span></div> <div class=\"token CD \">1989 <span class=\"tag\">[CD] Cardinal number</span></div> <div class=\"token POS \">'s <span class=\"tag\">[POS] Possessive ending</span></div> <div class=\"token JJ \">fourth <span class=\"tag\">[JJ] Adjective</span></div> <div class=\"token NN \">quarter <span class=\"tag\">[NN] Noun, singular</span></div> <div class=\"token , \">, <span class=\"tag\">[,] </span></div> <div class=\"token NNP \">rockwell <span class=\"tag\">[NNP] Proper noun, singular</span></div> <div class=\"token POS \">'s <span class=\"tag\">[POS] Possessive ending</span></div> <div class=\"token JJ \">net <span class=\"tag\">[JJ] Adjective</span></div> <div class=\"token NN \">income <span class=\"tag\">[NN] Noun, singular</span></div> <div class=\"token VBD \">totaled <span class=\"tag\">[VBD] Verb, past tense </span></div> <div class=\"token $ \">$ <span class=\"tag\">[$] </span></div> <div class=\"token CD \">126.1 <span class=\"tag\">[CD] Cardinal number</span></div> <div class=\"token CD \">million <span class=\"tag\">[CD] Cardinal number</span></div> <div class=\"token , \">, <span class=\"tag\">[,] </span></div> <div class=\"token CC \">or <span class=\"tag\">[CC] Coordin. Conjunction</span></div> <div class=\"token CD \">50 <span class=\"tag\">[CD] Cardinal number</span></div> <div class=\"token NNS \">cents <span class=\"tag\">[NNS] Noun, plural</span></div> <div class=\"token DT \">a <span class=\"tag\">[DT] Determiner</span></div> <div class=\"token NN \">share <span class=\"tag\">[NN] Noun, singular</span></div> <div class=\"token . \">. <span class=\"tag\">[.] </span></div></li><li> <div class=\"token DT \">that <span class=\"tag\">[DT] Determiner</span></div> <div class=\"token NN \">compares <span class=\"tag\">[NN] Noun, singular</span></div> <div class=\"token IN \">with <span class=\"tag\">[IN] Preposition/sub-conj</span></div> <div class=\"token JJ \">operating <span class=\"tag\">[JJ] Adjective</span></div> <div class=\"token NNS \">earnings <span class=\"tag\">[NNS] Noun, plural</span></div> <div class=\"token IN \">of <span class=\"tag\">[IN] Preposition/sub-conj</span></div> <div class=\"token $ \">$ <span class=\"tag\">[$] </span></div> <div class=\"token CD \">132.9 <span class=\"tag\">[CD] Cardinal number</span></div> <div class=\"token CD \">million <span class=\"tag\">[CD] Cardinal number</span></div> <div class=\"token , \">, <span class=\"tag\">[,] </span></div> <div class=\"token CC \">or <span class=\"tag\">[CC] Coordin. Conjunction</span></div> <div class=\"token CD \">49 <span class=\"tag\">[CD] Cardinal number</span></div> <div class=\"token NNS \">cents <span class=\"tag\">[NNS] Noun, plural</span></div> <div class=\"token DT \">a <span class=\"tag\">[DT] Determiner</span></div> <div class=\"token NN \">share <span class=\"tag\">[NN] Noun, singular</span></div> <div class=\"token , \">, <span class=\"tag\">[,] </span></div> <div class=\"token DT \">the <span class=\"tag\">[DT] Determiner</span></div> <div class=\"token NN \">year <span class=\"tag\">[NN] Noun, singular</span></div> <div class=\"token RBR \">earlier <span class=\"tag\">[RBR] Adverb, comparative</span></div> <div class=\"token . \">. <span class=\"tag\">[.] </span></div></li><li> <div class=\"token DT \">the <span class=\"tag\">[DT] Determiner</span></div> <div class=\"token JJ \">prior-year <span class=\"tag\">[JJ] Adjective</span></div> <div class=\"token NN \">period <span class=\"tag\">[NN] Noun, singular</span></div> <div class=\"token JJ \">includes <span class=\"tag\">[JJ] Adjective</span></div> <div class=\"token DT \">a <span class=\"tag\">[DT] Determiner</span></div> <div class=\"token JJ \">one-time <span class=\"tag\">[JJ] Adjective</span></div> <div class=\"token JJ \">favorable <span class=\"tag\">[JJ] Adjective</span></div> <div class=\"token NN \">tax <span class=\"tag\">[NN] Noun, singular</span></div> <div class=\"token NN \">adjustment <span class=\"tag\">[NN] Noun, singular</span></div> <div class=\"token IN \">on <span class=\"tag\">[IN] Preposition/sub-conj</span></div> <div class=\"token DT \">the <span class=\"tag\">[DT] Determiner</span></div> <div class=\"token JJ \">b-1b <span class=\"tag\">[JJ] Adjective</span></div> <div class=\"token NN \">bomber <span class=\"tag\">[NN] Noun, singular</span></div> <div class=\"token NN \">program <span class=\"tag\">[NN] Noun, singular</span></div> <div class=\"token CC \">and <span class=\"tag\">[CC] Coordin. Conjunction</span></div> <div class=\"token DT \">another <span class=\"tag\">[DT] Determiner</span></div> <div class=\"token NN \">gain <span class=\"tag\">[NN] Noun, singular</span></div> <div class=\"token IN \">from <span class=\"tag\">[IN] Preposition/sub-conj</span></div> <div class=\"token NN \">sale <span class=\"tag\">[NN] Noun, singular</span></div> <div class=\"token IN \">of <span class=\"tag\">[IN] Preposition/sub-conj</span></div> <div class=\"token DT \">the <span class=\"tag\">[DT] Determiner</span></div> <div class=\"token JJ \">industrial <span class=\"tag\">[JJ] Adjective</span></div> <div class=\"token NN \">sewing-machine <span class=\"tag\">[NN] Noun, singular</span></div> <div class=\"token NN \">business <span class=\"tag\">[NN] Noun, singular</span></div> <div class=\"token , \">, <span class=\"tag\">[,] </span></div> <div class=\"token WDT \">which <span class=\"tag\">[WDT] Wh-determiner</span></div> <div class=\"token VBD \">made <span class=\"tag\">[VBD] Verb, past tense </span></div> <div class=\"token JJ \">net <span class=\"tag\">[JJ] Adjective</span></div> <div class=\"token $ \">$ <span class=\"tag\">[$] </span></div> <div class=\"token CD \">185.9 <span class=\"tag\">[CD] Cardinal number</span></div> <div class=\"token CD \">million <span class=\"tag\">[CD] Cardinal number</span></div> <div class=\"token , \">, <span class=\"tag\">[,] </span></div> <div class=\"token CC \">or <span class=\"tag\">[CC] Coordin. Conjunction</span></div> <div class=\"token CD \">70 <span class=\"tag\">[CD] Cardinal number</span></div> <div class=\"token NNS \">cents <span class=\"tag\">[NNS] Noun, plural</span></div> <div class=\"token DT \">a <span class=\"tag\">[DT] Determiner</span></div> <div class=\"token NN \">share <span class=\"tag\">[NN] Noun, singular</span></div> <div class=\"token . \">. <span class=\"tag\">[.] </span></div></li><li> <div class=\"token NNS \">sales <span class=\"tag\">[NNS] Noun, plural</span></div> <div class=\"token VBD \">rose <span class=\"tag\">[VBD] Verb, past tense </span></div> <div class=\"token CD \">4 <span class=\"tag\">[CD] Cardinal number</span></div> <div class=\"token NN \">% <span class=\"tag\">[NN] Noun, singular</span></div> <div class=\"token TO \">to <span class=\"tag\">[TO] “to”</span></div> <div class=\"token $ \">$ <span class=\"tag\">[$] </span></div> <div class=\"token CD \">3.28 <span class=\"tag\">[CD] Cardinal number</span></div> <div class=\"token CD \">billion <span class=\"tag\">[CD] Cardinal number</span></div> <div class=\"token IN \">from <span class=\"tag\">[IN] Preposition/sub-conj</span></div> <div class=\"token $ \">$ <span class=\"tag\">[$] </span></div> <div class=\"token CD \">3.16 <span class=\"tag\">[CD] Cardinal number</span></div> <div class=\"token CD \">billion <span class=\"tag\">[CD] Cardinal number</span></div> <div class=\"token . \">. <span class=\"tag\">[.] </span></div></li><li> <div class=\"token NNP \">mr. <span class=\"tag\">[NNP] Proper noun, singular</span></div> <div class=\"token NNP \">beall <span class=\"tag\">[NNP] Proper noun, singular</span></div> <div class=\"token VBD \">said <span class=\"tag\">[VBD] Verb, past tense </span></div> <div class=\"token IN \">that <span class=\"tag\">[IN] Preposition/sub-conj</span></div> <div class=\"token PRP \">he <span class=\"tag\">[PRP] </span></div> <div class=\"token VBD \">was <span class=\"tag\">[VBD] Verb, past tense </span></div> <div class=\"token RB \">generally <span class=\"tag\">[RB] Adverb</span></div> <div class=\"token JJ \">pleased <span class=\"tag\">[JJ] Adjective</span></div> <div class=\"token IN \">with <span class=\"tag\">[IN] Preposition/sub-conj</span></div> <div class=\"token DT \">the <span class=\"tag\">[DT] Determiner</span></div> <div class=\"token JJS \">latest <span class=\"tag\">[JJS] Adj. superlative </span></div> <div class=\"token NNS \">numbers <span class=\"tag\">[NNS] Noun, plural</span></div> <div class=\"token CC \">and <span class=\"tag\">[CC] Coordin. Conjunction</span></div> <div class=\"token VBD \">cited <span class=\"tag\">[VBD] Verb, past tense </span></div> <div class=\"token DT \">a <span class=\"tag\">[DT] Determiner</span></div> <div class=\"token JJ \">particularly <span class=\"tag\">[JJ] Adjective</span></div> <div class=\"token JJ \">strong <span class=\"tag\">[JJ] Adjective</span></div> <div class=\"token NNS \">showing <span class=\"tag\">[NNS] Noun, plural</span></div> <div class=\"token IN \">by <span class=\"tag\">[IN] Preposition/sub-conj</span></div> <div class=\"token DT \">the <span class=\"tag\">[DT] Determiner</span></div> <div class=\"token NN \">company <span class=\"tag\">[NN] Noun, singular</span></div> <div class=\"token POS \">'s <span class=\"tag\">[POS] Possessive ending</span></div> <div class=\"token NNS \">electronics <span class=\"tag\">[NNS] Noun, plural</span></div> <div class=\"token NN \">segment <span class=\"tag\">[NN] Noun, singular</span></div> <div class=\"token . \">. <span class=\"tag\">[.] </span></div></li><li> <div class=\"token JJ \">overall <span class=\"tag\">[JJ] Adjective</span></div> <div class=\"token , \">, <span class=\"tag\">[,] </span></div> <div class=\"token JJ \">pretax <span class=\"tag\">[JJ] Adjective</span></div> <div class=\"token NNS \">electronics <span class=\"tag\">[NNS] Noun, plural</span></div> <div class=\"token NNS \">earnings <span class=\"tag\">[NNS] Noun, plural</span></div> <div class=\"token VBD \">soared <span class=\"tag\">[VBD] Verb, past tense </span></div> <div class=\"token CD \">12 <span class=\"tag\">[CD] Cardinal number</span></div> <div class=\"token NN \">% <span class=\"tag\">[NN] Noun, singular</span></div> <div class=\"token TO \">to <span class=\"tag\">[TO] “to”</span></div> <div class=\"token $ \">$ <span class=\"tag\">[$] </span></div> <div class=\"token CD \">107.9 <span class=\"tag\">[CD] Cardinal number</span></div> <div class=\"token CD \">million <span class=\"tag\">[CD] Cardinal number</span></div> <div class=\"token IN \">from <span class=\"tag\">[IN] Preposition/sub-conj</span></div> <div class=\"token $ \">$ <span class=\"tag\">[$] </span></div> <div class=\"token CD \">96.4 <span class=\"tag\">[CD] Cardinal number</span></div> <div class=\"token CD \">million <span class=\"tag\">[CD] Cardinal number</span></div> <div class=\"token . \">. <span class=\"tag\">[.] </span></div></li><li> <div class=\"token DT \">all <span class=\"tag\">[DT] Determiner</span></div> <div class=\"token CD \">four <span class=\"tag\">[CD] Cardinal number</span></div> <div class=\"token NNS \">areas <span class=\"tag\">[NNS] Noun, plural</span></div> <div class=\"token VBD \">had <span class=\"tag\">[VBD] Verb, past tense </span></div> <div class=\"token JJR \">higher <span class=\"tag\">[JJR] Adj. comparative </span></div> <div class=\"token NN \">revenue <span class=\"tag\">[NN] Noun, singular</span></div> <div class=\"token IN \">for <span class=\"tag\">[IN] Preposition/sub-conj</span></div> <div class=\"token DT \">the <span class=\"tag\">[DT] Determiner</span></div> <div class=\"token CD \">three <span class=\"tag\">[CD] Cardinal number</span></div> <div class=\"token NNS \">months <span class=\"tag\">[NNS] Noun, plural</span></div> <div class=\"token VBD \">ended <span class=\"tag\">[VBD] Verb, past tense </span></div> <div class=\"token NNP \">sept. <span class=\"tag\">[NNP] Proper noun, singular</span></div> <div class=\"token CD \">30 <span class=\"tag\">[CD] Cardinal number</span></div> <div class=\"token . \">. <span class=\"tag\">[.] </span></div></li><li> <div class=\"token IN \">for <span class=\"tag\">[IN] Preposition/sub-conj</span></div> <div class=\"token DT \">the <span class=\"tag\">[DT] Determiner</span></div> <div class=\"token NN \">year <span class=\"tag\">[NN] Noun, singular</span></div> <div class=\"token , \">, <span class=\"tag\">[,] </span></div> <div class=\"token NN \">electronics <span class=\"tag\">[NN] Noun, singular</span></div> <div class=\"token VBN \">emerged <span class=\"tag\">[VBN] Verb, past particip. </span></div> <div class=\"token IN \">as <span class=\"tag\">[IN] Preposition/sub-conj</span></div> <div class=\"token NNP \">rockwell <span class=\"tag\">[NNP] Proper noun, singular</span></div> <div class=\"token POS \">'s <span class=\"tag\">[POS] Possessive ending</span></div> <div class=\"token JJS \">largest <span class=\"tag\">[JJS] Adj. superlative </span></div> <div class=\"token NN \">sector <span class=\"tag\">[NN] Noun, singular</span></div> <div class=\"token IN \">in <span class=\"tag\">[IN] Preposition/sub-conj</span></div> <div class=\"token NNS \">terms <span class=\"tag\">[NNS] Noun, plural</span></div> <div class=\"token IN \">of <span class=\"tag\">[IN] Preposition/sub-conj</span></div> <div class=\"token NNS \">sales <span class=\"tag\">[NNS] Noun, plural</span></div> <div class=\"token CC \">and <span class=\"tag\">[CC] Coordin. Conjunction</span></div> <div class=\"token NNS \">earnings <span class=\"tag\">[NNS] Noun, plural</span></div> <div class=\"token , \">, <span class=\"tag\">[,] </span></div> <div class=\"token VBG \">muscling <span class=\"tag\">[VBG] Verb, gerund </span></div> <div class=\"token IN \">out <span class=\"tag\">[IN] Preposition/sub-conj</span></div> <div class=\"token NN \">aerospace <span class=\"tag\">[NN] Noun, singular</span></div> <div class=\"token IN \">for <span class=\"tag\">[IN] Preposition/sub-conj</span></div> <div class=\"token DT \">the <span class=\"tag\">[DT] Determiner</span></div> <div class=\"token JJ \">first <span class=\"tag\">[JJ] Adjective</span></div> <div class=\"token NN \">time <span class=\"tag\">[NN] Noun, singular</span></div> <div class=\"token . \">. <span class=\"tag\">[.] </span></div></li><li> <div class=\"token DT \">the <span class=\"tag\">[DT] Determiner</span></div> <div class=\"token NN \">graphics <span class=\"tag\">[NN] Noun, singular</span></div> <div class=\"token NN \">business <span class=\"tag\">[NN] Noun, singular</span></div> <div class=\"token , \">, <span class=\"tag\">[,] </span></div> <div class=\"token WDT \">which <span class=\"tag\">[WDT] Wh-determiner</span></div> <div class=\"token RB \">also <span class=\"tag\">[RB] Adverb</span></div> <div class=\"token VBD \">was <span class=\"tag\">[VBD] Verb, past tense </span></div> <div class=\"token VBG \">singled <span class=\"tag\">[VBG] Verb, gerund </span></div> <div class=\"token RP \">out <span class=\"tag\">[RP] Particle</span></div> <div class=\"token IN \">by <span class=\"tag\">[IN] Preposition/sub-conj</span></div> <div class=\"token DT \">the <span class=\"tag\">[DT] Determiner</span></div> <div class=\"token NN \">chairman <span class=\"tag\">[NN] Noun, singular</span></div> <div class=\"token IN \">as <span class=\"tag\">[IN] Preposition/sub-conj</span></div> <div class=\"token DT \">a <span class=\"tag\">[DT] Determiner</span></div> <div class=\"token NN \">positive <span class=\"tag\">[NN] Noun, singular</span></div> <div class=\"token , \">, <span class=\"tag\">[,] </span></div> <div class=\"token VBD \">saw <span class=\"tag\">[VBD] Verb, past tense </span></div> <div class=\"token PRP$ \">its <span class=\"tag\">[PRP$] </span></div> <div class=\"token JJ \">operating <span class=\"tag\">[JJ] Adjective</span></div> <div class=\"token NNS \">earnings <span class=\"tag\">[NNS] Noun, plural</span></div> <div class=\"token IN \">for <span class=\"tag\">[IN] Preposition/sub-conj</span></div> <div class=\"token DT \">the <span class=\"tag\">[DT] Determiner</span></div> <div class=\"token NN \">quarter <span class=\"tag\">[NN] Noun, singular</span></div> <div class=\"token NN \">jump <span class=\"tag\">[NN] Noun, singular</span></div> <div class=\"token CD \">79 <span class=\"tag\">[CD] Cardinal number</span></div> <div class=\"token NN \">% <span class=\"tag\">[NN] Noun, singular</span></div> <div class=\"token TO \">to <span class=\"tag\">[TO] “to”</span></div> <div class=\"token $ \">$ <span class=\"tag\">[$] </span></div> <div class=\"token CD \">42.1 <span class=\"tag\">[CD] Cardinal number</span></div> <div class=\"token CD \">million <span class=\"tag\">[CD] Cardinal number</span></div> <div class=\"token IN \">from <span class=\"tag\">[IN] Preposition/sub-conj</span></div> <div class=\"token $ \">$ <span class=\"tag\">[$] </span></div> <div class=\"token CD \">23.5 <span class=\"tag\">[CD] Cardinal number</span></div> <div class=\"token CD \">million <span class=\"tag\">[CD] Cardinal number</span></div> <div class=\"token . \">. <span class=\"tag\">[.] </span></div></li><li> <div class=\"token IN \">for <span class=\"tag\">[IN] Preposition/sub-conj</span></div> <div class=\"token DT \">the <span class=\"tag\">[DT] Determiner</span></div> <div class=\"token NN \">year <span class=\"tag\">[NN] Noun, singular</span></div> <div class=\"token , \">, <span class=\"tag\">[,] </span></div> <div class=\"token VBG \">bolstered <span class=\"tag\">[VBG] Verb, gerund </span></div> <div class=\"token IN \">by <span class=\"tag\">[IN] Preposition/sub-conj</span></div> <div class=\"token DT \">the <span class=\"tag\">[DT] Determiner</span></div> <div class=\"token NN \">introduction <span class=\"tag\">[NN] Noun, singular</span></div> <div class=\"token IN \">of <span class=\"tag\">[IN] Preposition/sub-conj</span></div> <div class=\"token DT \">the <span class=\"tag\">[DT] Determiner</span></div> <div class=\"token NNS \">colorliner <span class=\"tag\">[NNS] Noun, plural</span></div> <div class=\"token NNP \">newspaper-printing <span class=\"tag\">[NNP] Proper noun, singular</span></div> <div class=\"token NNP \">press <span class=\"tag\">[NNP] Proper noun, singular</span></div> <div class=\"token , \">, <span class=\"tag\">[,] </span></div> <div class=\"token JJ \">graphics <span class=\"tag\">[JJ] Adjective</span></div> <div class=\"token NNS \">earnings <span class=\"tag\">[NNS] Noun, plural</span></div> <div class=\"token RB \">almost <span class=\"tag\">[RB] Adverb</span></div> <div class=\"token VBN \">doubled <span class=\"tag\">[VBN] Verb, past particip. </span></div> <div class=\"token . \">. <span class=\"tag\">[.] </span></div></li><li> <div class=\"token JJ \">aerospace <span class=\"tag\">[JJ] Adjective</span></div> <div class=\"token NNS \">earnings <span class=\"tag\">[NNS] Noun, plural</span></div> <div class=\"token VBD \">sagged <span class=\"tag\">[VBD] Verb, past tense </span></div> <div class=\"token CD \">37 <span class=\"tag\">[CD] Cardinal number</span></div> <div class=\"token NN \">% <span class=\"tag\">[NN] Noun, singular</span></div> <div class=\"token IN \">for <span class=\"tag\">[IN] Preposition/sub-conj</span></div> <div class=\"token DT \">the <span class=\"tag\">[DT] Determiner</span></div> <div class=\"token NN \">quarter <span class=\"tag\">[NN] Noun, singular</span></div> <div class=\"token CC \">and <span class=\"tag\">[CC] Coordin. Conjunction</span></div> <div class=\"token CD \">15 <span class=\"tag\">[CD] Cardinal number</span></div> <div class=\"token NN \">% <span class=\"tag\">[NN] Noun, singular</span></div> <div class=\"token IN \">for <span class=\"tag\">[IN] Preposition/sub-conj</span></div> <div class=\"token DT \">the <span class=\"tag\">[DT] Determiner</span></div> <div class=\"token NN \">year <span class=\"tag\">[NN] Noun, singular</span></div> <div class=\"token , \">, <span class=\"tag\">[,] </span></div> <div class=\"token RB \">largely <span class=\"tag\">[RB] Adverb</span></div> <div class=\"token VBN \">due <span class=\"tag\">[VBN] Verb, past particip. </span></div> <div class=\"token TO \">to <span class=\"tag\">[TO] “to”</span></div> <div class=\"token VB \">lower <span class=\"tag\">[VB] Verb, base form</span></div> <div class=\"token JJ \">b-1b <span class=\"tag\">[JJ] Adjective</span></div> <div class=\"token NN \">program <span class=\"tag\">[NN] Noun, singular</span></div> <div class=\"token NN \">profit <span class=\"tag\">[NN] Noun, singular</span></div> <div class=\"token : \">; <span class=\"tag\">[:] </span></div> <div class=\"token DT \">the <span class=\"tag\">[DT] Determiner</span></div> <div class=\"token NN \">last <span class=\"tag\">[NN] Noun, singular</span></div> <div class=\"token IN \">of <span class=\"tag\">[IN] Preposition/sub-conj</span></div> <div class=\"token DT \">the <span class=\"tag\">[DT] Determiner</span></div> <div class=\"token NN \">bombers <span class=\"tag\">[NN] Noun, singular</span></div> <div class=\"token VBD \">rolled <span class=\"tag\">[VBD] Verb, past tense </span></div> <div class=\"token RP \">out <span class=\"tag\">[RP] Particle</span></div> <div class=\"token IN \">in <span class=\"tag\">[IN] Preposition/sub-conj</span></div> <div class=\"token NNP \">april <span class=\"tag\">[NNP] Proper noun, singular</span></div> <div class=\"token CD \">1988 <span class=\"tag\">[CD] Cardinal number</span></div> <div class=\"token . \">. <span class=\"tag\">[.] </span></div></li><li> <div class=\"token DT \">that <span class=\"tag\">[DT] Determiner</span></div> <div class=\"token VBD \">was <span class=\"tag\">[VBD] Verb, past tense </span></div> <div class=\"token RB \">partially <span class=\"tag\">[RB] Adverb</span></div> <div class=\"token NNS \">offset <span class=\"tag\">[NNS] Noun, plural</span></div> <div class=\"token IN \">by <span class=\"tag\">[IN] Preposition/sub-conj</span></div> <div class=\"token DT \">the <span class=\"tag\">[DT] Determiner</span></div> <div class=\"token NN \">resumption <span class=\"tag\">[NN] Noun, singular</span></div> <div class=\"token IN \">of <span class=\"tag\">[IN] Preposition/sub-conj</span></div> <div class=\"token NN \">space <span class=\"tag\">[NN] Noun, singular</span></div> <div class=\"token NN \">shuttle <span class=\"tag\">[NN] Noun, singular</span></div> <div class=\"token NN \">flights <span class=\"tag\">[NN] Noun, singular</span></div> <div class=\"token CC \">and <span class=\"tag\">[CC] Coordin. Conjunction</span></div> <div class=\"token VBN \">increased <span class=\"tag\">[VBN] Verb, past particip. </span></div> <div class=\"token NN \">demand <span class=\"tag\">[NN] Noun, singular</span></div> <div class=\"token IN \">for <span class=\"tag\">[IN] Preposition/sub-conj</span></div> <div class=\"token JJ \">expendable <span class=\"tag\">[JJ] Adjective</span></div> <div class=\"token NN \">launch-vehicle <span class=\"tag\">[NN] Noun, singular</span></div> <div class=\"token NNS \">engines <span class=\"tag\">[NNS] Noun, plural</span></div> <div class=\"token . \">. <span class=\"tag\">[.] </span></div></li><li> <div class=\"token DT \">the <span class=\"tag\">[DT] Determiner</span></div> <div class=\"token NN \">company <span class=\"tag\">[NN] Noun, singular</span></div> <div class=\"token RB \">also <span class=\"tag\">[RB] Adverb</span></div> <div class=\"token VBD \">took <span class=\"tag\">[VBD] Verb, past tense </span></div> <div class=\"token NNS \">hits <span class=\"tag\">[NNS] Noun, plural</span></div> <div class=\"token IN \">in <span class=\"tag\">[IN] Preposition/sub-conj</span></div> <div class=\"token DT \">the <span class=\"tag\">[DT] Determiner</span></div> <div class=\"token JJ \">fourth <span class=\"tag\">[JJ] Adjective</span></div> <div class=\"token NNS \">quarters <span class=\"tag\">[NNS] Noun, plural</span></div> <div class=\"token IN \">of <span class=\"tag\">[IN] Preposition/sub-conj</span></div> <div class=\"token CD \">1989 <span class=\"tag\">[CD] Cardinal number</span></div> <div class=\"token CC \">and <span class=\"tag\">[CC] Coordin. Conjunction</span></div> <div class=\"token CD \">1988 <span class=\"tag\">[CD] Cardinal number</span></div> <div class=\"token IN \">on <span class=\"tag\">[IN] Preposition/sub-conj</span></div> <div class=\"token DT \">a <span class=\"tag\">[DT] Determiner</span></div> <div class=\"token JJ \">fixed-price <span class=\"tag\">[JJ] Adjective</span></div> <div class=\"token NN \">weapons-modernization <span class=\"tag\">[NN] Noun, singular</span></div> <div class=\"token NN \">development <span class=\"tag\">[NN] Noun, singular</span></div> <div class=\"token NN \">program <span class=\"tag\">[NN] Noun, singular</span></div> <div class=\"token : \">-- <span class=\"tag\">[:] </span></div> <div class=\"token RB \">probably <span class=\"tag\">[RB] Adverb</span></div> <div class=\"token DT \">the <span class=\"tag\">[DT] Determiner</span></div> <div class=\"token JJ \">c-130 <span class=\"tag\">[JJ] Adjective</span></div> <div class=\"token NN \">gunship <span class=\"tag\">[NN] Noun, singular</span></div> <div class=\"token , \">, <span class=\"tag\">[,] </span></div> <div class=\"token VBG \">according <span class=\"tag\">[VBG] Verb, gerund </span></div> <div class=\"token TO \">to <span class=\"tag\">[TO] “to”</span></div> <div class=\"token NNS \">analysts <span class=\"tag\">[NNS] Noun, plural</span></div> <div class=\"token . \">. <span class=\"tag\">[.] </span></div></li><li> <div class=\"token IN \">for <span class=\"tag\">[IN] Preposition/sub-conj</span></div> <div class=\"token NNP \">fiscal <span class=\"tag\">[NNP] Proper noun, singular</span></div> <div class=\"token CD \">1989 <span class=\"tag\">[CD] Cardinal number</span></div> <div class=\"token , \">, <span class=\"tag\">[,] </span></div> <div class=\"token DT \">the <span class=\"tag\">[DT] Determiner</span></div> <div class=\"token NN \">company <span class=\"tag\">[NN] Noun, singular</span></div> <div class=\"token VBD \">posted <span class=\"tag\">[VBD] Verb, past tense </span></div> <div class=\"token NN \">net <span class=\"tag\">[NN] Noun, singular</span></div> <div class=\"token IN \">of <span class=\"tag\">[IN] Preposition/sub-conj</span></div> <div class=\"token $ \">$ <span class=\"tag\">[$] </span></div> <div class=\"token CD \">734.9 <span class=\"tag\">[CD] Cardinal number</span></div> <div class=\"token CD \">million <span class=\"tag\">[CD] Cardinal number</span></div> <div class=\"token , \">, <span class=\"tag\">[,] </span></div> <div class=\"token CC \">or <span class=\"tag\">[CC] Coordin. Conjunction</span></div> <div class=\"token $ \">$ <span class=\"tag\">[$] </span></div> <div class=\"token CD \">2.87 <span class=\"tag\">[CD] Cardinal number</span></div> <div class=\"token DT \">a <span class=\"tag\">[DT] Determiner</span></div> <div class=\"token NN \">share <span class=\"tag\">[NN] Noun, singular</span></div> <div class=\"token , \">, <span class=\"tag\">[,] </span></div> <div class=\"token RB \">down <span class=\"tag\">[RB] Adverb</span></div> <div class=\"token IN \">from <span class=\"tag\">[IN] Preposition/sub-conj</span></div> <div class=\"token $ \">$ <span class=\"tag\">[$] </span></div> <div class=\"token CD \">811.9 <span class=\"tag\">[CD] Cardinal number</span></div> <div class=\"token CD \">million <span class=\"tag\">[CD] Cardinal number</span></div> <div class=\"token , \">, <span class=\"tag\">[,] </span></div> <div class=\"token CC \">or <span class=\"tag\">[CC] Coordin. Conjunction</span></div> <div class=\"token $ \">$ <span class=\"tag\">[$] </span></div> <div class=\"token CD \">3.04 <span class=\"tag\">[CD] Cardinal number</span></div> <div class=\"token DT \">a <span class=\"tag\">[DT] Determiner</span></div> <div class=\"token NN \">share <span class=\"tag\">[NN] Noun, singular</span></div> <div class=\"token , \">, <span class=\"tag\">[,] </span></div> <div class=\"token IN \">in <span class=\"tag\">[IN] Preposition/sub-conj</span></div> <div class=\"token CD \">fiscal <span class=\"tag\">[CD] Cardinal number</span></div> <div class=\"token CD \">1988 <span class=\"tag\">[CD] Cardinal number</span></div> <div class=\"token . \">. <span class=\"tag\">[.] </span></div></li><li> <div class=\"token JJ \">excluding <span class=\"tag\">[JJ] Adjective</span></div> <div class=\"token JJ \">one-time <span class=\"tag\">[JJ] Adjective</span></div> <div class=\"token NNS \">additions <span class=\"tag\">[NNS] Noun, plural</span></div> <div class=\"token TO \">to <span class=\"tag\">[TO] “to”</span></div> <div class=\"token NN \">profit <span class=\"tag\">[NN] Noun, singular</span></div> <div class=\"token IN \">in <span class=\"tag\">[IN] Preposition/sub-conj</span></div> <div class=\"token DT \">each <span class=\"tag\">[DT] Determiner</span></div> <div class=\"token NN \">year <span class=\"tag\">[NN] Noun, singular</span></div> <div class=\"token , \">, <span class=\"tag\">[,] </span></div> <div class=\"token NNS \">earnings <span class=\"tag\">[NNS] Noun, plural</span></div> <div class=\"token IN \">per <span class=\"tag\">[IN] Preposition/sub-conj</span></div> <div class=\"token NN \">share <span class=\"tag\">[NN] Noun, singular</span></div> <div class=\"token VBD \">were <span class=\"tag\">[VBD] Verb, past tense </span></div> <div class=\"token $ \">$ <span class=\"tag\">[$] </span></div> <div class=\"token CD \">2.47 <span class=\"tag\">[CD] Cardinal number</span></div> <div class=\"token , \">, <span class=\"tag\">[,] </span></div> <div class=\"token RB \">up <span class=\"tag\">[RB] Adverb</span></div> <div class=\"token CD \">7.4 <span class=\"tag\">[CD] Cardinal number</span></div> <div class=\"token NN \">% <span class=\"tag\">[NN] Noun, singular</span></div> <div class=\"token IN \">from <span class=\"tag\">[IN] Preposition/sub-conj</span></div> <div class=\"token $ \">$ <span class=\"tag\">[$] </span></div> <div class=\"token CD \">2.30 <span class=\"tag\">[CD] Cardinal number</span></div> <div class=\"token IN \">in <span class=\"tag\">[IN] Preposition/sub-conj</span></div> <div class=\"token NN \">fiscal <span class=\"tag\">[NN] Noun, singular</span></div> <div class=\"token CD \">1988 <span class=\"tag\">[CD] Cardinal number</span></div> <div class=\"token . \">. <span class=\"tag\">[.] </span></div></li><li> <div class=\"token NNS \">sales <span class=\"tag\">[NNS] Noun, plural</span></div> <div class=\"token IN \">for <span class=\"tag\">[IN] Preposition/sub-conj</span></div> <div class=\"token DT \">the <span class=\"tag\">[DT] Determiner</span></div> <div class=\"token NN \">year <span class=\"tag\">[NN] Noun, singular</span></div> <div class=\"token VBD \">rose <span class=\"tag\">[VBD] Verb, past tense </span></div> <div class=\"token CD \">5 <span class=\"tag\">[CD] Cardinal number</span></div> <div class=\"token NN \">% <span class=\"tag\">[NN] Noun, singular</span></div> <div class=\"token TO \">to <span class=\"tag\">[TO] “to”</span></div> <div class=\"token $ \">$ <span class=\"tag\">[$] </span></div> <div class=\"token CD \">12.52 <span class=\"tag\">[CD] Cardinal number</span></div> <div class=\"token CD \">billion <span class=\"tag\">[CD] Cardinal number</span></div> <div class=\"token IN \">from <span class=\"tag\">[IN] Preposition/sub-conj</span></div> <div class=\"token $ \">$ <span class=\"tag\">[$] </span></div> <div class=\"token NNP \">11.95 <span class=\"tag\">[NNP] Proper noun, singular</span></div> <div class=\"token CD \">billion <span class=\"tag\">[CD] Cardinal number</span></div> <div class=\"token IN \">in <span class=\"tag\">[IN] Preposition/sub-conj</span></div> <div class=\"token NN \">fiscal <span class=\"tag\">[NN] Noun, singular</span></div> <div class=\"token CD \">1988 <span class=\"tag\">[CD] Cardinal number</span></div> <div class=\"token . \">. <span class=\"tag\">[.] </span></div></li><li> <div class=\"token NNP \">dell <span class=\"tag\">[NNP] Proper noun, singular</span></div> <div class=\"token NNP \">computer <span class=\"tag\">[NNP] Proper noun, singular</span></div> <div class=\"token NNP \">corp. <span class=\"tag\">[NNP] Proper noun, singular</span></div> <div class=\"token VBD \">said <span class=\"tag\">[VBD] Verb, past tense </span></div> <div class=\"token PRP \">it <span class=\"tag\">[PRP] </span></div> <div class=\"token RB \">cut <span class=\"tag\">[RB] Adverb</span></div> <div class=\"token NNS \">prices <span class=\"tag\">[NNS] Noun, plural</span></div> <div class=\"token IN \">on <span class=\"tag\">[IN] Preposition/sub-conj</span></div> <div class=\"token JJ \">several <span class=\"tag\">[JJ] Adjective</span></div> <div class=\"token IN \">of <span class=\"tag\">[IN] Preposition/sub-conj</span></div> <div class=\"token PRP$ \">its <span class=\"tag\">[PRP$] </span></div> <div class=\"token JJ \">personal <span class=\"tag\">[JJ] Adjective</span></div> <div class=\"token NN \">computer <span class=\"tag\">[NN] Noun, singular</span></div> <div class=\"token NNS \">lines <span class=\"tag\">[NNS] Noun, plural</span></div> <div class=\"token IN \">by <span class=\"tag\">[IN] Preposition/sub-conj</span></div> <div class=\"token CD \">5 <span class=\"tag\">[CD] Cardinal number</span></div> <div class=\"token NN \">% <span class=\"tag\">[NN] Noun, singular</span></div> <div class=\"token TO \">to <span class=\"tag\">[TO] “to”</span></div> <div class=\"token CD \">17 <span class=\"tag\">[CD] Cardinal number</span></div> <div class=\"token NN \">% <span class=\"tag\">[NN] Noun, singular</span></div> <div class=\"token . \">. <span class=\"tag\">[.] </span></div></li><li> <div class=\"token DT \">the <span class=\"tag\">[DT] Determiner</span></div> <div class=\"token NN \">austin <span class=\"tag\">[NN] Noun, singular</span></div> <div class=\"token , \">, <span class=\"tag\">[,] </span></div> <div class=\"token JJ \">texas-based <span class=\"tag\">[JJ] Adjective</span></div> <div class=\"token NN \">company <span class=\"tag\">[NN] Noun, singular</span></div> <div class=\"token , \">, <span class=\"tag\">[,] </span></div> <div class=\"token WDT \">which <span class=\"tag\">[WDT] Wh-determiner</span></div> <div class=\"token VBZ \">specializes <span class=\"tag\">[VBZ] Verb, 3sg pres </span></div> <div class=\"token IN \">in <span class=\"tag\">[IN] Preposition/sub-conj</span></div> <div class=\"token DT \">the <span class=\"tag\">[DT] Determiner</span></div> <div class=\"token JJ \">direct <span class=\"tag\">[JJ] Adjective</span></div> <div class=\"token NN \">sale <span class=\"tag\">[NN] Noun, singular</span></div> <div class=\"token IN \">of <span class=\"tag\">[IN] Preposition/sub-conj</span></div> <div class=\"token JJ \">personal <span class=\"tag\">[JJ] Adjective</span></div> <div class=\"token NNS \">computers <span class=\"tag\">[NNS] Noun, plural</span></div> <div class=\"token CC \">and <span class=\"tag\">[CC] Coordin. Conjunction</span></div> <div class=\"token NNS \">accessories <span class=\"tag\">[NNS] Noun, plural</span></div> <div class=\"token , \">, <span class=\"tag\">[,] </span></div> <div class=\"token VBD \">said <span class=\"tag\">[VBD] Verb, past tense </span></div> <div class=\"token PRP$ \">its <span class=\"tag\">[PRP$] </span></div> <div class=\"token NNP \">price <span class=\"tag\">[NNP] Proper noun, singular</span></div> <div class=\"token NN \">cuts <span class=\"tag\">[NN] Noun, singular</span></div> <div class=\"token NNS \">include <span class=\"tag\">[NNS] Noun, plural</span></div> <div class=\"token DT \">a <span class=\"tag\">[DT] Determiner</span></div> <div class=\"token $ \">$ <span class=\"tag\">[$] </span></div> <div class=\"token CD \">100 <span class=\"tag\">[CD] Cardinal number</span></div> <div class=\"token NN \">reduction <span class=\"tag\">[NN] Noun, singular</span></div> <div class=\"token IN \">on <span class=\"tag\">[IN] Preposition/sub-conj</span></div> <div class=\"token PRP$ \">its <span class=\"tag\">[PRP$] </span></div> <div class=\"token JJ \">system <span class=\"tag\">[JJ] Adjective</span></div> <div class=\"token CD \">210 <span class=\"tag\">[CD] Cardinal number</span></div> <div class=\"token NN \">computer <span class=\"tag\">[NN] Noun, singular</span></div> <div class=\"token IN \">with <span class=\"tag\">[IN] Preposition/sub-conj</span></div> <div class=\"token CD \">512 <span class=\"tag\">[CD] Cardinal number</span></div> <div class=\"token NN \">kilobytes <span class=\"tag\">[NN] Noun, singular</span></div> <div class=\"token IN \">of <span class=\"tag\">[IN] Preposition/sub-conj</span></div> <div class=\"token NN \">memory <span class=\"tag\">[NN] Noun, singular</span></div> <div class=\"token , \">, <span class=\"tag\">[,] </span></div> <div class=\"token DT \">a <span class=\"tag\">[DT] Determiner</span></div> <div class=\"token JJ \">40-megabyte <span class=\"tag\">[JJ] Adjective</span></div> <div class=\"token NN \">hard <span class=\"tag\">[NN] Noun, singular</span></div> <div class=\"token NN \">disk <span class=\"tag\">[NN] Noun, singular</span></div> <div class=\"token CC \">and <span class=\"tag\">[CC] Coordin. Conjunction</span></div> <div class=\"token DT \">a <span class=\"tag\">[DT] Determiner</span></div> <div class=\"token JJ \">color <span class=\"tag\">[JJ] Adjective</span></div> <div class=\"token NN \">monitor <span class=\"tag\">[NN] Noun, singular</span></div> <div class=\"token . \">. <span class=\"tag\">[.] </span></div></li><li> <div class=\"token DT \">that <span class=\"tag\">[DT] Determiner</span></div> <div class=\"token VBZ \">package <span class=\"tag\">[VBZ] Verb, 3sg pres </span></div> <div class=\"token RB \">now <span class=\"tag\">[RB] Adverb</span></div> <div class=\"token VBZ \">sells <span class=\"tag\">[VBZ] Verb, 3sg pres </span></div> <div class=\"token IN \">for <span class=\"tag\">[IN] Preposition/sub-conj</span></div> <div class=\"token IN \">about <span class=\"tag\">[IN] Preposition/sub-conj</span></div> <div class=\"token $ \">$ <span class=\"tag\">[$] </span></div> <div class=\"token NNS \">2,099 <span class=\"tag\">[NNS] Noun, plural</span></div> <div class=\"token . \">. <span class=\"tag\">[.] </span></div></li><li> <div class=\"token DT \">a <span class=\"tag\">[DT] Determiner</span></div> <div class=\"token NN \">computer <span class=\"tag\">[NN] Noun, singular</span></div> <div class=\"token VBG \">using <span class=\"tag\">[VBG] Verb, gerund </span></div> <div class=\"token DT \">the <span class=\"tag\">[DT] Determiner</span></div> <div class=\"token NNP \">more-advanced <span class=\"tag\">[NNP] Proper noun, singular</span></div> <div class=\"token NNP \">intel <span class=\"tag\">[NNP] Proper noun, singular</span></div> <div class=\"token NNP \">corp. <span class=\"tag\">[NNP] Proper noun, singular</span></div> <div class=\"token CD \">386 <span class=\"tag\">[CD] Cardinal number</span></div> <div class=\"token NN \">microprocessor <span class=\"tag\">[NN] Noun, singular</span></div> <div class=\"token , \">, <span class=\"tag\">[,] </span></div> <div class=\"token IN \">with <span class=\"tag\">[IN] Preposition/sub-conj</span></div> <div class=\"token CD \">four <span class=\"tag\">[CD] Cardinal number</span></div> <div class=\"token NNS \">megabytes <span class=\"tag\">[NNS] Noun, plural</span></div> <div class=\"token IN \">of <span class=\"tag\">[IN] Preposition/sub-conj</span></div> <div class=\"token NN \">memory <span class=\"tag\">[NN] Noun, singular</span></div> <div class=\"token CC \">and <span class=\"tag\">[CC] Coordin. Conjunction</span></div> <div class=\"token DT \">a <span class=\"tag\">[DT] Determiner</span></div> <div class=\"token NN \">100-megabyte <span class=\"tag\">[NN] Noun, singular</span></div> <div class=\"token NN \">hard <span class=\"tag\">[NN] Noun, singular</span></div> <div class=\"token NN \">disk <span class=\"tag\">[NN] Noun, singular</span></div> <div class=\"token RB \">now <span class=\"tag\">[RB] Adverb</span></div> <div class=\"token VBZ \">sells <span class=\"tag\">[VBZ] Verb, 3sg pres </span></div> <div class=\"token IN \">for <span class=\"tag\">[IN] Preposition/sub-conj</span></div> <div class=\"token $ \">$ <span class=\"tag\">[$] </span></div> <div class=\"token CD \">5,699 <span class=\"tag\">[CD] Cardinal number</span></div> <div class=\"token , \">, <span class=\"tag\">[,] </span></div> <div class=\"token RB \">down <span class=\"tag\">[RB] Adverb</span></div> <div class=\"token IN \">from <span class=\"tag\">[IN] Preposition/sub-conj</span></div> <div class=\"token $ \">$ <span class=\"tag\">[$] </span></div> <div class=\"token CD \">6,799 <span class=\"tag\">[CD] Cardinal number</span></div> <div class=\"token . \">. <span class=\"tag\">[.] </span></div></li><li> <div class=\"token JJ \">personal <span class=\"tag\">[JJ] Adjective</span></div> <div class=\"token NN \">computer <span class=\"tag\">[NN] Noun, singular</span></div> <div class=\"token NNS \">prices <span class=\"tag\">[NNS] Noun, plural</span></div> <div class=\"token IN \">for <span class=\"tag\">[IN] Preposition/sub-conj</span></div> <div class=\"token NNS \">models <span class=\"tag\">[NNS] Noun, plural</span></div> <div class=\"token JJ \">using <span class=\"tag\">[JJ] Adjective</span></div> <div class=\"token DT \">the <span class=\"tag\">[DT] Determiner</span></div> <div class=\"token NNP \">intel <span class=\"tag\">[NNP] Proper noun, singular</span></div> <div class=\"token NNS \">286 <span class=\"tag\">[NNS] Noun, plural</span></div> <div class=\"token CC \">and <span class=\"tag\">[CC] Coordin. Conjunction</span></div> <div class=\"token CD \">386 <span class=\"tag\">[CD] Cardinal number</span></div> <div class=\"token NNS \">microprocessors <span class=\"tag\">[NNS] Noun, plural</span></div> <div class=\"token , \">, <span class=\"tag\">[,] </span></div> <div class=\"token WDT \">which <span class=\"tag\">[WDT] Wh-determiner</span></div> <div class=\"token DT \">the <span class=\"tag\">[DT] Determiner</span></div> <div class=\"token NNP \">dell <span class=\"tag\">[NNP] Proper noun, singular</span></div> <div class=\"token NNP \">models <span class=\"tag\">[NNP] Proper noun, singular</span></div> <div class=\"token NNS \">use <span class=\"tag\">[NNS] Noun, plural</span></div> <div class=\"token , \">, <span class=\"tag\">[,] </span></div> <div class=\"token RB \">generally <span class=\"tag\">[RB] Adverb</span></div> <div class=\"token VBP \">have <span class=\"tag\">[VBP] Verb, non-3sg pres</span></div> <div class=\"token VBN \">been <span class=\"tag\">[VBN] Verb, past particip. </span></div> <div class=\"token VBG \">coming <span class=\"tag\">[VBG] Verb, gerund </span></div> <div class=\"token RP \">down <span class=\"tag\">[RP] Particle</span></div> <div class=\"token IN \">as <span class=\"tag\">[IN] Preposition/sub-conj</span></div> <div class=\"token NN \">chip <span class=\"tag\">[NN] Noun, singular</span></div> <div class=\"token NNS \">prices <span class=\"tag\">[NNS] Noun, plural</span></div></ol>"
      ],
      "text/plain": [
       "<IPython.core.display.HTML object>"
      ]
     },
     "metadata": {},
     "output_type": "display_data"
    }
   ],
   "source": [
    "df = to_dataframe(x_test, y_test, best_m['model'].predict(x_test))\n",
    "display_pos_tagging(df['token'], df['tag_pred'])\n",
    "# Adding the arg df['tag_true'] enables error highlighting, useful for further analysis"
   ]
  }
 ],
 "metadata": {
  "colab": {
   "name": "pos_tagging.ipynb",
   "provenance": [],
   "toc_visible": true
  },
  "kernelspec": {
   "display_name": "Python 3 (ipykernel)",
   "language": "python",
   "name": "python3"
  },
  "language_info": {
   "codemirror_mode": {
    "name": "ipython",
    "version": 3
   },
   "file_extension": ".py",
   "mimetype": "text/x-python",
   "name": "python",
   "nbconvert_exporter": "python",
   "pygments_lexer": "ipython3",
   "version": "3.7.11"
  }
 },
 "nbformat": 4,
 "nbformat_minor": 1
}
